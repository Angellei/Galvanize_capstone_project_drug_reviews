{
 "cells": [
  {
   "cell_type": "code",
   "execution_count": 5,
   "metadata": {
    "collapsed": true
   },
   "outputs": [],
   "source": [
    "import pandas as pd\n",
    "import numpy as np\n",
    "import matplotlib.pyplot as plt\n",
    "import seaborn as sns\n",
    "from statsmodels.stats.proportion import proportions_chisquare\n",
    "from scipy.stats import chisquare\n",
    "\n",
    "from bs4 import BeautifulSoup\n",
    "from collections import defaultdict\n",
    "import requests\n",
    "%matplotlib inline\n",
    "import re\n",
    "from collections import Counter\n",
    "import string"
   ]
  },
  {
   "cell_type": "code",
   "execution_count": null,
   "metadata": {},
   "outputs": [],
   "source": [
    "def drug_link(letter):\n",
    "    '''\n",
    "    INPUT: string\n",
    "    OUTPUT: list of strings\n",
    "\n",
    "    Take a query and return a list of all of the etsy usernames who have a\n",
    "    result on the first page of that query result.\n",
    "    '''\n",
    "\n",
    "    url = \"http://www.druglib.com/drugindex/rating/%s/\" % letter\n",
    "    html = requests.get(url).text\n",
    "    soup = BeautifulSoup(html, 'html.parser')\n",
    "    search = soup.find_all('a', attrs={'href':re.compile('/ratingsreviews/.*')})\n",
    "    drug_link = [\"http://www.druglib.com\"+ a['href'] for a in search]\n",
    "    return drug_link#[a for a in search]\n",
    "\n",
    "\n",
    "def scrap_one_page(test_link):\n",
    "    html = requests.get(test_link).text\n",
    "    soup = BeautifulSoup(html, 'html.parser')\n",
    "\n",
    "    ## age_geneder\n",
    "    age_geneder = soup.find_all('h2')\n",
    "    age_geneder = [a.contents[0] for a in age_geneder]\n",
    "\n",
    "    ## rating\n",
    "    rating =soup.find_all('img',attrs={'hight':\"18px\"})\n",
    "    rating = [a['src'] for a in rating]\n",
    "    rating = [rating[x:x+10] for x in range(0, len(rating),10)]\n",
    "    rating = [Counter(a)['/img/red_star.gif'] for a in rating ]\n",
    "\n",
    "    all_contents = [a.contents[0] for a in soup.find_all('td',attrs={'class':\"review3\"})]\n",
    "    ## effective\n",
    "    effective = [a for a in all_contents if 'Effective' in a]\n",
    "\n",
    "    ## effects\n",
    "    effects = [a for a in all_contents if 'Effects' in a]\n",
    "\n",
    "    all_contents_sorted = []\n",
    "    i = 0\n",
    "    for x in range(0, len(all_contents),10):\n",
    "        all_contents_sorted.append([age_geneder[i]]+[rating[i]] + all_contents[x+1:x+10])\n",
    "\n",
    "    return all_contents_sorted"
   ]
  },
  {
   "cell_type": "code",
   "execution_count": null,
   "metadata": {},
   "outputs": [],
   "source": [
    "all_lo_list = []\n",
    "for l in string.ascii_lowercase:\n",
    "    oletter_alist =[]\n",
    "    for each in  drug_link(l):\n",
    "        temp_list = scrap_one_page(each)\n",
    "        oletter_alist = oletter_alist + temp_list\n",
    "    all_lo_list = all_lo_list + oletter_alist\n"
   ]
  },
  {
   "cell_type": "code",
   "execution_count": null,
   "metadata": {
    "collapsed": true
   },
   "outputs": [],
   "source": []
  }
 ],
 "metadata": {
  "kernelspec": {
   "display_name": "Python 3",
   "language": "python",
   "name": "python3"
  },
  "language_info": {
   "codemirror_mode": {
    "name": "ipython",
    "version": 3
   },
   "file_extension": ".py",
   "mimetype": "text/x-python",
   "name": "python",
   "nbconvert_exporter": "python",
   "pygments_lexer": "ipython3",
   "version": "3.6.8"
  }
 },
 "nbformat": 4,
 "nbformat_minor": 2
}
