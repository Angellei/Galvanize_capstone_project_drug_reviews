{
 "cells": [
  {
   "cell_type": "code",
   "execution_count": 1,
   "metadata": {},
   "outputs": [],
   "source": [
    "from wit import Wit\n",
    "import pandas as pd\n",
    "import multiprocessing\n",
    "\n",
    "#SE_tem_l400.to_csv(\"wit_ai_sentment/SE_tem_l400.csv\")\n",
    "\n",
    "SE_tem_l400 = pd.read_csv(\"wit_ai_sentment/SE_tem_l400.csv\",index_col=0,header=None)[1]\n",
    "SE_tem_l400 = SE_tem_l400.iloc[3:].astype(str)\n",
    "idxs = list(SE_tem_l400.index)"
   ]
  },
  {
   "cell_type": "code",
   "execution_count": 6,
   "metadata": {},
   "outputs": [],
   "source": [
    "access_token='TPGKFHFWL6UWQ2MNBTX7LBVKZP4FNYWN'\n",
    "client = Wit(access_token)\n",
    "\n",
    "sentments = {}\n",
    "\n",
    "test = SE_tem_l400#.iloc[:10]\n",
    "\n",
    "def sent_one_message(idx):\n",
    "    b = SE_tem_l400.loc[idx]\n",
    "    try:\n",
    "        res = client.message(b)#['entities']\n",
    "        return [idx,res]\n",
    "    \n",
    "    except Exception:\n",
    "        pass\n",
    "    \n",
    "\n",
    "pool_size = 6\n",
    "pool = multiprocessing.Pool(pool_size)\n",
    "test = pool.map(sent_one_message, idxs)"
   ]
  },
  {
   "cell_type": "code",
   "execution_count": 14,
   "metadata": {},
   "outputs": [
    {
     "data": {
      "text/plain": [
       "39230"
      ]
     },
     "execution_count": 14,
     "metadata": {},
     "output_type": "execute_result"
    }
   ],
   "source": [
    "test2= [a for a in test if a != None]\n",
    "len(test2)"
   ]
  },
  {
   "cell_type": "code",
   "execution_count": 19,
   "metadata": {},
   "outputs": [
    {
     "name": "stdout",
     "output_type": "stream",
     "text": [
      "API_request.py   SE_tem_l400.csv\r\n"
     ]
    }
   ],
   "source": [
    "ls wit_ai_sentment"
   ]
  },
  {
   "cell_type": "code",
   "execution_count": 20,
   "metadata": {},
   "outputs": [],
   "source": [
    "first_quest = pd.DataFrame(test2).set_index(0)\n",
    "first_quest.to_csv(\"SE_tem_l400_first_request.scv\")"
   ]
  },
  {
   "cell_type": "code",
   "execution_count": 23,
   "metadata": {},
   "outputs": [
    {
     "data": {
      "text/plain": [
       "{'_text': 'It has no side effect, I take it in combination of Bystolic 5 Mg and Fish Oil',\n",
       " 'entities': {'sentiment': [{'confidence': 0.85948448921522,\n",
       "    'value': 'neutral'}]},\n",
       " 'msg_id': '1Onbt6YLrcojZjDJK'}"
      ]
     },
     "execution_count": 23,
     "metadata": {},
     "output_type": "execute_result"
    }
   ],
   "source": [
    "first_quest[1].iloc[0]"
   ]
  },
  {
   "cell_type": "code",
   "execution_count": 62,
   "metadata": {
    "scrolled": false
   },
   "outputs": [
    {
     "name": "stderr",
     "output_type": "stream",
     "text": [
      "/Users/jzz0026/anaconda3/lib/python3.6/site-packages/ipykernel_launcher.py:3: SettingWithCopyWarning: \n",
      "A value is trying to be set on a copy of a slice from a DataFrame.\n",
      "Try using .loc[row_indexer,col_indexer] = value instead\n",
      "\n",
      "See the caveats in the documentation: http://pandas.pydata.org/pandas-docs/stable/indexing.html#indexing-view-versus-copy\n",
      "  This is separate from the ipykernel package so we can avoid doing imports until\n",
      "/Users/jzz0026/anaconda3/lib/python3.6/site-packages/ipykernel_launcher.py:4: SettingWithCopyWarning: \n",
      "A value is trying to be set on a copy of a slice from a DataFrame.\n",
      "Try using .loc[row_indexer,col_indexer] = value instead\n",
      "\n",
      "See the caveats in the documentation: http://pandas.pydata.org/pandas-docs/stable/indexing.html#indexing-view-versus-copy\n",
      "  after removing the cwd from sys.path.\n",
      "/Users/jzz0026/anaconda3/lib/python3.6/site-packages/ipykernel_launcher.py:5: SettingWithCopyWarning: \n",
      "A value is trying to be set on a copy of a slice from a DataFrame.\n",
      "Try using .loc[row_indexer,col_indexer] = value instead\n",
      "\n",
      "See the caveats in the documentation: http://pandas.pydata.org/pandas-docs/stable/indexing.html#indexing-view-versus-copy\n",
      "  \"\"\"\n"
     ]
    },
    {
     "data": {
      "text/html": [
       "<div>\n",
       "<style>\n",
       "    .dataframe thead tr:only-child th {\n",
       "        text-align: right;\n",
       "    }\n",
       "\n",
       "    .dataframe thead th {\n",
       "        text-align: left;\n",
       "    }\n",
       "\n",
       "    .dataframe tbody tr th {\n",
       "        vertical-align: top;\n",
       "    }\n",
       "</style>\n",
       "<table border=\"1\" class=\"dataframe\">\n",
       "  <thead>\n",
       "    <tr style=\"text-align: right;\">\n",
       "      <th></th>\n",
       "      <th>text</th>\n",
       "      <th>confidence</th>\n",
       "      <th>value</th>\n",
       "    </tr>\n",
       "    <tr>\n",
       "      <th>0</th>\n",
       "      <th></th>\n",
       "      <th></th>\n",
       "      <th></th>\n",
       "    </tr>\n",
       "  </thead>\n",
       "  <tbody>\n",
       "    <tr>\n",
       "      <th>206461</th>\n",
       "      <td>It has no side effect, I take it in combinatio...</td>\n",
       "      <td>0.859484</td>\n",
       "      <td>neutral</td>\n",
       "    </tr>\n",
       "    <tr>\n",
       "      <th>92703</th>\n",
       "      <td>I used to take another oral contraceptive, whi...</td>\n",
       "      <td>0.669752</td>\n",
       "      <td>positive</td>\n",
       "    </tr>\n",
       "    <tr>\n",
       "      <th>102654</th>\n",
       "      <td>Only side effect is I like to eat a lot</td>\n",
       "      <td>0.544129</td>\n",
       "      <td>neutral</td>\n",
       "    </tr>\n",
       "    <tr>\n",
       "      <th>75612</th>\n",
       "      <td>Best thing, no side effects</td>\n",
       "      <td>0.801017</td>\n",
       "      <td>positive</td>\n",
       "    </tr>\n",
       "    <tr>\n",
       "      <th>81890</th>\n",
       "      <td>It has since subsided and the only side effect...</td>\n",
       "      <td>0.501730</td>\n",
       "      <td>neutral</td>\n",
       "    </tr>\n",
       "  </tbody>\n",
       "</table>\n",
       "</div>"
      ],
      "text/plain": [
       "                                                     text  confidence  \\\n",
       "0                                                                       \n",
       "206461  It has no side effect, I take it in combinatio...    0.859484   \n",
       "92703   I used to take another oral contraceptive, whi...    0.669752   \n",
       "102654            Only side effect is I like to eat a lot    0.544129   \n",
       "75612                         Best thing, no side effects    0.801017   \n",
       "81890   It has since subsided and the only side effect...    0.501730   \n",
       "\n",
       "           value  \n",
       "0                 \n",
       "206461   neutral  \n",
       "92703   positive  \n",
       "102654   neutral  \n",
       "75612   positive  \n",
       "81890    neutral  "
      ]
     },
     "execution_count": 62,
     "metadata": {},
     "output_type": "execute_result"
    }
   ],
   "source": [
    "first_quest[2] = first_quest[1].apply(lambda x : x['entities'])\n",
    "first_quest2 = first_quest[first_quest[2] != {}]\n",
    "first_quest2[\"confidence\"] = first_quest2[2].apply(lambda x : x['sentiment'][0]['confidence'])\n",
    "first_quest2['value'] = first_quest2[2].apply(lambda x : x['sentiment'][0]['value'])\n",
    "first_quest2['text'] = first_quest2[1].apply(lambda x: x['_text'])# = \n",
    "\n",
    "first_quest2 = first_quest2[['text','confidence','value']]\n",
    "first_quest2.head()"
   ]
  },
  {
   "cell_type": "code",
   "execution_count": 63,
   "metadata": {},
   "outputs": [
    {
     "data": {
      "text/plain": [
       "value\n",
       "negative    16765\n",
       "neutral     12010\n",
       "positive     1914\n",
       "dtype: int64"
      ]
     },
     "execution_count": 63,
     "metadata": {},
     "output_type": "execute_result"
    }
   ],
   "source": [
    "first_quest2.groupby('value').size()"
   ]
  },
  {
   "cell_type": "code",
   "execution_count": 111,
   "metadata": {},
   "outputs": [
    {
     "data": {
      "text/plain": [
       "\"Don't be scared by the minor side effects, because they are not greater then a baby\""
      ]
     },
     "execution_count": 111,
     "metadata": {},
     "output_type": "execute_result"
    }
   ],
   "source": [
    "first_quest2[first_quest2['value'] == 'negative'].sample(1)['text'].iloc[0]"
   ]
  },
  {
   "cell_type": "code",
   "execution_count": null,
   "metadata": {
    "collapsed": true
   },
   "outputs": [],
   "source": []
  }
 ],
 "metadata": {
  "kernelspec": {
   "display_name": "Python 3",
   "language": "python",
   "name": "python3"
  }
 },
 "nbformat": 4,
 "nbformat_minor": 2
}
