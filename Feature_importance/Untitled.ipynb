{
 "cells": [
  {
   "cell_type": "code",
   "execution_count": 1,
   "metadata": {},
   "outputs": [],
   "source": [
    "import pandas as pd"
   ]
  },
  {
   "cell_type": "code",
   "execution_count": 12,
   "metadata": {},
   "outputs": [
    {
     "data": {
      "text/plain": [
       "iud             0.000000\n",
       "excruci         0.000000\n",
       "prozac          0.000000\n",
       "discharg        0.000000\n",
       "self            0.000000\n",
       "exact           0.000000\n",
       "5mg             0.000000\n",
       "lighter         0.000000\n",
       "movement        0.000000\n",
       "difficulti      0.000000\n",
       "state           0.000000\n",
       "smell           0.000000\n",
       "relat           0.000000\n",
       "minor           0.000000\n",
       "45              0.000000\n",
       "episod          0.000000\n",
       "concern         0.000000\n",
       "concentr        0.000000\n",
       "fibromyalgia    0.000000\n",
       "allergi         0.000000\n",
       "doubl           0.000000\n",
       "happier         0.000000\n",
       "room            0.000000\n",
       "basic           0.000000\n",
       "scari           0.000000\n",
       "receiv          0.000000\n",
       "pay             0.000000\n",
       "adjust          0.000000\n",
       "addict          0.000000\n",
       "1st             0.000000\n",
       "                  ...   \n",
       "worst           0.001450\n",
       "week            0.001450\n",
       "stomach         0.001657\n",
       "month           0.001864\n",
       "terribl         0.001864\n",
       "happi           0.001864\n",
       "took            0.002071\n",
       "sever           0.002071\n",
       "thank           0.002071\n",
       "wonder          0.002278\n",
       "medicin         0.002485\n",
       "switch          0.002485\n",
       "miracl          0.002485\n",
       "use             0.002692\n",
       "gone            0.002692\n",
       "stop            0.002899\n",
       "far             0.002899\n",
       "best            0.003106\n",
       "better          0.003106\n",
       "love            0.003313\n",
       "amaz            0.004142\n",
       "caus            0.004142\n",
       "good            0.004349\n",
       "help            0.005384\n",
       "effect          0.008076\n",
       "life            0.008076\n",
       "great           0.010975\n",
       "onli            0.011390\n",
       "work            0.019052\n",
       "year            0.023400\n",
       "Name: Medium, Length: 1000, dtype: float64"
      ]
     },
     "execution_count": 12,
     "metadata": {},
     "output_type": "execute_result"
    }
   ],
   "source": [
    "df = pd.read_csv(\"perm_fea_imp_three.csv\",index_col=0)\n",
    "df['Medium'].sort_values()"
   ]
  },
  {
   "cell_type": "code",
   "execution_count": null,
   "metadata": {},
   "outputs": [],
   "source": []
  },
  {
   "cell_type": "code",
   "execution_count": null,
   "metadata": {},
   "outputs": [],
   "source": []
  }
 ],
 "metadata": {
  "kernelspec": {
   "display_name": "Environment (conda_amazonei_tensorflow_p36)",
   "language": "python",
   "name": "conda_amazonei_tensorflow_p36"
  },
  "language_info": {
   "codemirror_mode": {
    "name": "ipython",
    "version": 3
   },
   "file_extension": ".py",
   "mimetype": "text/x-python",
   "name": "python",
   "nbconvert_exporter": "python",
   "pygments_lexer": "ipython3",
   "version": "3.6.5"
  }
 },
 "nbformat": 4,
 "nbformat_minor": 2
}
