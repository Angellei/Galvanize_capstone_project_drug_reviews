{
 "cells": [
  {
   "cell_type": "code",
   "execution_count": 1,
   "metadata": {},
   "outputs": [],
   "source": [
    "import pandas as pd\n",
    "import numpy as np\n",
    "import matplotlib.pyplot as plt\n",
    "import pickle\n",
    "#from bs4 import BeautifulSoup\n",
    "from collections import defaultdict\n",
    "#import requests\n",
    "%matplotlib inline\n",
    "from sklearn.svm import SVC\n",
    "from nltk.stem.snowball import SnowballStemmer\n",
    "\n",
    "## remove special symbol\n",
    "\n",
    "def clean_text(df_tem3,col):\n",
    "    df_tem3[col] = df_tem3[col].str.replace(\"&#039;\",'\\'')\n",
    "    df_tem3[col] = df_tem3[col].str.replace(\"\\\"\",\"\").str.lower()\n",
    "    df_tem3[col] = df_tem3[col].str.replace( r\"(\\\\r)|(\\\\n)|(\\\\t)|(\\\\f)|(\\.)|(\\;)|(\\:)|(\\!)|(\\')|(\\?)|(\\,)|(\\\")|(\\()|(\\))|(\\[)|(\\])|(&#039;)|(\\d\\s)|(\\d)|(\\/)\",\"\")\n",
    "    df_tem3[col] = df_tem3[col].str.replace(\"\\\"\",\"\").str.lower()\n",
    "    df_tem3[col] = df_tem3[col].str.replace( r\"(\\$)|(\\-)|(\\\\)|(\\s{2,})\",\" \")\n",
    "    df_tem3[col].sample(1).iloc[0]\n",
    "\n",
    "    stemmer = SnowballStemmer('english')\n",
    "    df_tem3[col] = df_tem3[col].apply(lambda x: ' '.join([stemmer.stem(word) for word in x.split(\" \")]))\n",
    "    return df_tem3[col]\n",
    "\n",
    "\n",
    "np.random.seed(9)"
   ]
  },
  {
   "cell_type": "code",
   "execution_count": 5,
   "metadata": {},
   "outputs": [],
   "source": [
    "df = pd.read_csv(\"../web_scrap.csv\",index_col=0).drop_duplicates()"
   ]
  },
  {
   "cell_type": "code",
   "execution_count": 6,
   "metadata": {},
   "outputs": [],
   "source": [
    "eight = clean_text(df,'8')\n",
    "nine = clean_text(df,'9')\n",
    "ten = clean_text(df,'10')"
   ]
  },
  {
   "cell_type": "code",
   "execution_count": 7,
   "metadata": {},
   "outputs": [],
   "source": [
    "df_tem3 = eight + ' ' + nine+' '+ten"
   ]
  },
  {
   "cell_type": "code",
   "execution_count": 8,
   "metadata": {},
   "outputs": [],
   "source": [
    "#y = ((df['3'] != ' No Side Effects') & (df['3'] != ' Mild Side Effects')).astype(int)\n",
    "y = (df['3'] != ' No Side Effects').astype(int)\n",
    "X = df_tem3"
   ]
  },
  {
   "cell_type": "code",
   "execution_count": 9,
   "metadata": {},
   "outputs": [
    {
     "data": {
      "text/plain": [
       "0.7084134615384615"
      ]
     },
     "execution_count": 9,
     "metadata": {},
     "output_type": "execute_result"
    }
   ],
   "source": [
    "y.mean()"
   ]
  },
  {
   "cell_type": "code",
   "execution_count": 10,
   "metadata": {
    "scrolled": false
   },
   "outputs": [
    {
     "name": "stdout",
     "output_type": "stream",
     "text": [
      " rais blood pressur dure the initi stage when increas doseag becam quit shaki at time and it appear to be hard to start to walk muscl seem to be hesit these disappear when stop take\n",
      "\n",
      "===========================\n",
      " i develop an anorexia i stop eat and lost so much weight im about ft now and weigh about lbs which is realli skinni for my age and height if i wouldnt have stop i would be skin and bone i got to a point where i lost color and im now way too skinni anoth side effect that i develop is insomnia i have a veri hard time sleep i cant fall asleep until about and that everi night it horribl anoth side effect that veri serious is develop of depress i had to go on anti depress becaus of the drug about month after use adderal it depress you so much after school id get home and be so depress id cri and just feel so misser i was serious depress a fact that everyon should understand about adderal is that it in a way a watter down version of meth the side effect are the same but not as sever but it still bad it will mess up your teeth by give you a veri dri mouth your weight and most of all your brain chemistri i went from add to depress to now adhd im go back on stimul drug like adderal when school start i dont know how itll work out becaus i now have a toler to it and im get new treatment i dont know whatll happen or anyth but i just wantto get through school anyon that will be perscrib to this should research on it and get the fact research for a long time not just one articl read get as much info as possibl the side effect are so sever that you should realli know what your expos yourself to theyr all horribl especi the addict that you get to it im addict to it and cant stop crave it i feel like i need it so bad it been month and still i want it extrem bad be care what choic you make it get the job done hut will screw up your life this is just my experi it may be differ for you but still do your research\n",
      "\n",
      "===========================\n",
      " flush face sleepi equilibrium out of balanc\n",
      "\n",
      "===========================\n",
      " the main side effect experienc includ loss of appetit and increas anxieti especi toward the end of the drug effect period about hour this is an improv over short act focalin where these side effect was experienc up to xs a day i did not experi ani other side effect\n",
      "\n",
      "===========================\n",
      " the side effect are the same as the benefit to me\n",
      "\n",
      "===========================\n",
      " i do for some unknown reason still have side effect from the betaseron they dont happen everi inject and there is no pattern i will have a fever andor chill and i hurt all over it feel sometim like even my hair hurt and my inject site do have a tendenc to form larg red circl but they are not infect just a side effect and for some reason the inject on my leg hurt the worst\n",
      "\n",
      "===========================\n",
      " vomit abdomin pain sweat profus bloat nausea fever sever diarrhea i was so concern about the effect  they came at night  that i contempl take myself to an emerg room\n",
      "\n",
      "===========================\n",
      " the medicin mtx was effect for fifteen year week dose of enbrel is quiet effect as sson as i tke mtx day after the enbrel inject i am have sever swell on my knee joint other ont remain normal may be cronic kidney failur\n",
      "\n",
      "===========================\n",
      " common breakthrough bleed and skin more suscept to scar\n",
      "\n",
      "===========================\n",
      " weight gain weight gain weight gain i dont know if it just becaus of the methadon slow your metabol or if it is caus by the need to eat sweet but i have gain at least lbs sinc start methadon year ago it is like a combin of both i have also seen a sever declin with my teeth and the onli caus i can think of is methadon i have taken such good care of my teeth as far as self care and make sure i see the dentist everi month and that still hasnt help has anyon els notic this i have start have sever pain in my joint as well especi my knee i can honest say though that without this medic i probabl wouldnt be aliv to experi ani of these minor side effect without a doubt methadon along with the therapi i receiv while in the clinic and my famili support has save my life i will take the weight gain and minor discomfort ani day at least i am here to write about it\n",
      "\n",
      "===========================\n",
      " +night time energi surg +reduct in tast sensit food interest +late morn earli afternoon fatigu +occasion headach +less organ thought less awar of detail +hand tremor +add actual made wors \n",
      "\n",
      "===========================\n",
      " i had veri bad nightmar for about two night the nightmar wre of me hurt my famili i could see myself kill my famili it seem so veri real to me i have never experienc ani thing like that befor in my life i told my husband to stay up and pleas watch me to make sure do not do ani thingso i did not take them ani more\n",
      "\n",
      "===========================\n",
      " horribl mood swing cri episod confus \n",
      "\n",
      "===========================\n",
      " i becam increas agit and angri after be on it for month i tri to commit suicid\n",
      "\n",
      "===========================\n",
      " hot flash night sweat and vagin dryness\n",
      "\n",
      "===========================\n",
      " dizzi and fatigu\n",
      "\n",
      "===========================\n",
      " after introduc lotrel within two week i notic small red dot appear on my ankl which i thought was just a heat rash i develop petechia which is the bleed of small capillari in the skin or mucous membran it appear as round pinpoint size dot that vari in colour from red to blue or purpl these dot most common appear on the leg but can appear all over the bodi also an onset on acn develop on my back at about the same time which was quit sever and i have never had acn relat problem even in my youth \n",
      "\n",
      "===========================\n",
      " side effect for me includ heavi in my limb muscl ach tight feel in head flush increas heart rate drowsi\n",
      "\n",
      "===========================\n",
      " burn and red had to stop use it was therefor not effect for me either my skin was too fragil or the product was just too strong for someon y age perhap\n",
      "\n",
      "===========================\n",
      " the side effect for patient were an upset stomach direct after take pill and veri disturb and vivid dream patient found that regard the stomach upset it was less import to have food in your stomach befor take the pill stomach still got upset than to actual take the pill in the midst of eat ie eat some food take the pill then eat some more this method of take the pill virtual elimin the stomach upset problem as to the vivid dream that is whi the patient onli took one pill in the morn and did not take the pill in the even although patient still occasion had vivid dream the incid was far less often than when take the pill twice per day\n",
      "\n",
      "===========================\n"
     ]
    }
   ],
   "source": [
    "for se_com in df[((df['3'] != ' No Side Effects') & (df['3'] != ' Mild Side Effects'))]['9'].sample(20):\n",
    "    print(se_com+'\\n')\n",
    "    print(\"===========================\")"
   ]
  },
  {
   "cell_type": "code",
   "execution_count": 11,
   "metadata": {},
   "outputs": [
    {
     "name": "stdout",
     "output_type": "stream",
     "text": [
      " none\n",
      "\n",
      "===========================\n",
      " if next dose not taken in a time manner effect wear off veri quick and sudden veri tire small bubbl in head at time if dosag even slight too high then notic heart palpit present along with increas heart rate activ dream if taken late in the day \n",
      "\n",
      "===========================\n",
      " i read the pamphlet and there are a few side effect such as dizzi but i didnt suffer ani\n",
      "\n",
      "===========================\n",
      " the main side effect ive had is irregular period first it was annoy not know when my period when come then as my period becam less frequent it was actual kind of nice howev now i feel like about or day into my cycl i start to bloat like normal but dont start or get relief for about anoth thirti or so day so now i kinda feel like it bloat or acn to choos from\n",
      "\n",
      "===========================\n",
      " have not experienc ani side effect except the plateau in visibl result\n",
      "\n",
      "===========================\n",
      " none\n",
      "\n",
      "===========================\n",
      " drowsi both the lexapro and the cymbalta make me tire dure the day neccesit a nap \n",
      "\n",
      "===========================\n",
      " mild nausea at first gradual disappear after about a month of treatment \n",
      "\n",
      "===========================\n",
      " slight discomfort of the prostat felt as though it was a bit compress or enlarg not anyth major howev sexual function and urin were just fine\n",
      "\n",
      "===========================\n",
      " no negat side effect were experienc\n",
      "\n",
      "===========================\n",
      " i have experienc no advers side effect at all while take this medic\n",
      "\n",
      "===========================\n",
      " none\n",
      "\n",
      "===========================\n",
      " none were encount thus ensur complianc as state abov\n",
      "\n",
      "===========================\n",
      " no side effect\n",
      "\n",
      "===========================\n",
      " increas hair growth on shoulder back and chest decreas in my sex drive\n",
      "\n",
      "===========================\n",
      " i havent notic ani side effect\n",
      "\n",
      "===========================\n",
      " the side effect of take tramadol for year is addict if i miss a dose i experi typic withdraw symptom eg nausea headach restless leg syndrom stomach cramp\n",
      "\n",
      "===========================\n",
      " sick vommit sleepi\n",
      "\n",
      "===========================\n",
      " sometim i felt nausea except that there was no other signific side effect\n",
      "\n",
      "===========================\n",
      " none that i could identifi\n",
      "\n",
      "===========================\n"
     ]
    }
   ],
   "source": [
    "for se_com in df[~((df['3'] != ' No Side Effects') & (df['3'] != ' Mild Side Effects'))]['9'].sample(20):\n",
    "    print(se_com+'\\n')\n",
    "    print(\"===========================\")"
   ]
  },
  {
   "cell_type": "code",
   "execution_count": 12,
   "metadata": {},
   "outputs": [],
   "source": [
    "# Split Training & Test Data\n",
    "from sklearn.model_selection import train_test_split\n",
    "\n",
    "X_train, X_test, y_train, y_test = train_test_split(X, y,test_size = 0.2)"
   ]
  },
  {
   "cell_type": "code",
   "execution_count": 13,
   "metadata": {},
   "outputs": [],
   "source": [
    "import tensorflow as tf\n",
    "import tensorflow \n",
    "\n",
    "#from tensorflow import tensorflow.keras\n",
    "\n",
    "#from keras.datasets import imdb\n",
    "from tensorflow.keras.models import Sequential\n",
    "from tensorflow.keras.layers import Dense\n",
    "from tensorflow.keras.layers import LSTM\n",
    "from tensorflow.keras.layers import Embedding\n",
    "from tensorflow.keras.preprocessing import sequence\n",
    "from tensorflow.keras.preprocessing.text import Tokenizer\n",
    "from tensorflow.keras.layers import Conv1D\n",
    "from tensorflow.keras.layers import MaxPool1D \n",
    "from tensorflow.keras.layers import Dropout\n",
    "from tensorflow.keras.layers import Bidirectional\n",
    "\n",
    "\n",
    "\n",
    "# fix random seed for reproducibility\n",
    "\n",
    "MAX_NB_WORDS = 500\n",
    "max_review_length = 500\n",
    "EMBEDDING_DIM = 160\n"
   ]
  },
  {
   "cell_type": "code",
   "execution_count": 14,
   "metadata": {},
   "outputs": [],
   "source": [
    "# Tokenize the data\n",
    "tokenizer = Tokenizer(num_words = MAX_NB_WORDS, \n",
    "                      filters='!\"#$%&()*+,-./:;<=>?@[\\]^_`{|}~',\n",
    "                      lower=True, split=' ', char_level=False, \n",
    "                      oov_token=None, document_count=0)\n",
    "\n",
    "tokenizer.fit_on_texts(X_train)\n",
    "train_sequences = tokenizer.texts_to_sequences(X_train)\n",
    "test_sequences = tokenizer.texts_to_sequences(X_test)\n",
    "\n",
    "# truncate and pad input sequences\n",
    "X_train = sequence.pad_sequences(train_sequences, maxlen=max_review_length)\n",
    "X_test = sequence.pad_sequences(test_sequences, maxlen = max_review_length)\n",
    "\n",
    "word_index = tokenizer.word_index"
   ]
  },
  {
   "cell_type": "code",
   "execution_count": 15,
   "metadata": {},
   "outputs": [],
   "source": [
    "nb_words  = min(MAX_NB_WORDS, len(word_index))\n",
    "lstm_out = max_review_length\n",
    "\n",
    "model = Sequential()\n",
    "model.add(Embedding(nb_words,EMBEDDING_DIM,input_length=max_review_length))\n",
    "#model.add(Dropout(0.2))\n",
    "\n",
    "## add conv using kernal No.32 and size 3x3, actiation='relu'(rm neg)\n",
    "# model.add(Conv1D(filters=32, kernel_size=3, padding='same', activation='relu'))\n",
    "# model.add(MaxPool1D(pool_size=2))\n",
    "model.add(Bidirectional(LSTM(20, return_sequences=True)))\n",
    "#model.add(Dropout(0.2))\n",
    "model.add(Bidirectional(LSTM(20)))\n",
    "#model.add(Attention(max_review_length))\n",
    "model.add(Dense(1, activation = 'sigmoid'))\n",
    "\n",
    "## one-code mutiple categories targets use 'categorical_crossentropy' not 'binary_crossentropy'\n",
    "model.compile(loss='binary_crossentropy',optimizer='adam',metrics =['accuracy'])"
   ]
  },
  {
   "cell_type": "code",
   "execution_count": 16,
   "metadata": {},
   "outputs": [
    {
     "name": "stdout",
     "output_type": "stream",
     "text": [
      "_________________________________________________________________\n",
      "Layer (type)                 Output Shape              Param #   \n",
      "=================================================================\n",
      "embedding (Embedding)        (None, 500, 160)          80000     \n",
      "_________________________________________________________________\n",
      "bidirectional (Bidirectional (None, 500, 40)           28960     \n",
      "_________________________________________________________________\n",
      "bidirectional_1 (Bidirection (None, 40)                9760      \n",
      "_________________________________________________________________\n",
      "dense (Dense)                (None, 1)                 41        \n",
      "=================================================================\n",
      "Total params: 118,761\n",
      "Trainable params: 118,761\n",
      "Non-trainable params: 0\n",
      "_________________________________________________________________\n"
     ]
    }
   ],
   "source": [
    "model.summary()"
   ]
  },
  {
   "cell_type": "code",
   "execution_count": 17,
   "metadata": {},
   "outputs": [
    {
     "name": "stderr",
     "output_type": "stream",
     "text": [
      "/home/ubuntu/anaconda3/envs/amazonei_tensorflow_p36/lib/python3.6/site-packages/tensorflow/python/ops/gradients_impl.py:112: UserWarning: Converting sparse IndexedSlices to a dense Tensor of unknown shape. This may consume a large amount of memory.\n",
      "  \"Converting sparse IndexedSlices to a dense Tensor of unknown shape. \"\n"
     ]
    },
    {
     "name": "stdout",
     "output_type": "stream",
     "text": [
      "Train on 2662 samples, validate on 666 samples\n",
      "Epoch 1/40\n",
      "2662/2662 [==============================] - 61s 23ms/step - loss: 0.6085 - acc: 0.7066 - val_loss: 0.5590 - val_acc: 0.7402\n",
      "Epoch 2/40\n",
      "2662/2662 [==============================] - 58s 22ms/step - loss: 0.5100 - acc: 0.7449 - val_loss: 0.4849 - val_acc: 0.7553\n",
      "Epoch 3/40\n",
      "2662/2662 [==============================] - 58s 22ms/step - loss: 0.3872 - acc: 0.8407 - val_loss: 0.4743 - val_acc: 0.7943\n",
      "Epoch 4/40\n",
      "2662/2662 [==============================] - 59s 22ms/step - loss: 0.3364 - acc: 0.8711 - val_loss: 0.4531 - val_acc: 0.8243\n",
      "Epoch 5/40\n",
      "2662/2662 [==============================] - 59s 22ms/step - loss: 0.3145 - acc: 0.8828 - val_loss: 0.4766 - val_acc: 0.8243\n",
      "Epoch 6/40\n",
      "2662/2662 [==============================] - 59s 22ms/step - loss: 0.2490 - acc: 0.9121 - val_loss: 0.5183 - val_acc: 0.8033\n",
      "Epoch 7/40\n",
      "2662/2662 [==============================] - 58s 22ms/step - loss: 0.2138 - acc: 0.9290 - val_loss: 0.5645 - val_acc: 0.8018\n"
     ]
    }
   ],
   "source": [
    "from tensorflow.keras.callbacks import EarlyStopping, ModelCheckpoint\n",
    "\n",
    "# Run LSTM Model\n",
    "batch = 32 \n",
    "epoch = 40\n",
    "\n",
    "early_stopping = EarlyStopping(patience = 3)\n",
    "\n",
    "LSTM_model = model.fit(X_train, y_train, batch_size=batch, epochs=epoch,\n",
    "                       validation_split=0.2,callbacks=[early_stopping], shuffle = True)\n",
    "\n",
    "best_score = min(LSTM_model.history['val_loss'])"
   ]
  },
  {
   "cell_type": "code",
   "execution_count": 18,
   "metadata": {},
   "outputs": [],
   "source": [
    "LSTM_model_history = pd.DataFrame(LSTM_model.history)\n",
    "file_name = \"web_20_bilstm_2layer_se_nor_comm.csv\"\n",
    "LSTM_model_history.to_csv( file_name)"
   ]
  },
  {
   "cell_type": "code",
   "execution_count": 19,
   "metadata": {},
   "outputs": [
    {
     "name": "stdout",
     "output_type": "stream",
     "text": [
      "        acc      loss   val_acc  val_loss\n",
      "0  0.706612  0.608465  0.740240  0.558997\n",
      "1  0.744929  0.509962  0.755255  0.484864\n",
      "2  0.840721  0.387210  0.794294  0.474315\n",
      "3  0.871150  0.336354  0.824324  0.453066\n",
      "4  0.882795  0.314517  0.824324  0.476578\n",
      "5  0.912096  0.249026  0.803303  0.518334\n",
      "6  0.929001  0.213846  0.801802  0.564519\n"
     ]
    }
   ],
   "source": [
    "print(LSTM_model_history)"
   ]
  },
  {
   "cell_type": "code",
   "execution_count": 20,
   "metadata": {},
   "outputs": [],
   "source": [
    "#model.save(\"web_20_bilstm_2layer.h5\")"
   ]
  },
  {
   "cell_type": "code",
   "execution_count": 21,
   "metadata": {},
   "outputs": [
    {
     "data": {
      "text/plain": [
       "Text(0.5,0,'epoch')"
      ]
     },
     "execution_count": 21,
     "metadata": {},
     "output_type": "execute_result"
    },
    {
     "data": {
      "image/png": "[encoded data removed]",
      "text/plain": [
       "<Figure size 432x288 with 1 Axes>"
      ]
     },
     "metadata": {},
     "output_type": "display_data"
    }
   ],
   "source": [
    "plt.plot(LSTM_model.history['loss'],label='train')\n",
    "plt.plot(LSTM_model.history['val_loss'],label='validation')\n",
    "plt.ylabel(\"loss\")\n",
    "plt.xlabel(\"epoch\")"
   ]
  },
  {
   "cell_type": "code",
   "execution_count": 22,
   "metadata": {},
   "outputs": [
    {
     "name": "stdout",
     "output_type": "stream",
     "text": [
      "832/832 [==============================] - 2s 2ms/step\n"
     ]
    },
    {
     "data": {
      "text/plain": [
       "[0.5463950987905264, 0.8076922979492408]"
      ]
     },
     "execution_count": 22,
     "metadata": {},
     "output_type": "execute_result"
    }
   ],
   "source": [
    "from sklearn.metrics import accuracy_score, confusion_matrix\n",
    "from tensorflow.keras.models import load_model\n",
    "#model = load_model(\"web_20_bilstm_2layer.h5\")\n",
    "#LSTM_model = model.fit(X_train, y_train, batch_size=batch, epochs=epoch)\n",
    "\n",
    "accr = model.evaluate(X_test,y_test, batch_size = 100)\n",
    "accr"
   ]
  },
  {
   "cell_type": "code",
   "execution_count": 23,
   "metadata": {},
   "outputs": [],
   "source": [
    "#             acc      loss   val_acc  val_loss\n",
    "#     0  0.670173  0.597171  0.770270  0.465685\n",
    "#     1  0.800902  0.425928  0.779279  0.446773\n",
    "#     2  0.849737  0.355651  0.794294  0.434360\n",
    "#     3  0.869647  0.318369  0.800300  0.442692\n",
    "#     4  0.886927  0.287467  0.801802  0.473488\n",
    "#     5  0.900826  0.256769  0.792793  0.538440\n",
    "\n",
    "#     [0.9755449504233323, 0.6394230763499553]\n",
    "\n",
    "#     array([[373, 133],\n",
    "#            [167, 159]])"
   ]
  },
  {
   "cell_type": "code",
   "execution_count": 24,
   "metadata": {},
   "outputs": [
    {
     "data": {
      "text/plain": [
       "array([[161, 103],\n",
       "       [ 57, 511]])"
      ]
     },
     "execution_count": 24,
     "metadata": {},
     "output_type": "execute_result"
    }
   ],
   "source": [
    "y_test_pred = model.predict_classes(X_test)\n",
    "confusion_matrix(y_test,y_test_pred)"
   ]
  },
  {
   "cell_type": "markdown",
   "metadata": {},
   "source": [
    "## predict sentence"
   ]
  },
  {
   "cell_type": "code",
   "execution_count": 25,
   "metadata": {},
   "outputs": [],
   "source": [
    "first_quest2 = pd.read_csv(\"../wit_ai_sentment/SE_tem_l400_first_request.ccv\",index_col=0)"
   ]
  },
  {
   "cell_type": "code",
   "execution_count": 26,
   "metadata": {},
   "outputs": [],
   "source": [
    "y_wit = ((first_quest2['value'] == \"negative\")).astype(int)\n",
    "X_wit = clean_text(first_quest2,'text')"
   ]
  },
  {
   "cell_type": "code",
   "execution_count": 27,
   "metadata": {},
   "outputs": [],
   "source": [
    "X_wit_sequences = tokenizer.texts_to_sequences(X_wit)\n",
    "X_wit_trans = sequence.pad_sequences(X_wit_sequences, maxlen = max_review_length)\n"
   ]
  },
  {
   "cell_type": "code",
   "execution_count": 28,
   "metadata": {},
   "outputs": [
    {
     "name": "stdout",
     "output_type": "stream",
     "text": [
      "30689/30689 [==============================] - 71s 2ms/step\n"
     ]
    },
    {
     "data": {
      "text/plain": [
       "[1.1547412653465636, 0.5557039979344073]"
      ]
     },
     "execution_count": 28,
     "metadata": {},
     "output_type": "execute_result"
    }
   ],
   "source": [
    "accr = model.evaluate(X_wit_trans,y_wit, batch_size = 100)\n",
    "accr"
   ]
  },
  {
   "cell_type": "code",
   "execution_count": 29,
   "metadata": {},
   "outputs": [
    {
     "data": {
      "text/plain": [
       "array([[ 2025, 11899],\n",
       "       [ 1736, 15029]])"
      ]
     },
     "execution_count": 29,
     "metadata": {},
     "output_type": "execute_result"
    }
   ],
   "source": [
    "y_test_pred = model.predict_classes(X_wit_trans)\n",
    "confusion_matrix(y_wit,y_test_pred)"
   ]
  },
  {
   "cell_type": "code",
   "execution_count": 30,
   "metadata": {},
   "outputs": [],
   "source": [
    "## [1.620907984605271, 0.5002443838369665]\n",
    "## array([[11736,  2188],\n",
    "##       [13149,  3616]])"
   ]
  },
  {
   "cell_type": "code",
   "execution_count": 31,
   "metadata": {},
   "outputs": [
    {
     "name": "stdout",
     "output_type": "stream",
     "text": [
      "i did lose weight but the side effect gastric distress nausea were so bad i had to discontinu it\n",
      "\n",
      "==================================\n",
      "depress was much better but the side effect were too bad to risk\n",
      "\n",
      "==================================\n",
      "other than that the side effect have been constip\n",
      "\n",
      "==================================\n",
      "the day after take it i have horrend dri mouth which wouldnt be the worst side effect if it was actual work for me\n",
      "\n",
      "==================================\n",
      "no side effect at first but onli side effect to complain of now are slight nausea headach and slight diarrhea\n",
      "\n",
      "==================================\n",
      "no notic side effect thus far\n",
      "\n",
      "==================================\n",
      "my side effect are a littl sleepi and mayb some tired but noth compar to the debilit of a migrain\n",
      "\n",
      "==================================\n",
      "treatment plan is month i am on my fourth dose and as the month go on the side effect are get wors\n",
      "\n",
      "==================================\n",
      "the side effect from naltrexon are minor tired and anxieti and sometim heart palpit\n",
      "\n",
      "==================================\n",
      "i hope it continu to work well and doesnt caus ani intoler side effect\n",
      "\n",
      "==================================\n"
     ]
    }
   ],
   "source": [
    "for sen in X_wit[y_test_pred.flatten() == 1].sample(10):\n",
    "    print(sen+\"\\n\")\n",
    "    print(\"==================================\")"
   ]
  },
  {
   "cell_type": "code",
   "execution_count": 32,
   "metadata": {},
   "outputs": [],
   "source": [
    "## 8/10(7.5/10)"
   ]
  },
  {
   "cell_type": "code",
   "execution_count": null,
   "metadata": {},
   "outputs": [],
   "source": []
  },
  {
   "cell_type": "code",
   "execution_count": 33,
   "metadata": {},
   "outputs": [
    {
     "name": "stdout",
     "output_type": "stream",
     "text": [
      "i dont feel cut off like i did on ssri med and i dont have ani side effect at all all my blood work has been perfect and i am realli pleas beyond ani expect with the effect and the total lack of side effect\n",
      "\n",
      "==================================\n",
      "it has work well with no side effect\n",
      "\n",
      "==================================\n",
      "i have been on amitiza for over year now and have had no side effect at all if you have ani side effect from it i would bet they are better than deal with the constip\n",
      "\n",
      "==================================\n",
      "no side effect no weight gain no mood swing none of those\n",
      "\n",
      "==================================\n",
      "for tabl mg i didnt have ani side effect after sex i slept like a babi im happi &amp\n",
      "\n",
      "==================================\n",
      "the onli side effect i notic is that my shoulder no longer has me cri in tear over the pain and my psoriasi is gone\n",
      "\n",
      "==================================\n",
      "the onli negat side effect i experi is the inabl to fall asleep at night\n",
      "\n",
      "==================================\n",
      "ive been take mg for year and have had no side effect at all\n",
      "\n",
      "==================================\n",
      "have not notic ani side effect as of yet so work pretti good\n",
      "\n",
      "==================================\n",
      "i have been take the med for two month and i have as of yet had ani recogniz side effect and the med seem to exacerb the reason im take it for the pain and psoriasi symptom\n",
      "\n",
      "==================================\n"
     ]
    }
   ],
   "source": [
    "for sen in X_wit[y_test_pred.flatten() == 0].sample(10):\n",
    "    print(sen+\"\\n\")\n",
    "    print(\"==================================\")"
   ]
  },
  {
   "cell_type": "code",
   "execution_count": 34,
   "metadata": {},
   "outputs": [],
   "source": [
    "## 5/10 (5.5/10)"
   ]
  },
  {
   "cell_type": "markdown",
   "metadata": {},
   "source": [
    "## predict comments with wit lableled"
   ]
  },
  {
   "cell_type": "code",
   "execution_count": 35,
   "metadata": {},
   "outputs": [],
   "source": [
    "drugsComTrain = pd.read_csv('../drugsCom_raw/drugsComTrain_raw.tsv',sep='\\t',index_col=0)#.sample(40000)\n"
   ]
  },
  {
   "cell_type": "code",
   "execution_count": 36,
   "metadata": {
    "scrolled": false
   },
   "outputs": [],
   "source": [
    "first_quest3 = pd.merge(first_quest2,drugsComTrain,left_index=True,right_index=True,how='left')\n",
    "y_wit = ((first_quest3['value'] == \"negative\")).astype(int)\n",
    "X_wit = clean_text(first_quest3,'review')"
   ]
  },
  {
   "cell_type": "code",
   "execution_count": 37,
   "metadata": {},
   "outputs": [
    {
     "name": "stdout",
     "output_type": "stream",
     "text": [
      "30689/30689 [==============================] - 71s 2ms/step\n"
     ]
    },
    {
     "data": {
      "text/plain": [
       "[1.2934048733227554, 0.5715077027589633]"
      ]
     },
     "execution_count": 37,
     "metadata": {},
     "output_type": "execute_result"
    }
   ],
   "source": [
    "X_wit_sequences = tokenizer.texts_to_sequences(X_wit)\n",
    "X_wit_trans = sequence.pad_sequences(X_wit_sequences, maxlen = max_review_length)\n",
    "\n",
    "accr = model.evaluate(X_wit_trans,y_wit, batch_size = 100)\n",
    "accr"
   ]
  },
  {
   "cell_type": "code",
   "execution_count": 38,
   "metadata": {},
   "outputs": [
    {
     "data": {
      "text/plain": [
       "array([[ 3339, 10585],\n",
       "       [ 2565, 14200]])"
      ]
     },
     "execution_count": 38,
     "metadata": {},
     "output_type": "execute_result"
    }
   ],
   "source": [
    "y_test_pred = model.predict_classes(X_wit_trans)\n",
    "confusion_matrix(y_wit,y_test_pred)"
   ]
  },
  {
   "cell_type": "code",
   "execution_count": 39,
   "metadata": {},
   "outputs": [
    {
     "name": "stdout",
     "output_type": "stream",
     "text": [
      "i had to switch from avian to sronyx about week ago becaus my pharmaci ran out of my normal pill and honest i can not wait till this pack is done becaus ive gotten terribl side effect ive gotten extrem nausea crazi discharg constip sore breast and daili headach ive also been realli irrit im scare to see what my period will be like\n",
      "\n",
      "==================================\n",
      "i had everi neurolog side effect possibl lead to a trip to the er i took it for ten day it took at least two week to get complet out of my system and i was back to a normal self for pain it work great\n",
      "\n",
      "==================================\n",
      "i have been on this med day now the first day i made the mistak of take it night befor bed boy was that s mistak up all night realli bad insomnia day i took it in the afternoon when home from work at pm i curl up on lazi boy and did not want to move end pass out due to pure exhaust needless to say i did not get up till the next morn hrs later day about hour after take develop slight nausea and the feel of extrem skin sensat like thing crawl on me but those do subsid after about coupl hour on mg and go to stick with it and ride it out for a few week to see is side effect lessen also on mg of wellbutrin at the same time i think it is work in a weird kind of way\n",
      "\n",
      "==================================\n",
      "prescrib phentermin mg after struggl to lose weight i am year old foot &amp weigh lbs as i am get marri &amp will hope be start a famili next year i want to lookfeel my best and be healthi i took my st full pill around am on &amp did feel extra energi all day honest to god i did not feel hungri onc i ate a small breakfast &amp my fianc had to remind me to make someth for lunch when i eat i eat a much smaller portion amaz how it feel to not be focus your whole day on food i have had zero negat side effect i am on my rd day take a full pill in the am   no dri mouth no insomnia no mood swing noth weigh myself this morn down to almost lbs in day\n",
      "\n",
      "==================================\n",
      "i wish they have me someth with less side effect sinc i havent had uti in year and this is the nd one ive ever had im not immun to antibiot becaus im never on them i have a headach muscl &amp joint pain and i feel veri nauseat im now on my nd dose and my urinari tract feel % better though im pray i dont get tendin or nerv damag as it say on the warn i have to take this for day\n",
      "\n",
      "==================================\n",
      "i promis to come back and do a review of the medicin if it had work for me about a year ago i had constant panic attack which eventu becam fear to drive fear to be at a restaur wake up and feel that it would be my last day on this world doctor said i have anxieti disord after tri anoth medicin with no result start me on mg sertralin after a year i can honest say that i am % &quotpan free&quot huge relief within the first coupl week but give it some time to experi the full medicin effect coupl month notic side effect sometim i need to focus on rememb simpl thing weight loss at the begin now im normal again \n",
      "\n",
      "==================================\n",
      "i love this medic i have been on contrav for week and have lost lbs the onli side effect i have had is the dri mouth but i can live with that i high recommend this drug\n",
      "\n",
      "==================================\n",
      "accutan is work wonder for me i am an year old male who was skeptic at first becaus i had liter tri everyth to clear up my cystic acn i had on my back and chest i am now month into my month cours and am alreadi see a huge improv other then the dri lip i have no other side effect some peopl say accutan make them depress and suicid but accutan has actual made me more happi and more energet then i was i feel so much more confid about my skin now then i ever have it summer and now i am never wear a shirt becaus accutan has made me more confid strong recommend this drug as it has work wonder for me so far\n",
      "\n",
      "==================================\n",
      "i was prescrib lexapro year ago for general anxieti disord and mood swing due to premenopaus this medicin help me tremend with veri few side effect i did gain lbs and had at least nausea episod a day that would last for a coupl of minut other than that i felt much better i decid a few week ago to get off the medicin and ween myself slowli after a week without it the anxieti return im now back on mg and onli after a few day am begin to feel myself again\n",
      "\n",
      "==================================\n",
      "i began belviq in august overal i was veri pleas with my result i took it religi for month and lost pound the onli side effect i experienc was weight loss i had to make myself eat and use my fit pal to journal my nutritioncalori i tri to stick to a to calori limit but most of the time i ate less the down side to belviq just after i order anoth month suppli it quit work altogeth i tri wait a month then tri again unfortun it no longer work for meperiod i was devast i have switch to anoth weight loss program but too soon to see result\n",
      "\n",
      "==================================\n"
     ]
    }
   ],
   "source": [
    "for sen in X_wit[y_test_pred.flatten() == 1].sample(10):\n",
    "    print(sen+\"\\n\")\n",
    "    print(\"==================================\")"
   ]
  },
  {
   "cell_type": "code",
   "execution_count": 40,
   "metadata": {},
   "outputs": [],
   "source": [
    "## 8/10(7.5/10)"
   ]
  },
  {
   "cell_type": "code",
   "execution_count": 41,
   "metadata": {},
   "outputs": [
    {
     "name": "stdout",
     "output_type": "stream",
     "text": [
      "i have been suffer from anxieti for sever year my mind was race i would have anxieti attack shake from nervesi felt like a prison in my own bodi i often felt like i had no control and worri about everyth go on in my life my doctor prescrib mg of lexapro and it has liter chang my life i can now get through the day without the overwhelm worri and anxieti i was live with everi singl day initi the side effect were tough fatigu sleepless and headachethey fade quick recommend take it befor bed i am thrill with lexapro and can not say enough about what a chang this medic has made on my life\n",
      "\n",
      "==================================\n",
      "this is by far the most effect antidepress i have ever taken i have tri prozac zoloft and celexa which all caus numer unwant side effect i have been on effexor xr for a month and in the begin the onli side effect i experienc was be sleepi this went away after about a week i can tell you after just one week my mood lift and i have zero anxieti thank you effexor xr\n",
      "\n",
      "==================================\n",
      "im year old and suffer from insomnia and pain from bulg and herniat disc and have undergon three discectomi surgeri i have been take ambien for mani year and start with the name brand mg while also tri ambien cr mg then lunesta and then back to generic ambien mg this generic version has been work veri well for sever year allow me to get a full night sleep without ani side effect and it usual act quick \n",
      "\n",
      "==================================\n",
      "geodon has work wonder on both my visual and auditori hallucin i have no side effect from it other than be a littl tire from time to time im take mg twice a day and have been on it for about a month and a half\n",
      "\n",
      "==================================\n",
      "had been constip for the past day and was tire of feel like crap no pun intend so i decid to give this a tri ill do a littl more research next time but im quit happi to say that it work took pill at pm and had bowel movement at and like clockwork i believ what you do befor and after you take the pill definit affect how you will feel when it hit you i had veggi a fiber bar and an energi drink for breakfast two fiber bar for lunch and drank a liter of water when i got home if your bodi isnt readi then you can expect to feel terribl becaus your digest track has noth els to pull from im a &quot lb woman and didnt have ani horrend side effect\n",
      "\n",
      "==================================\n",
      "ive been on gamunex sinc it was introduc i take gram everi three week in about  hour i have no side effect and pre medic with allegra and advil it is by far the easiest toler of ani of the ivig product ive use ivig for over year work for me\n",
      "\n",
      "==================================\n",
      "befor i start fluoxetin mg i was so depress almost lost my job couldnt get out of bed i almost lost my famili i realli dont know what trigger my depress my doctor say it stress my month on fluoxetin i didnt feel a chang and had noth but side effect from flu like symptom to headach ive been on it now for month and this is the best medicin ive ever been on my anxieti is gone most of the depress is gone i can actual talk to peopl without worri if they have an opinion about me the onli side effect that i still have is a jerk pretti bad when im tri to go to sleep\n",
      "\n",
      "==================================\n",
      "i have use advil ibuprofen for over a year for most headach it work like a charm better than ani other medicin ive tri even one previous doctor have recommend my current one doe recommend advil when i was a kid i use the children advil chewabl and it still work great it didnt tast like greas unlik most other children medicin i had now as an adult i still love it ive never experienc ani side effect nor have i ever had ani negat reaction to it it start kick in super quick and the headach dont tend to come back after i take a tablet of advil overal high recommend not too pricey especi for the amount of drug in each capsul and for the number of capsul in a contain\n",
      "\n",
      "==================================\n",
      "an updat from my post in april i have been on stribild for over two year now i have been undetect sinc two month after start i have had no side effect and it easi to take i take it everi morn with breakfast that work for me stribild is great i have no complaint gilead copay assist make my copay free so that fantast as well it devast to find out the news your hiv posit but it great to know there medicin like stribild to make that situat manag\n",
      "\n",
      "==================================\n",
      "i had implanon insert in novemb of when my son was week old it did not hurt at all though i did have veri signific bruis i bruis veri easili so i wasnt veri surpris by this i have had virtual no side effect which is whi i gave it a rate howev i have been breastfeed the entir time it has been in which caus me to not have ani period i would recommend implanon to ani breastfeed mother it a great time to have it insert sinc you wont have to worri about ani irregular bleed im interest to see what will happen onc i stop breastfeed if anyon here has done so id love to hear how thing went as far was regular of period and such\n",
      "\n",
      "==================================\n"
     ]
    }
   ],
   "source": [
    "for sen in X_wit[y_test_pred.flatten() == 0].sample(10):\n",
    "    print(sen+\"\\n\")\n",
    "    print(\"==================================\")"
   ]
  },
  {
   "cell_type": "code",
   "execution_count": 42,
   "metadata": {},
   "outputs": [],
   "source": [
    "# 7/10"
   ]
  },
  {
   "cell_type": "markdown",
   "metadata": {},
   "source": [
    "## predict comments without wit lableled"
   ]
  },
  {
   "cell_type": "code",
   "execution_count": 43,
   "metadata": {},
   "outputs": [],
   "source": [
    "test = pd.read_csv(\"../drugsCom_raw/drugsComTest_raw.tsv\",sep='\\t', index_col=0)\n",
    "X_wit = clean_text(test,'review')"
   ]
  },
  {
   "cell_type": "code",
   "execution_count": 44,
   "metadata": {},
   "outputs": [],
   "source": [
    "X_wit_sequences = tokenizer.texts_to_sequences(X_wit)\n",
    "X_wit_trans = sequence.pad_sequences(X_wit_sequences, maxlen = max_review_length)"
   ]
  },
  {
   "cell_type": "code",
   "execution_count": 45,
   "metadata": {},
   "outputs": [],
   "source": [
    "y_test_pred = model.predict_classes(X_wit_trans)"
   ]
  },
  {
   "cell_type": "code",
   "execution_count": null,
   "metadata": {},
   "outputs": [],
   "source": [
    "for sen in X_wit[y_test_pred.flatten() == 1].sample(10):\n",
    "    print(sen+\"\\n\")\n",
    "    print(\"==================================\")"
   ]
  },
  {
   "cell_type": "code",
   "execution_count": 47,
   "metadata": {},
   "outputs": [
    {
     "name": "stdout",
     "output_type": "stream",
     "text": [
      "i took simponi for month befor stop to get pregnant with my son all of my symptom had disappear and i was % flare up free howev after have my littl guy and start the simponi inject again i have not had ani relief to my psoriasi and have experienc flare up even after up my dose to everi week how can it have work so well and now not well at all i have request an appoint with my rheumatologist to discuss other biolog medicin\n",
      "\n",
      "==================================\n",
      "ive been use this drug for the past three day not onli is there no improv my eyelid is now so swollen that i can bare open my eye\n",
      "\n",
      "==================================\n",
      "i had previous been on the pill for mani year and thought that switch to nexplanon would make life a bit easier it was okay for the first few month though my period was realli unpredict start in novemb my period remain constant through when i got it remov in februari a week after my acn is clear up i have more energi i am less moodi i am less bloat look through some other review i think my problem over the past year with acn weight gain and mood swing may be partial attribut to nexplanon my doctor told me that nexplanon either work realli well or not at all if you get nexplanon i would urg you to have it remov at the outset of ani troubl rather than wait as long as i did\n",
      "\n",
      "==================================\n",
      "had tri claritin d and other prior to find zyrtec d i have now use it for a number of year and find it difficult to breath without it work veri well for me while noth els that i could find has\n",
      "\n",
      "==================================\n",
      "i am this is what you need to know refriger the water and solut the colder the better wash the mix contain befor the next two contain of water the smell is wors than the tast have at least a fresh role of toilet paper and a toilet bowl brush you will need them have a packag of diaper wipe it make the mess easier to clean up i went two day without food just to make this job easier i do not mind hunger the day prior to the my am appoint i drank the first round start at pm it start to work in minut the second round i start at pm it again was work in minut and over in about hour prior to use the solut i drank a lot of gator aid no hunger to speak of\n",
      "\n",
      "==================================\n",
      "ive been on avian for month now and i must say i have absolut no complaint no weight gain no mood swing no dryness and on the posit side my moder acn flare have great reduc my face is less oili and i have just about new breakout when on the placebo pill unlik have a full blown breakout dure my period i am veri happi with this pill\n",
      "\n",
      "==================================\n",
      "over the past few year i have tri all the medic for a overact bladder that is avail through my doctor this medic for me is the best one it work realli well and i have no symptom of an overact bladder and help with my bladder leak the onli reason i did not give it is the side effect dri mouth thirst and i do feel veri tire when take this tablet\n",
      "\n",
      "==================================\n",
      "i think the shot are veri pain they sting no matter how you inject it let it sit out for minut first etc also  i like the inject pen better when i was use enbrel this needl is a real needl no inject pen i feel it harder to use on yourself that way\n",
      "\n",
      "==================================\n",
      "i was diagnos with type diabet year ago and had sever differ brand of tablet medic but had side effect in one form or anoth noth seem to control my sugar level the last year i had been on metformin mg tablet morn and night with mg of diamicron my sugar spiral up to between &amp and a burn when urin saw my gp and was given treatment for infect but was to no avail doctor saw my various tablet combin i have had over the year and recommend me tri bydureon mg week inject and it has absolut chang my life been take for month now no burn urin my sugar now stabl &amp lost kg more energi no side affect at all to me it a wonder drug\n",
      "\n",
      "==================================\n",
      "i had nexplanon put in last friday six week post partum i had not gotten my first period befor insert and still have not gotten it i havent had ani bleed or spot im actual not have ani issu at all with the nexplanon other than the ugli bruis at the inject site i have read report or headach and depress but i havent had that either no weight gain either ive actual lost lbs sinc ive been on it hope none of this will chang\n",
      "\n",
      "==================================\n"
     ]
    }
   ],
   "source": [
    "for sen in X_wit[y_test_pred.flatten() == 0].sample(10):\n",
    "    print(sen+\"\\n\")\n",
    "    print(\"==================================\")"
   ]
  },
  {
   "cell_type": "code",
   "execution_count": 48,
   "metadata": {},
   "outputs": [],
   "source": [
    "## 7/10 (6.5/10)"
   ]
  },
  {
   "cell_type": "code",
   "execution_count": null,
   "metadata": {},
   "outputs": [],
   "source": []
  },
  {
   "cell_type": "code",
   "execution_count": null,
   "metadata": {},
   "outputs": [],
   "source": []
  },
  {
   "cell_type": "code",
   "execution_count": null,
   "metadata": {},
   "outputs": [],
   "source": []
  },
  {
   "cell_type": "code",
   "execution_count": null,
   "metadata": {},
   "outputs": [],
   "source": []
  },
  {
   "cell_type": "code",
   "execution_count": null,
   "metadata": {},
   "outputs": [],
   "source": []
  },
  {
   "cell_type": "code",
   "execution_count": null,
   "metadata": {},
   "outputs": [],
   "source": []
  }
 ],
 "metadata": {
  "kernelspec": {
   "display_name": "Environment (conda_amazonei_tensorflow_p36)",
   "language": "python",
   "name": "conda_amazonei_tensorflow_p36"
  },
  "language_info": {
   "codemirror_mode": {
    "name": "ipython",
    "version": 3
   },
   "file_extension": ".py",
   "mimetype": "text/x-python",
   "name": "python",
   "nbconvert_exporter": "python",
   "pygments_lexer": "ipython3",
   "version": "3.6.5"
  }
 },
 "nbformat": 4,
 "nbformat_minor": 2
}
