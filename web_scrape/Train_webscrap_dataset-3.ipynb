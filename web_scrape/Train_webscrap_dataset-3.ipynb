{
 "cells": [
  {
   "cell_type": "code",
   "execution_count": 117,
   "metadata": {},
   "outputs": [],
   "source": [
    "import pandas as pd\n",
    "import numpy as np\n",
    "import matplotlib.pyplot as plt\n",
    "import pickle\n",
    "#from bs4 import BeautifulSoup\n",
    "from collections import defaultdict\n",
    "#import requests\n",
    "%matplotlib inline\n",
    "from sklearn.svm import SVC\n",
    "from nltk.stem.snowball import SnowballStemmer\n",
    "\n",
    "## remove special symbol\n",
    "\n",
    "def clean_text(df_tem3,col):\n",
    "    df_tem3[col] = df_tem3[col].str.replace(\"&#039;\",'\\'')\n",
    "    df_tem3[col] = df_tem3[col].str.replace(\"\\\"\",\"\").str.lower()\n",
    "    df_tem3[col] = df_tem3[col].str.replace( r\"(\\\\r)|(\\\\n)|(\\\\t)|(\\\\f)|(\\.)|(\\;)|(\\:)|(\\!)|(\\')|(\\?)|(\\,)|(\\\")|(\\()|(\\))|(\\[)|(\\])|(&#039;)|(\\d\\s)|(\\d)|(\\/)\",\"\")\n",
    "    df_tem3[col] = df_tem3[col].str.replace(\"\\\"\",\"\").str.lower()\n",
    "    df_tem3[col] = df_tem3[col].str.replace( r\"(\\$)|(\\-)|(\\\\)|(\\s{2,})\",\" \")\n",
    "    df_tem3[col].sample(1).iloc[0]\n",
    "\n",
    "    stemmer = SnowballStemmer('english')\n",
    "    df_tem3[col] = df_tem3[col].apply(lambda x: ' '.join([stemmer.stem(word) for word in x.split(\" \")]))\n",
    "    return df_tem3[col]\n",
    "\n",
    "\n",
    "np.random.seed(9)"
   ]
  },
  {
   "cell_type": "code",
   "execution_count": 118,
   "metadata": {},
   "outputs": [],
   "source": [
    "df = pd.read_csv(\"../web_scrap.csv\",index_col=0).drop_duplicates()\n"
   ]
  },
  {
   "cell_type": "code",
   "execution_count": 119,
   "metadata": {},
   "outputs": [],
   "source": [
    "eight = clean_text(df,'8')\n",
    "nine = clean_text(df,'9')\n",
    "ten = clean_text(df,'10')"
   ]
  },
  {
   "cell_type": "code",
   "execution_count": 120,
   "metadata": {},
   "outputs": [],
   "source": [
    "df_tem3 = eight + ' ' + nine+' '+ten"
   ]
  },
  {
   "cell_type": "code",
   "execution_count": 121,
   "metadata": {},
   "outputs": [],
   "source": [
    "#y = ((df['3'] != ' No Side Effects') & (df['3'] != ' Mild Side Effects')).astype(int)\n",
    "y = (df['3'] != ' No Side Effects').astype(int)\n",
    "X = df_tem3"
   ]
  },
  {
   "cell_type": "code",
   "execution_count": 122,
   "metadata": {},
   "outputs": [
    {
     "data": {
      "text/plain": [
       "0.7084134615384615"
      ]
     },
     "execution_count": 122,
     "metadata": {},
     "output_type": "execute_result"
    }
   ],
   "source": [
    "y.mean()"
   ]
  },
  {
   "cell_type": "code",
   "execution_count": 123,
   "metadata": {
    "scrolled": false
   },
   "outputs": [
    {
     "name": "stdout",
     "output_type": "stream",
     "text": [
      " rais blood pressur dure the initi stage when increas doseag becam quit shaki at time and it appear to be hard to start to walk muscl seem to be hesit these disappear when stop take\n",
      "\n",
      "===========================\n",
      " i develop an anorexia i stop eat and lost so much weight im about ft now and weigh about lbs which is realli skinni for my age and height if i wouldnt have stop i would be skin and bone i got to a point where i lost color and im now way too skinni anoth side effect that i develop is insomnia i have a veri hard time sleep i cant fall asleep until about and that everi night it horribl anoth side effect that veri serious is develop of depress i had to go on anti depress becaus of the drug about month after use adderal it depress you so much after school id get home and be so depress id cri and just feel so misser i was serious depress a fact that everyon should understand about adderal is that it in a way a watter down version of meth the side effect are the same but not as sever but it still bad it will mess up your teeth by give you a veri dri mouth your weight and most of all your brain chemistri i went from add to depress to now adhd im go back on stimul drug like adderal when school start i dont know how itll work out becaus i now have a toler to it and im get new treatment i dont know whatll happen or anyth but i just wantto get through school anyon that will be perscrib to this should research on it and get the fact research for a long time not just one articl read get as much info as possibl the side effect are so sever that you should realli know what your expos yourself to theyr all horribl especi the addict that you get to it im addict to it and cant stop crave it i feel like i need it so bad it been month and still i want it extrem bad be care what choic you make it get the job done hut will screw up your life this is just my experi it may be differ for you but still do your research\n",
      "\n",
      "===========================\n",
      " flush face sleepi equilibrium out of balanc\n",
      "\n",
      "===========================\n",
      " the main side effect experienc includ loss of appetit and increas anxieti especi toward the end of the drug effect period about hour this is an improv over short act focalin where these side effect was experienc up to xs a day i did not experi ani other side effect\n",
      "\n",
      "===========================\n",
      " the side effect are the same as the benefit to me\n",
      "\n",
      "===========================\n",
      " i do for some unknown reason still have side effect from the betaseron they dont happen everi inject and there is no pattern i will have a fever andor chill and i hurt all over it feel sometim like even my hair hurt and my inject site do have a tendenc to form larg red circl but they are not infect just a side effect and for some reason the inject on my leg hurt the worst\n",
      "\n",
      "===========================\n",
      " vomit abdomin pain sweat profus bloat nausea fever sever diarrhea i was so concern about the effect  they came at night  that i contempl take myself to an emerg room\n",
      "\n",
      "===========================\n",
      " the medicin mtx was effect for fifteen year week dose of enbrel is quiet effect as sson as i tke mtx day after the enbrel inject i am have sever swell on my knee joint other ont remain normal may be cronic kidney failur\n",
      "\n",
      "===========================\n",
      " common breakthrough bleed and skin more suscept to scar\n",
      "\n",
      "===========================\n",
      " weight gain weight gain weight gain i dont know if it just becaus of the methadon slow your metabol or if it is caus by the need to eat sweet but i have gain at least lbs sinc start methadon year ago it is like a combin of both i have also seen a sever declin with my teeth and the onli caus i can think of is methadon i have taken such good care of my teeth as far as self care and make sure i see the dentist everi month and that still hasnt help has anyon els notic this i have start have sever pain in my joint as well especi my knee i can honest say though that without this medic i probabl wouldnt be aliv to experi ani of these minor side effect without a doubt methadon along with the therapi i receiv while in the clinic and my famili support has save my life i will take the weight gain and minor discomfort ani day at least i am here to write about it\n",
      "\n",
      "===========================\n",
      " +night time energi surg +reduct in tast sensit food interest +late morn earli afternoon fatigu +occasion headach +less organ thought less awar of detail +hand tremor +add actual made wors \n",
      "\n",
      "===========================\n",
      " i had veri bad nightmar for about two night the nightmar wre of me hurt my famili i could see myself kill my famili it seem so veri real to me i have never experienc ani thing like that befor in my life i told my husband to stay up and pleas watch me to make sure do not do ani thingso i did not take them ani more\n",
      "\n",
      "===========================\n",
      " horribl mood swing cri episod confus \n",
      "\n",
      "===========================\n",
      " i becam increas agit and angri after be on it for month i tri to commit suicid\n",
      "\n",
      "===========================\n",
      " hot flash night sweat and vagin dryness\n",
      "\n",
      "===========================\n",
      " dizzi and fatigu\n",
      "\n",
      "===========================\n",
      " after introduc lotrel within two week i notic small red dot appear on my ankl which i thought was just a heat rash i develop petechia which is the bleed of small capillari in the skin or mucous membran it appear as round pinpoint size dot that vari in colour from red to blue or purpl these dot most common appear on the leg but can appear all over the bodi also an onset on acn develop on my back at about the same time which was quit sever and i have never had acn relat problem even in my youth \n",
      "\n",
      "===========================\n",
      " side effect for me includ heavi in my limb muscl ach tight feel in head flush increas heart rate drowsi\n",
      "\n",
      "===========================\n",
      " burn and red had to stop use it was therefor not effect for me either my skin was too fragil or the product was just too strong for someon y age perhap\n",
      "\n",
      "===========================\n",
      " the side effect for patient were an upset stomach direct after take pill and veri disturb and vivid dream patient found that regard the stomach upset it was less import to have food in your stomach befor take the pill stomach still got upset than to actual take the pill in the midst of eat ie eat some food take the pill then eat some more this method of take the pill virtual elimin the stomach upset problem as to the vivid dream that is whi the patient onli took one pill in the morn and did not take the pill in the even although patient still occasion had vivid dream the incid was far less often than when take the pill twice per day\n",
      "\n",
      "===========================\n"
     ]
    }
   ],
   "source": [
    "for se_com in df[((df['3'] != ' No Side Effects') & (df['3'] != ' Mild Side Effects'))]['9'].sample(20):\n",
    "    print(se_com+'\\n')\n",
    "    print(\"===========================\")"
   ]
  },
  {
   "cell_type": "code",
   "execution_count": 124,
   "metadata": {},
   "outputs": [
    {
     "name": "stdout",
     "output_type": "stream",
     "text": [
      " none\n",
      "\n",
      "===========================\n",
      " if next dose not taken in a time manner effect wear off veri quick and sudden veri tire small bubbl in head at time if dosag even slight too high then notic heart palpit present along with increas heart rate activ dream if taken late in the day \n",
      "\n",
      "===========================\n",
      " i read the pamphlet and there are a few side effect such as dizzi but i didnt suffer ani\n",
      "\n",
      "===========================\n",
      " the main side effect ive had is irregular period first it was annoy not know when my period when come then as my period becam less frequent it was actual kind of nice howev now i feel like about or day into my cycl i start to bloat like normal but dont start or get relief for about anoth thirti or so day so now i kinda feel like it bloat or acn to choos from\n",
      "\n",
      "===========================\n",
      " have not experienc ani side effect except the plateau in visibl result\n",
      "\n",
      "===========================\n",
      " none\n",
      "\n",
      "===========================\n",
      " drowsi both the lexapro and the cymbalta make me tire dure the day neccesit a nap \n",
      "\n",
      "===========================\n",
      " mild nausea at first gradual disappear after about a month of treatment \n",
      "\n",
      "===========================\n",
      " slight discomfort of the prostat felt as though it was a bit compress or enlarg not anyth major howev sexual function and urin were just fine\n",
      "\n",
      "===========================\n",
      " no negat side effect were experienc\n",
      "\n",
      "===========================\n",
      " i have experienc no advers side effect at all while take this medic\n",
      "\n",
      "===========================\n",
      " none\n",
      "\n",
      "===========================\n",
      " none were encount thus ensur complianc as state abov\n",
      "\n",
      "===========================\n",
      " no side effect\n",
      "\n",
      "===========================\n",
      " increas hair growth on shoulder back and chest decreas in my sex drive\n",
      "\n",
      "===========================\n",
      " i havent notic ani side effect\n",
      "\n",
      "===========================\n",
      " the side effect of take tramadol for year is addict if i miss a dose i experi typic withdraw symptom eg nausea headach restless leg syndrom stomach cramp\n",
      "\n",
      "===========================\n",
      " sick vommit sleepi\n",
      "\n",
      "===========================\n",
      " sometim i felt nausea except that there was no other signific side effect\n",
      "\n",
      "===========================\n",
      " none that i could identifi\n",
      "\n",
      "===========================\n"
     ]
    }
   ],
   "source": [
    "for se_com in df[~((df['3'] != ' No Side Effects') & (df['3'] != ' Mild Side Effects'))]['9'].sample(20):\n",
    "    print(se_com+'\\n')\n",
    "    print(\"===========================\")"
   ]
  },
  {
   "cell_type": "code",
   "execution_count": 125,
   "metadata": {},
   "outputs": [],
   "source": [
    "# Split Training & Test Data\n",
    "from sklearn.model_selection import train_test_split\n",
    "\n",
    "X_train, X_test, y_train, y_test = train_test_split(X, y,test_size = 0.2)"
   ]
  },
  {
   "cell_type": "code",
   "execution_count": 126,
   "metadata": {},
   "outputs": [],
   "source": [
    "import tensorflow as tf\n",
    "import tensorflow \n",
    "\n",
    "#from tensorflow import tensorflow.keras\n",
    "\n",
    "#from keras.datasets import imdb\n",
    "from tensorflow.keras.models import Sequential\n",
    "from tensorflow.keras.layers import Dense\n",
    "from tensorflow.keras.layers import LSTM\n",
    "from tensorflow.keras.layers import Embedding\n",
    "from tensorflow.keras.preprocessing import sequence\n",
    "from tensorflow.keras.preprocessing.text import Tokenizer\n",
    "from tensorflow.keras.layers import Conv1D\n",
    "from tensorflow.keras.layers import MaxPool1D \n",
    "from tensorflow.keras.layers import Dropout\n",
    "from tensorflow.keras.layers import Bidirectional\n",
    "\n",
    "\n",
    "\n",
    "# fix random seed for reproducibility\n",
    "\n",
    "MAX_NB_WORDS = 500\n",
    "max_review_length = 500\n",
    "EMBEDDING_DIM = 160\n"
   ]
  },
  {
   "cell_type": "code",
   "execution_count": 127,
   "metadata": {},
   "outputs": [],
   "source": [
    "# Tokenize the data\n",
    "tokenizer = Tokenizer(num_words = MAX_NB_WORDS, \n",
    "                      filters='!\"#$%&()*+,-./:;<=>?@[\\]^_`{|}~',\n",
    "                      lower=True, split=' ', char_level=False, \n",
    "                      oov_token=None, document_count=0)\n",
    "\n",
    "tokenizer.fit_on_texts(X_train)\n",
    "train_sequences = tokenizer.texts_to_sequences(X_train)\n",
    "test_sequences = tokenizer.texts_to_sequences(X_test)\n",
    "\n",
    "# truncate and pad input sequences\n",
    "X_train = sequence.pad_sequences(train_sequences, maxlen=max_review_length)\n",
    "X_test = sequence.pad_sequences(test_sequences, maxlen = max_review_length)\n",
    "\n",
    "word_index = tokenizer.word_index"
   ]
  },
  {
   "cell_type": "code",
   "execution_count": 128,
   "metadata": {},
   "outputs": [],
   "source": [
    "nb_words  = min(MAX_NB_WORDS, len(word_index))\n",
    "lstm_out = max_review_length\n",
    "\n",
    "model = Sequential()\n",
    "model.add(Embedding(nb_words,EMBEDDING_DIM,input_length=max_review_length))\n",
    "#model.add(Dropout(0.2))\n",
    "\n",
    "## add conv using kernal No.32 and size 3x3, actiation='relu'(rm neg)\n",
    "# model.add(Conv1D(filters=32, kernel_size=3, padding='same', activation='relu'))\n",
    "# model.add(MaxPool1D(pool_size=2))\n",
    "model.add(Bidirectional(LSTM(20, return_sequences=True)))\n",
    "#model.add(Dropout(0.2))\n",
    "model.add(Bidirectional(LSTM(20)))\n",
    "#model.add(Attention(max_review_length))\n",
    "model.add(Dense(1, activation = 'sigmoid'))\n",
    "\n",
    "## one-code mutiple categories targets use 'categorical_crossentropy' not 'binary_crossentropy'\n",
    "model.compile(loss='binary_crossentropy',optimizer='adam',metrics =['accuracy'])"
   ]
  },
  {
   "cell_type": "code",
   "execution_count": 129,
   "metadata": {},
   "outputs": [
    {
     "name": "stdout",
     "output_type": "stream",
     "text": [
      "_________________________________________________________________\n",
      "Layer (type)                 Output Shape              Param #   \n",
      "=================================================================\n",
      "embedding_3 (Embedding)      (None, 500, 160)          80000     \n",
      "_________________________________________________________________\n",
      "bidirectional_6 (Bidirection (None, 500, 40)           28960     \n",
      "_________________________________________________________________\n",
      "bidirectional_7 (Bidirection (None, 40)                9760      \n",
      "_________________________________________________________________\n",
      "dense_3 (Dense)              (None, 1)                 41        \n",
      "=================================================================\n",
      "Total params: 118,761\n",
      "Trainable params: 118,761\n",
      "Non-trainable params: 0\n",
      "_________________________________________________________________\n"
     ]
    }
   ],
   "source": [
    "model.summary()"
   ]
  },
  {
   "cell_type": "code",
   "execution_count": 130,
   "metadata": {},
   "outputs": [
    {
     "name": "stderr",
     "output_type": "stream",
     "text": [
      "/home/ubuntu/anaconda3/envs/amazonei_tensorflow_p36/lib/python3.6/site-packages/tensorflow/python/ops/gradients_impl.py:112: UserWarning: Converting sparse IndexedSlices to a dense Tensor of unknown shape. This may consume a large amount of memory.\n",
      "  \"Converting sparse IndexedSlices to a dense Tensor of unknown shape. \"\n"
     ]
    },
    {
     "name": "stdout",
     "output_type": "stream",
     "text": [
      "Train on 2662 samples, validate on 666 samples\n",
      "Epoch 1/40\n",
      "2662/2662 [==============================] - 58s 22ms/step - loss: 0.6069 - acc: 0.7074 - val_loss: 0.5553 - val_acc: 0.7402\n",
      "Epoch 2/40\n",
      "2662/2662 [==============================] - 53s 20ms/step - loss: 0.5058 - acc: 0.7615 - val_loss: 0.4667 - val_acc: 0.7913\n",
      "Epoch 3/40\n",
      "2662/2662 [==============================] - 53s 20ms/step - loss: 0.5431 - acc: 0.7524 - val_loss: 0.5438 - val_acc: 0.7583\n",
      "Epoch 4/40\n",
      "2662/2662 [==============================] - 54s 20ms/step - loss: 0.4667 - acc: 0.7874 - val_loss: 0.4975 - val_acc: 0.7883\n",
      "Epoch 5/40\n",
      "2662/2662 [==============================] - 54s 20ms/step - loss: 0.4165 - acc: 0.8264 - val_loss: 0.5002 - val_acc: 0.7778\n"
     ]
    }
   ],
   "source": [
    "from tensorflow.keras.callbacks import EarlyStopping, ModelCheckpoint\n",
    "\n",
    "# Run LSTM Model\n",
    "batch = 32 \n",
    "epoch = 40\n",
    "\n",
    "early_stopping = EarlyStopping(patience = 3)\n",
    "\n",
    "LSTM_model = model.fit(X_train, y_train, batch_size=batch, epochs=epoch,\n",
    "                       validation_split=0.2,callbacks=[early_stopping], shuffle = True)\n",
    "\n",
    "best_score = min(LSTM_model.history['val_loss'])"
   ]
  },
  {
   "cell_type": "code",
   "execution_count": 131,
   "metadata": {},
   "outputs": [],
   "source": [
    "LSTM_model_history = pd.DataFrame(LSTM_model.history)\n",
    "file_name = \"web_20_bilstm_2layer_se_nor_comm.csv\"\n",
    "LSTM_model_history.to_csv( file_name)"
   ]
  },
  {
   "cell_type": "code",
   "execution_count": 132,
   "metadata": {},
   "outputs": [
    {
     "name": "stdout",
     "output_type": "stream",
     "text": [
      "        acc      loss   val_acc  val_loss\n",
      "0  0.707363  0.606871  0.740240  0.555329\n",
      "1  0.761458  0.505801  0.791291  0.466672\n",
      "2  0.752442  0.543142  0.758258  0.543753\n",
      "3  0.787378  0.466679  0.788288  0.497545\n",
      "4  0.826446  0.416461  0.777778  0.500160\n"
     ]
    }
   ],
   "source": [
    "print(LSTM_model_history)"
   ]
  },
  {
   "cell_type": "code",
   "execution_count": 133,
   "metadata": {},
   "outputs": [],
   "source": [
    "#model.save(\"web_20_bilstm_2layer.h5\")"
   ]
  },
  {
   "cell_type": "code",
   "execution_count": 134,
   "metadata": {},
   "outputs": [
    {
     "data": {
      "text/plain": [
       "Text(0.5,0,'epoch')"
      ]
     },
     "execution_count": 134,
     "metadata": {},
     "output_type": "execute_result"
    },
    {
     "data": {
      "image/png": "[encoded data removed]",
      "text/plain": [
       "<Figure size 432x288 with 1 Axes>"
      ]
     },
     "metadata": {},
     "output_type": "display_data"
    }
   ],
   "source": [
    "plt.plot(LSTM_model.history['loss'],label='train')\n",
    "plt.plot(LSTM_model.history['val_loss'],label='validation')\n",
    "plt.ylabel(\"loss\")\n",
    "plt.xlabel(\"epoch\")"
   ]
  },
  {
   "cell_type": "code",
   "execution_count": 135,
   "metadata": {},
   "outputs": [
    {
     "name": "stdout",
     "output_type": "stream",
     "text": [
      "832/832 [==============================] - 2s 2ms/step\n"
     ]
    },
    {
     "data": {
      "text/plain": [
       "[0.4880287704559473, 0.7872596168174193]"
      ]
     },
     "execution_count": 135,
     "metadata": {},
     "output_type": "execute_result"
    }
   ],
   "source": [
    "from sklearn.metrics import accuracy_score, confusion_matrix\n",
    "from tensorflow.keras.models import load_model\n",
    "#model = load_model(\"web_20_bilstm_2layer.h5\")\n",
    "#LSTM_model = model.fit(X_train, y_train, batch_size=batch, epochs=epoch)\n",
    "\n",
    "accr = model.evaluate(X_test,y_test, batch_size = 100)\n",
    "accr"
   ]
  },
  {
   "cell_type": "code",
   "execution_count": 136,
   "metadata": {},
   "outputs": [],
   "source": [
    "#             acc      loss   val_acc  val_loss\n",
    "#     0  0.670173  0.597171  0.770270  0.465685\n",
    "#     1  0.800902  0.425928  0.779279  0.446773\n",
    "#     2  0.849737  0.355651  0.794294  0.434360\n",
    "#     3  0.869647  0.318369  0.800300  0.442692\n",
    "#     4  0.886927  0.287467  0.801802  0.473488\n",
    "#     5  0.900826  0.256769  0.792793  0.538440\n",
    "\n",
    "#     [0.9755449504233323, 0.6394230763499553]\n",
    "\n",
    "#     array([[373, 133],\n",
    "#            [167, 159]])"
   ]
  },
  {
   "cell_type": "code",
   "execution_count": 137,
   "metadata": {},
   "outputs": [],
   "source": [
    "y_test_pred = model.predict_classes(X_test)"
   ]
  },
  {
   "cell_type": "code",
   "execution_count": 139,
   "metadata": {},
   "outputs": [],
   "source": [
    "y_test_pro = model.predict_proba(X_test)"
   ]
  },
  {
   "cell_type": "code",
   "execution_count": 147,
   "metadata": {},
   "outputs": [
    {
     "name": "stdout",
     "output_type": "stream",
     "text": [
      "0.8006828851899275\n"
     ]
    },
    {
     "data": {
      "text/plain": [
       "[<matplotlib.lines.Line2D at 0x7f7402dc1a58>]"
      ]
     },
     "execution_count": 147,
     "metadata": {},
     "output_type": "execute_result"
    },
    {
     "data": {
      "image/png": "[encoded data removed]",
      "text/plain": [
       "<Figure size 432x288 with 1 Axes>"
      ]
     },
     "metadata": {},
     "output_type": "display_data"
    }
   ],
   "source": [
    "from sklearn.metrics import roc_auc_score, roc_curve\n",
    "print(roc_auc_score(y_test,y_test_pro))\n",
    "fpr, tpr, thre = roc_curve(y_test,y_test_pro)\n",
    "\n",
    "plt.plot(fpr,tpr)"
   ]
  },
  {
   "cell_type": "code",
   "execution_count": 138,
   "metadata": {},
   "outputs": [
    {
     "data": {
      "text/plain": [
       "array([[137, 127],\n",
       "       [ 50, 518]])"
      ]
     },
     "execution_count": 138,
     "metadata": {},
     "output_type": "execute_result"
    }
   ],
   "source": [
    "confusion_matrix(y_test,y_test_pred)"
   ]
  },
  {
   "cell_type": "code",
   "execution_count": null,
   "metadata": {},
   "outputs": [],
   "source": []
  },
  {
   "cell_type": "code",
   "execution_count": 149,
   "metadata": {
    "scrolled": false
   },
   "outputs": [
    {
     "data": {
      "text/plain": [
       "(array([0.        , 0.        , 0.00378788, 0.00378788, 0.00757576,\n",
       "        0.00757576, 0.01136364, 0.01136364, 0.01515152, 0.01515152,\n",
       "        0.01893939, 0.01893939, 0.02272727, 0.02272727, 0.02651515,\n",
       "        0.02651515, 0.03030303, 0.03030303, 0.03409091, 0.03409091,\n",
       "        0.03787879, 0.03787879, 0.04166667, 0.04166667, 0.04545455,\n",
       "        0.04545455, 0.04924242, 0.04924242, 0.0530303 , 0.0530303 ,\n",
       "        0.05681818, 0.05681818, 0.06060606, 0.06060606, 0.06439394,\n",
       "        0.06439394, 0.06818182, 0.06818182, 0.0719697 , 0.0719697 ,\n",
       "        0.07575758, 0.07575758, 0.08333333, 0.08333333, 0.09090909,\n",
       "        0.09090909, 0.09469697, 0.09469697, 0.09848485, 0.09848485,\n",
       "        0.10227273, 0.10227273, 0.10606061, 0.10606061, 0.10984848,\n",
       "        0.10984848, 0.11363636, 0.11363636, 0.11742424, 0.11742424,\n",
       "        0.12121212, 0.12121212, 0.125     , 0.125     , 0.13257576,\n",
       "        0.13257576, 0.13636364, 0.13636364, 0.14772727, 0.14772727,\n",
       "        0.15151515, 0.15151515, 0.15530303, 0.15530303, 0.15909091,\n",
       "        0.15909091, 0.16287879, 0.16287879, 0.16666667, 0.16666667,\n",
       "        0.17045455, 0.17045455, 0.17424242, 0.17424242, 0.1780303 ,\n",
       "        0.1780303 , 0.18181818, 0.18181818, 0.18560606, 0.18560606,\n",
       "        0.18939394, 0.18939394, 0.1969697 , 0.1969697 , 0.20075758,\n",
       "        0.20075758, 0.20454545, 0.20454545, 0.21212121, 0.21212121,\n",
       "        0.21590909, 0.21590909, 0.21969697, 0.21969697, 0.22348485,\n",
       "        0.22348485, 0.22727273, 0.22727273, 0.23106061, 0.23106061,\n",
       "        0.24242424, 0.24242424, 0.25378788, 0.25378788, 0.25757576,\n",
       "        0.25757576, 0.26136364, 0.26136364, 0.26893939, 0.26893939,\n",
       "        0.27272727, 0.27272727, 0.27651515, 0.27651515, 0.28030303,\n",
       "        0.28030303, 0.28409091, 0.28409091, 0.28787879, 0.28787879,\n",
       "        0.29166667, 0.29166667, 0.29545455, 0.29545455, 0.3030303 ,\n",
       "        0.3030303 , 0.30681818, 0.30681818, 0.31060606, 0.31060606,\n",
       "        0.31439394, 0.31439394, 0.31818182, 0.31818182, 0.3219697 ,\n",
       "        0.3219697 , 0.32954545, 0.32954545, 0.33333333, 0.33333333,\n",
       "        0.34090909, 0.34090909, 0.34469697, 0.34469697, 0.34848485,\n",
       "        0.34848485, 0.35227273, 0.35227273, 0.35984848, 0.35984848,\n",
       "        0.36363636, 0.36363636, 0.36742424, 0.36742424, 0.37121212,\n",
       "        0.37121212, 0.375     , 0.375     , 0.37878788, 0.37878788,\n",
       "        0.38257576, 0.38257576, 0.38636364, 0.38636364, 0.39015152,\n",
       "        0.39015152, 0.39393939, 0.39393939, 0.40530303, 0.40530303,\n",
       "        0.41287879, 0.41287879, 0.42045455, 0.42045455, 0.42424242,\n",
       "        0.42424242, 0.43181818, 0.43181818, 0.43939394, 0.43939394,\n",
       "        0.44318182, 0.44318182, 0.45833333, 0.45833333, 0.46212121,\n",
       "        0.46212121, 0.46590909, 0.46590909, 0.47348485, 0.47348485,\n",
       "        0.47727273, 0.47727273, 0.48106061, 0.48106061, 0.48484848,\n",
       "        0.48484848, 0.48863636, 0.48863636, 0.50378788, 0.50378788,\n",
       "        0.51893939, 0.51893939, 0.52272727, 0.52272727, 0.52651515,\n",
       "        0.52651515, 0.53787879, 0.53787879, 0.54545455, 0.54545455,\n",
       "        0.56060606, 0.56060606, 0.60227273, 0.60227273, 0.625     ,\n",
       "        0.625     , 0.64393939, 0.64393939, 0.65530303, 0.65530303,\n",
       "        0.6780303 , 0.6780303 , 0.68939394, 0.68939394, 0.6969697 ,\n",
       "        0.6969697 , 0.70075758, 0.70075758, 0.71969697, 0.71969697,\n",
       "        0.72348485, 0.72348485, 0.76515152, 0.76515152, 0.78030303,\n",
       "        0.78030303, 0.78409091, 0.78409091, 0.85984848, 0.85984848,\n",
       "        0.875     , 0.875     , 0.95075758, 0.95075758, 0.99621212,\n",
       "        0.99621212, 1.        ]),\n",
       " array([0.00176056, 0.01056338, 0.01056338, 0.01408451, 0.01408451,\n",
       "        0.02640845, 0.02640845, 0.03697183, 0.03697183, 0.04929577,\n",
       "        0.04929577, 0.06161972, 0.06161972, 0.08274648, 0.08274648,\n",
       "        0.08978873, 0.08978873, 0.11619718, 0.11619718, 0.13204225,\n",
       "        0.13204225, 0.15316901, 0.15316901, 0.16021127, 0.16021127,\n",
       "        0.16549296, 0.16549296, 0.16901408, 0.16901408, 0.2306338 ,\n",
       "        0.2306338 , 0.23239437, 0.23239437, 0.25704225, 0.25704225,\n",
       "        0.25880282, 0.25880282, 0.26584507, 0.26584507, 0.2693662 ,\n",
       "        0.2693662 , 0.29049296, 0.29049296, 0.31866197, 0.31866197,\n",
       "        0.32394366, 0.32394366, 0.34507042, 0.34507042, 0.3556338 ,\n",
       "        0.3556338 , 0.36619718, 0.36619718, 0.39964789, 0.39964789,\n",
       "        0.43309859, 0.43309859, 0.43485915, 0.43485915, 0.44366197,\n",
       "        0.44366197, 0.45246479, 0.45246479, 0.45774648, 0.45774648,\n",
       "        0.47007042, 0.47007042, 0.47887324, 0.47887324, 0.49471831,\n",
       "        0.49471831, 0.49823944, 0.49823944, 0.51232394, 0.51232394,\n",
       "        0.52464789, 0.52464789, 0.52992958, 0.52992958, 0.54049296,\n",
       "        0.54049296, 0.54225352, 0.54225352, 0.57570423, 0.57570423,\n",
       "        0.6056338 , 0.6056338 , 0.61267606, 0.61267606, 0.64964789,\n",
       "        0.64964789, 0.67253521, 0.67253521, 0.6778169 , 0.6778169 ,\n",
       "        0.69014085, 0.69014085, 0.69190141, 0.69190141, 0.69366197,\n",
       "        0.69366197, 0.70598592, 0.70598592, 0.72183099, 0.72183099,\n",
       "        0.72359155, 0.72359155, 0.72887324, 0.72887324, 0.7306338 ,\n",
       "        0.7306338 , 0.74295775, 0.74295775, 0.74471831, 0.74471831,\n",
       "        0.74823944, 0.74823944, 0.75      , 0.75      , 0.75528169,\n",
       "        0.75528169, 0.75704225, 0.75704225, 0.75880282, 0.75880282,\n",
       "        0.76056338, 0.76056338, 0.76760563, 0.76760563, 0.77288732,\n",
       "        0.77288732, 0.7834507 , 0.7834507 , 0.78697183, 0.78697183,\n",
       "        0.79049296, 0.79049296, 0.79577465, 0.79577465, 0.79929577,\n",
       "        0.79929577, 0.80105634, 0.80105634, 0.80457746, 0.80457746,\n",
       "        0.80985915, 0.80985915, 0.81514085, 0.81514085, 0.81866197,\n",
       "        0.81866197, 0.82570423, 0.82570423, 0.82746479, 0.82746479,\n",
       "        0.83626761, 0.83626761, 0.83978873, 0.83978873, 0.8415493 ,\n",
       "        0.8415493 , 0.84859155, 0.84859155, 0.85387324, 0.85387324,\n",
       "        0.85739437, 0.85739437, 0.85915493, 0.85915493, 0.86267606,\n",
       "        0.86267606, 0.86443662, 0.86443662, 0.86619718, 0.86619718,\n",
       "        0.86971831, 0.86971831, 0.87147887, 0.87147887, 0.87323944,\n",
       "        0.87323944, 0.875     , 0.875     , 0.87676056, 0.87676056,\n",
       "        0.87852113, 0.87852113, 0.88028169, 0.88028169, 0.88204225,\n",
       "        0.88204225, 0.8943662 , 0.8943662 , 0.89964789, 0.89964789,\n",
       "        0.90316901, 0.90316901, 0.90669014, 0.90669014, 0.9084507 ,\n",
       "        0.9084507 , 0.91021127, 0.91021127, 0.91197183, 0.91197183,\n",
       "        0.91725352, 0.91725352, 0.9278169 , 0.9278169 , 0.93133803,\n",
       "        0.93133803, 0.93309859, 0.93309859, 0.93485915, 0.93485915,\n",
       "        0.93838028, 0.93838028, 0.94014085, 0.94014085, 0.94190141,\n",
       "        0.94190141, 0.94366197, 0.94366197, 0.94542254, 0.94542254,\n",
       "        0.94894366, 0.94894366, 0.95070423, 0.95070423, 0.95246479,\n",
       "        0.95246479, 0.95598592, 0.95598592, 0.95774648, 0.95774648,\n",
       "        0.9665493 , 0.9665493 , 0.97007042, 0.97007042, 0.97183099,\n",
       "        0.97183099, 0.97535211, 0.97535211, 0.97711268, 0.97711268,\n",
       "        0.98239437, 0.98239437, 0.98415493, 0.98415493, 0.98767606,\n",
       "        0.98767606, 0.99119718, 0.99119718, 0.99471831, 0.99471831,\n",
       "        1.        , 1.        ]),\n",
       " array([0.9419489 , 0.9398632 , 0.93943113, 0.9394025 , 0.93928283,\n",
       "        0.938343  , 0.93819124, 0.9379128 , 0.93782526, 0.9372861 ,\n",
       "        0.93724614, 0.93692267, 0.936907  , 0.93586177, 0.93566173,\n",
       "        0.9354444 , 0.93540424, 0.93483114, 0.93478703, 0.93427163,\n",
       "        0.93415135, 0.93365484, 0.93365324, 0.9333    , 0.9332884 ,\n",
       "        0.93304724, 0.9329821 , 0.93294036, 0.93290263, 0.9306765 ,\n",
       "        0.9305874 , 0.9304293 , 0.9304091 , 0.9295903 , 0.92957145,\n",
       "        0.92954385, 0.92948544, 0.9292955 , 0.9292921 , 0.92919767,\n",
       "        0.9291638 , 0.92847705, 0.92826515, 0.92761356, 0.92760926,\n",
       "        0.927533  , 0.92753273, 0.9265209 , 0.9264918 , 0.9262794 ,\n",
       "        0.92621523, 0.925935  , 0.925745  , 0.923832  , 0.92359084,\n",
       "        0.92133844, 0.9212183 , 0.9210071 , 0.9209858 , 0.9203079 ,\n",
       "        0.91979027, 0.9192602 , 0.91909385, 0.91859204, 0.9185363 ,\n",
       "        0.91672724, 0.9167106 , 0.91576713, 0.9155516 , 0.9140756 ,\n",
       "        0.9138474 , 0.9135308 , 0.9134341 , 0.91178936, 0.91164887,\n",
       "        0.9096943 , 0.909169  , 0.9084114 , 0.90814507, 0.9058858 ,\n",
       "        0.9055087 , 0.90546155, 0.9053567 , 0.8975835 , 0.89732206,\n",
       "        0.88989276, 0.8897022 , 0.8881774 , 0.88814646, 0.86907613,\n",
       "        0.8678207 , 0.85965043, 0.85960066, 0.85565543, 0.85556465,\n",
       "        0.85076326, 0.8499428 , 0.84986526, 0.8473008 , 0.84667546,\n",
       "        0.84666556, 0.8371155 , 0.8369526 , 0.82364815, 0.8219728 ,\n",
       "        0.81953263, 0.81779027, 0.81032264, 0.8102425 , 0.80944437,\n",
       "        0.807289  , 0.80107814, 0.79829025, 0.79589105, 0.79511243,\n",
       "        0.7944353 , 0.79443187, 0.7930129 , 0.78469986, 0.7796172 ,\n",
       "        0.77419865, 0.77361333, 0.77110744, 0.77006364, 0.7689185 ,\n",
       "        0.7679689 , 0.7667009 , 0.7579973 , 0.7579809 , 0.7548503 ,\n",
       "        0.7541316 , 0.7429006 , 0.74084896, 0.7399412 , 0.73198706,\n",
       "        0.7305835 , 0.7301644 , 0.7234137 , 0.7229898 , 0.7198235 ,\n",
       "        0.71971005, 0.719639  , 0.7181505 , 0.7157731 , 0.7148951 ,\n",
       "        0.7088869 , 0.70230687, 0.6954381 , 0.6950935 , 0.69344544,\n",
       "        0.6915721 , 0.6841549 , 0.68343216, 0.68165594, 0.68140256,\n",
       "        0.66950095, 0.66384435, 0.6636935 , 0.66143113, 0.6592478 ,\n",
       "        0.65572315, 0.64459264, 0.64085656, 0.6353939 , 0.63385063,\n",
       "        0.6322007 , 0.631218  , 0.63063705, 0.628246  , 0.6194441 ,\n",
       "        0.6165854 , 0.6155864 , 0.6150054 , 0.61495656, 0.61446124,\n",
       "        0.6127843 , 0.61202127, 0.6104191 , 0.6050712 , 0.60445917,\n",
       "        0.5941162 , 0.59385186, 0.59084964, 0.58869547, 0.57990247,\n",
       "        0.57301515, 0.56333786, 0.55973536, 0.55687994, 0.55526763,\n",
       "        0.5552086 , 0.535111  , 0.5321103 , 0.5269809 , 0.5259334 ,\n",
       "        0.52518535, 0.52354664, 0.52333796, 0.5176219 , 0.5172818 ,\n",
       "        0.508037  , 0.50723445, 0.50304693, 0.50129664, 0.4990275 ,\n",
       "        0.4978589 , 0.497117  , 0.47965518, 0.46513554, 0.45894864,\n",
       "        0.43287757, 0.4221062 , 0.4220003 , 0.4171928 , 0.409742  ,\n",
       "        0.40071157, 0.38700086, 0.3838779 , 0.3772771 , 0.3751347 ,\n",
       "        0.3490311 , 0.34808266, 0.33369693, 0.33053586, 0.32320076,\n",
       "        0.31989694, 0.3126998 , 0.3097178 , 0.307738  , 0.30745104,\n",
       "        0.30312178, 0.29580918, 0.29079005, 0.29072154, 0.28970653,\n",
       "        0.28540498, 0.2844263 , 0.28282675, 0.27810624, 0.27731726,\n",
       "        0.27545512, 0.2741348 , 0.22491997, 0.22165592, 0.1920597 ,\n",
       "        0.18522702, 0.18441255, 0.18373418, 0.14844513, 0.1481859 ,\n",
       "        0.14500198, 0.14387907, 0.1384141 , 0.13777919, 0.13297032,\n",
       "        0.13218924, 0.13122073], dtype=float32))"
      ]
     },
     "execution_count": 149,
     "metadata": {},
     "output_type": "execute_result"
    }
   ],
   "source": [
    "roc_curve(y_test,y_test_pro)"
   ]
  },
  {
   "cell_type": "markdown",
   "metadata": {},
   "source": [
    "## predict sentence"
   ]
  },
  {
   "cell_type": "code",
   "execution_count": 85,
   "metadata": {},
   "outputs": [],
   "source": [
    "first_quest2 = pd.read_csv(\"../wit_ai_sentment/SE_tem_l400_first_request.ccv\",index_col=0)"
   ]
  },
  {
   "cell_type": "code",
   "execution_count": 86,
   "metadata": {},
   "outputs": [],
   "source": [
    "y_wit = ((first_quest2['value'] == \"negative\")).astype(int)\n",
    "X_wit = clean_text(first_quest2,'text')"
   ]
  },
  {
   "cell_type": "code",
   "execution_count": 87,
   "metadata": {},
   "outputs": [],
   "source": [
    "X_wit_sequences = tokenizer.texts_to_sequences(X_wit)\n",
    "X_wit_trans = sequence.pad_sequences(X_wit_sequences, maxlen = max_review_length)\n"
   ]
  },
  {
   "cell_type": "code",
   "execution_count": 88,
   "metadata": {},
   "outputs": [
    {
     "name": "stdout",
     "output_type": "stream",
     "text": [
      "30689/30689 [==============================] - 70s 2ms/step\n"
     ]
    },
    {
     "data": {
      "text/plain": [
       "[0.9985925791499676, 0.5505881541060184]"
      ]
     },
     "execution_count": 88,
     "metadata": {},
     "output_type": "execute_result"
    }
   ],
   "source": [
    "accr = model.evaluate(X_wit_trans,y_wit, batch_size = 100)\n",
    "accr"
   ]
  },
  {
   "cell_type": "code",
   "execution_count": 89,
   "metadata": {},
   "outputs": [
    {
     "data": {
      "text/plain": [
       "array([[ 2943, 10981],\n",
       "       [ 2811, 13954]])"
      ]
     },
     "execution_count": 89,
     "metadata": {},
     "output_type": "execute_result"
    }
   ],
   "source": [
    "y_test_pred = model.predict_classes(X_wit_trans)\n",
    "confusion_matrix(y_wit,y_test_pred)"
   ]
  },
  {
   "cell_type": "code",
   "execution_count": 90,
   "metadata": {},
   "outputs": [],
   "source": [
    "## [1.620907984605271, 0.5002443838369665]\n",
    "## array([[11736,  2188],\n",
    "##       [13149,  3616]])"
   ]
  },
  {
   "cell_type": "code",
   "execution_count": 91,
   "metadata": {},
   "outputs": [
    {
     "name": "stdout",
     "output_type": "stream",
     "text": [
      "the first month was fine no side effect irrit or pregnanc scare or anyth but then the second month i start experienc nausea cramp my period was late and then i had the absolut worst depress and even start lose touch with realiti\n",
      "\n",
      "==================================\n",
      "howeverth side effect are extrem intens for me\n",
      "\n",
      "==================================\n",
      "just dont know if i can keep deal with all these side effect\n",
      "\n",
      "==================================\n",
      "that be said i am more anxious than i have ever been due to side effect\n",
      "\n",
      "==================================\n",
      "i have gain weight in all the right place and havent had ani horribl side effect\n",
      "\n",
      "==================================\n",
      "have been almost complet free of symptom and have no obvious side effect\n",
      "\n",
      "==================================\n",
      "side effect of other ssris as a male the sexual side effect a minut\n",
      "\n",
      "==================================\n",
      "i have tri adipex and the weight come off faster howev the side effect are a lot more aggress belviq side effect are bare notic\n",
      "\n",
      "==================================\n",
      "for me side effect are infrequ and usual veri minor sleepi dizzi &ldquo side effect post headach i would sometim experi a feel of euphoria combin with a difficulti concentr\n",
      "\n",
      "==================================\n",
      "the onli side effect i had were some appetit loss which was veri much need sinc i was borderlin obes befor and the usual sexual dysfunct but that wore off after a coupl of month\n",
      "\n",
      "==================================\n"
     ]
    }
   ],
   "source": [
    "for sen in X_wit[y_test_pred.flatten() == 1].sample(10):\n",
    "    print(sen+\"\\n\")\n",
    "    print(\"==================================\")"
   ]
  },
  {
   "cell_type": "code",
   "execution_count": 92,
   "metadata": {},
   "outputs": [],
   "source": [
    "## 8/10(7.5/10)"
   ]
  },
  {
   "cell_type": "code",
   "execution_count": null,
   "metadata": {},
   "outputs": [],
   "source": []
  },
  {
   "cell_type": "code",
   "execution_count": 93,
   "metadata": {},
   "outputs": [
    {
     "name": "stdout",
     "output_type": "stream",
     "text": [
      "i wish the doctor would go over all side effect when then prescrib medic so you know when someth start to happen that it is the medic\n",
      "\n",
      "==================================\n",
      "i have experienc no side effect at all\n",
      "\n",
      "==================================\n",
      "i notic in my case thus far it has increas my desir for sweet margin no other notic side effect yet it definit is an more viabl replac for lasix potassium combin with less side effect\n",
      "\n",
      "==================================\n",
      "no side effect and saw an immedi improv as well as a more peac state of mind which may or may not be in my head but i dont care\n",
      "\n",
      "==================================\n",
      "our pediatrician refer us to a psychiatrist as he had never experienc this side effect and the psych said that it was due to the pdd if it hadnt been for the side effect the intuniv work quit well\n",
      "\n",
      "==================================\n",
      "the onli side effect that ive had from this medicin is difficulti sleep and race thought\n",
      "\n",
      "==================================\n",
      "no notic side effect i am a retir regist nurs\n",
      "\n",
      "==================================\n",
      "i have some side effect and it is easi to deal with im abl to deal with the side effect as long as im abl to keep my famili\n",
      "\n",
      "==================================\n",
      "i have had no side effect from this medic\n",
      "\n",
      "==================================\n",
      "ive been use implanon for almost year now and i didnt experi ani bad side effect when my year was up i had it remov and replac in that same arm and still no bad side effect\n",
      "\n",
      "==================================\n"
     ]
    }
   ],
   "source": [
    "for sen in X_wit[y_test_pred.flatten() == 0].sample(10):\n",
    "    print(sen+\"\\n\")\n",
    "    print(\"==================================\")"
   ]
  },
  {
   "cell_type": "code",
   "execution_count": 94,
   "metadata": {},
   "outputs": [],
   "source": [
    "## 5/10 (5.5/10)"
   ]
  },
  {
   "cell_type": "markdown",
   "metadata": {},
   "source": [
    "## predict comments with wit lableled"
   ]
  },
  {
   "cell_type": "code",
   "execution_count": 95,
   "metadata": {},
   "outputs": [],
   "source": [
    "drugsComTrain = pd.read_csv('../drugsCom_raw/drugsComTrain_raw.tsv',sep='\\t',index_col=0)#.sample(40000)\n"
   ]
  },
  {
   "cell_type": "code",
   "execution_count": 96,
   "metadata": {
    "scrolled": false
   },
   "outputs": [],
   "source": [
    "first_quest3 = pd.merge(first_quest2,drugsComTrain,left_index=True,right_index=True,how='left')\n",
    "y_wit = ((first_quest3['value'] == \"negative\")).astype(int)\n",
    "X_wit = clean_text(first_quest3,'review')"
   ]
  },
  {
   "cell_type": "code",
   "execution_count": 97,
   "metadata": {},
   "outputs": [
    {
     "name": "stdout",
     "output_type": "stream",
     "text": [
      "30689/30689 [==============================] - 70s 2ms/step\n"
     ]
    },
    {
     "data": {
      "text/plain": [
       "[1.0206916154881773, 0.5631333659279362]"
      ]
     },
     "execution_count": 97,
     "metadata": {},
     "output_type": "execute_result"
    }
   ],
   "source": [
    "X_wit_sequences = tokenizer.texts_to_sequences(X_wit)\n",
    "X_wit_trans = sequence.pad_sequences(X_wit_sequences, maxlen = max_review_length)\n",
    "\n",
    "accr = model.evaluate(X_wit_trans,y_wit, batch_size = 100)\n",
    "accr"
   ]
  },
  {
   "cell_type": "code",
   "execution_count": 98,
   "metadata": {},
   "outputs": [
    {
     "data": {
      "text/plain": [
       "array([[ 6214,  7710],\n",
       "       [ 5697, 11068]])"
      ]
     },
     "execution_count": 98,
     "metadata": {},
     "output_type": "execute_result"
    }
   ],
   "source": [
    "y_test_pred = model.predict_classes(X_wit_trans)\n",
    "confusion_matrix(y_wit,y_test_pred)"
   ]
  },
  {
   "cell_type": "code",
   "execution_count": 99,
   "metadata": {},
   "outputs": [
    {
     "name": "stdout",
     "output_type": "stream",
     "text": [
      "i was on loestrin for around a year and i need to get off of it becaus it made me veri depress i was alway moodi and upset and two of my friend told me that loestrin made them feel like it too ive been off of it for about two month now and i feel so much better other than the depress there werent mani bad side effect i just couldnt deal with the mood chang\n",
      "\n",
      "==================================\n",
      "i bought this  month befor i got marri and had veri littl side effect i have been marri year and i havent gotten pregnant yet i think the onli annoy is that my period come everi other month and that i get some spot off and on throughout the month my period are shorter and there is less bleed which is a nice thing i havent taken ani other birth control but im think of switch to a cervic cap a year befor we want to have kid so i can get my hormon regul correct again\n",
      "\n",
      "==================================\n",
      "i have taken abilifi for one year it was prescrib as an add on to cymbalta after a suicid attempt i feel it boost my mood but i have gain pound i cant imagin continu on a medic with this side effect it is not worth it to switch my angst over life circumst to feel depress over a continu weight gain\n",
      "\n",
      "==================================\n",
      "i have been taken citalopram sinc im year old after an acut life event i start with mg a day po which help me for over year after year i felt that my depress is come back so i talk to my physician and we increas the daili dose to mg po i am now take this medic for over year and for me it the one and onli medic that help yes i have had some side effect like loos weight pound troubl sleep  h a day max and insomnia but still i can final start live my normal life which i could not do without this medic i work as a rn in a ed and see a lot of patient with depress ptsd like me or other problem who dont take ani medic which i would not recommend\n",
      "\n",
      "==================================\n",
      "i was prescrib lyrica for a pinch nerv in my elbow after a disloc the pain made physic therapi intoler with just one dose of mg of lyrica i could bend my elbow without winc absolut marvel unfortun there were side effect that make me stop take it first one was that i fell asleep almost immedi after take it for about hour and my brain felt veri foggi after i woke up second issu was a slight tight in the chest and feel a littl out of breath not sever but enough to let me know that i couldnt take it again made me sad becaus it realli work\n",
      "\n",
      "==================================\n",
      "was sever baldingthin prior to take it start on propecia and although it took a littl while to work at least half a year i end up regrow a lot of hair switch to proscar hair grew back even more and thicker hairlin look great now veri minor side effect at the begin none sinc\n",
      "\n",
      "==================================\n",
      "i had been on suboxon for year for pain manag off label use after mani year of percocet etc for joint pain from rheumatoid arthriti move from ca to eastern okla and need a new dr found one suggest i look into butran patch sinc my issu was not opiat addict i have been on the mcg patch for two week and it definit work but i have an issu both week about day in i start have sweat restless leg at night and a stronger than normal heartbeat i pull the patch and hrs later all is ok dont like these side effect\n",
      "\n",
      "==================================\n",
      "butran mg gave me my life back the side effect are noth compar to how i feel now be on this patch dont have the drowsi side effect that all the pill give a person now everi so often i get what the doctor call break through pain then i take pill norco metaxalon indomethacin etc honest i take a indomethacin everi night befor bedtim love those also all i know is befor the patch i was on the couch all day everi day \n",
      "\n",
      "==================================\n",
      "have been take this for day now x mg capsul four time a day for a pierc infect along with use hydrocortison cream take this due to develop an immun to flucloxacillin symptom includ weep of area and swell result in sever discomfort these began to clear up within hour of take drug and has now all but vanish suffer minor side effect main a constant metal tast in my mouth was warn of possibl bowel problem but have yet to experi this hope that carri on for next day\n",
      "\n",
      "==================================\n",
      "it work well for me no side effect\n",
      "\n",
      "==================================\n"
     ]
    }
   ],
   "source": [
    "for sen in X_wit[y_test_pred.flatten() == 1].sample(10):\n",
    "    print(sen+\"\\n\")\n",
    "    print(\"==================================\")"
   ]
  },
  {
   "cell_type": "code",
   "execution_count": 100,
   "metadata": {},
   "outputs": [],
   "source": [
    "## 8/10(7.5/10)"
   ]
  },
  {
   "cell_type": "code",
   "execution_count": 101,
   "metadata": {},
   "outputs": [
    {
     "name": "stdout",
     "output_type": "stream",
     "text": [
      "my doctor recommend the nuvar to me after i told her how i didnt like take birth control pill becaus i forget and also i had no sex drive while on the pill i put the nuvar in and within hrs i had sever vomit fever &amp muscl fatigu this was liter the worst experi i have ever had with birth control at first i didnt understand what was happen to me till i look at the side effect on the pamphlet my doctor gave me i immedi took it out and within  hrs i stop vomit but still veri weak and frail i had a sever allerg reaction to the nuvar and later found out that my bodi react negat to estrogen and progesteron from my new doctor im go to tri the copper iud\n",
      "\n",
      "==================================\n",
      "okay so i never thought id ever write one of these review but here goe i ask my doctor about phentermin after have a veri hard time lose weight under his monitor for year im young onli and &quot so it shouldnt be this hard i start on mg back in may of clock in at lbs with complet diet chang and moderatehigh level exercis x a week i now weigh lbs i feel incred and the effect of the phentermin act most like a glorifi appetit suppress it doesnt realli do much itself but it doe enough to keep me awar and on point mayb that all i need no side effect at all then again mg is less than half a normal dosag i love it more pound to my goal\n",
      "\n",
      "==================================\n",
      "i have onli been on jardianc mg for month but have watch by blood glucos level slowli drop   have not yet had anoth ac i normal drink a lot of water but have notic a definit increas in frequenc of urin as well as urgenc this i can live with as i have &quotfailed&quot other diabet medic have not notic much weight loss but i am onli about lbs overweight anyway keep finger cross with this medic i am not take ani other diabet medic and was abl to control with diet and exercis for a number of year but this is a progress diseas no other side effect note\n",
      "\n",
      "==================================\n",
      "saw immedi result in triglycerid level no notic side effect thus far\n",
      "\n",
      "==================================\n",
      "work great no side effect\n",
      "\n",
      "==================================\n",
      "i was take cymbalta and decid to go off due to sexual side effect i am on day of this medic i am still in pain but doctor say i need to get to next dosag level first week was tough due to nausea and hot flash will give it a littl more time to see if i get ani relief\n",
      "\n",
      "==================================\n",
      "my neurologist prescrib this as relief from migrain headach caus by muscl tension it wonder no side effect also reduc blood pressur from s down to s amaz\n",
      "\n",
      "==================================\n",
      "i have been on contrav a littl over a month and i have lost pound so far i have not had ani side effect except constip and had to get medicin to have a normal bowel movement i also have been work out three day a week and cut back on carb but eat it in moder some thing i like crave are limit so not eat a lot of junk food and get full faster and eat slower will send more feedback\n",
      "\n",
      "==================================\n",
      "i had my skyla insert in januari and im so glad i took that chanc becaus it a truli awesom birth control there is no daili pill no month shot appoint just one day of insert and then you are good to go for three year yes insert is pain it wasnt miser but it uncomfort and you will need at least a day of rest and recoveri i was not on my period at the time of my insert so that might have caus a littl more pain also this is my first form of birth control and i have not had kid or been pregnant the worst side effect are that it will increas your cramp and menstrual pain but it will get better over a few month and it will chang your period cycl though it depend on your bodi\n",
      "\n",
      "==================================\n",
      "didnt work at all i have a friend where the weight just fell off so want to tri it he had side effect of lot of nausea and eventu stop it becaus of that i use it for six month at the highest dose and didnt lose ani weight actual i lost about lbs the first month which is whi i kept go but regain that and finish month at great expens with no weight loss i will say i also had zero side effect nada zip no nausea noth mayb have side effect is a marker for those it work in\n",
      "\n",
      "==================================\n"
     ]
    }
   ],
   "source": [
    "for sen in X_wit[y_test_pred.flatten() == 0].sample(10):\n",
    "    print(sen+\"\\n\")\n",
    "    print(\"==================================\")"
   ]
  },
  {
   "cell_type": "code",
   "execution_count": 102,
   "metadata": {},
   "outputs": [],
   "source": [
    "# 7/10"
   ]
  },
  {
   "cell_type": "markdown",
   "metadata": {},
   "source": [
    "## predict comments without wit lableled"
   ]
  },
  {
   "cell_type": "code",
   "execution_count": 103,
   "metadata": {},
   "outputs": [],
   "source": [
    "test = pd.read_csv(\"../drugsCom_raw/drugsComTest_raw.tsv\",sep='\\t', index_col=0)\n",
    "X_wit = clean_text(test,'review')"
   ]
  },
  {
   "cell_type": "code",
   "execution_count": 104,
   "metadata": {},
   "outputs": [],
   "source": [
    "X_wit_sequences = tokenizer.texts_to_sequences(X_wit)\n",
    "X_wit_trans = sequence.pad_sequences(X_wit_sequences, maxlen = max_review_length)"
   ]
  },
  {
   "cell_type": "code",
   "execution_count": 105,
   "metadata": {},
   "outputs": [],
   "source": [
    "y_test_pred = model.predict_classes(X_wit_trans)"
   ]
  },
  {
   "cell_type": "code",
   "execution_count": 106,
   "metadata": {},
   "outputs": [
    {
     "name": "stdout",
     "output_type": "stream",
     "text": [
      "the side effect today i went to the dr with symptom of cloudi urin and frequent urin i was diagnos with a bladder infect and i was prescrib macrobid x po daili for day ive taken this medic befor for a uti and i was fine but for some reason i took this pill hour ago and alreadi i feel the sensat to gag everi time a breath in this kind of nausea feel detest im so uncomfort i also got sever back pain and tight chest out of nowher i cant believ this\n",
      "\n",
      "==================================\n",
      "i have read negat review about the pill and it made me afraid to tri it now ive come here and read negat review about the shot that i had a pretti good experi with the pros for me was the shot stop my period for year and i love it i onli had to take it everi three month i dont recal have ani mood swing the con were the weight i gain i was alway at sinc junior high school but about six month after be on the shot when i was about year old i pick up a ton of weight i went from to in two year of be on it when i stop take the shot the transit was pain but i lost weight i want to tri the pill to avoid weight gain\n",
      "\n",
      "==================================\n",
      "the last time i had a yi i use monistat and it was no problem so when i got one recent i didnt even think twice when i purchas it again im on day of the monistat and im regret everi moment of insert it into my vagina the itch and burn is time wors than the actual yi itself and sleep will more than like be imposs i wouldnt recommend this product to anyon\n",
      "\n",
      "==================================\n",
      "i tri nucynta it did not help the pain i had a headach from it and it made my right leg numb i had a stroke year ago \n",
      "\n",
      "==================================\n",
      "lexapro was a miracl drug for me as far as treat my sever health anxieti and ptsd it gave me my life back i can truli say i was my normal self % of the time howev it caus me to have extrem muscl tension and headach i was even diagnos with tmj and was sleep with a mouthguard at night wean off lexapro was horrif for me it took a good month for all the withdraw symptom to subsid thank the headach and stiff jaw got better as well im sad i cant take lexapro anymor it save my life im about to start on prozac well see what happen\n",
      "\n",
      "==================================\n",
      "this birth control is the worst ever whi would doctor even allow someth like this to be on the market non stop bleed forev your whole life stop pleas remov it\n",
      "\n",
      "==================================\n",
      "it was bad it made me gain weight it made me have tremor which will never complet go away nowi couldnt hold plate or hold cup without shake my head start shake my new neurologist took me off of them i was on them for over yrs i would strong think about other med befor take this one consid the side affect cant go away immedi or not at all \n",
      "\n",
      "==================================\n",
      "this product work veri well ive been use it for the past year and it has been a life saver it restor most of the thick i had befor i began lose my hair i think most peopl on here complain that it doesnt work either arent follow the instruct on how to use it proper or they wait until it was too late be complet bald to start use it keep in mind too that this product take a few month to begin work my onli complaint is it caus dandruff and itchi scalp\n",
      "\n",
      "==================================\n",
      "this was the absolut best muscl relax my doctor has ever given to me i have a bulg disc in my back and it is in the middl of my back and sometim i have excruci pain associ with this and soma realli is the best i have found\n",
      "\n",
      "==================================\n",
      "reliev some nasal pressur and drainag after a month of continu use develop insomnia and muscl spasm around ear and eyelid area discontinu use and after week these symptom disappear\n",
      "\n",
      "==================================\n"
     ]
    }
   ],
   "source": [
    "for sen in X_wit[y_test_pred.flatten() == 1].sample(10):\n",
    "    print(sen+\"\\n\")\n",
    "    print(\"==================================\")"
   ]
  },
  {
   "cell_type": "code",
   "execution_count": 107,
   "metadata": {},
   "outputs": [
    {
     "name": "stdout",
     "output_type": "stream",
     "text": [
      "i am so grate for tamiflu right now i havent been nauseous with the flu but tamiflu along with duraflu has cut my symptom by % in one day the onli side effect i have had from this medicin might be slight diarrhea but noth too bad definit recommend but it veri expens without insur  \n",
      "\n",
      "==================================\n",
      "it amaz how well this actual work i thought i would be stuck with anxieti forev and wonder how i would ever be abl to finish uni and find a job this complet got rid of my social anxieti as well as all the physic symptom that came with it i can talk with peopl normal and for onc have some hope that my life could actual turn out well no more random panic attack or worri about minor thing either no side effect of ani sort i wish i had taken this back in high school when i was first prescrib it but i was too anxious to tri ani medicin\n",
      "\n",
      "==================================\n",
      "i have been on yaz for and a half year and it been the best form of contracept medic for me i have tri other contracept pill and have had all kind of bad side effect but onc i start yaz i was fine origin i start use it as a form of contracept i still do but it has also help with my sever menstrual cramp and endometriosi i can have my period everi month without a problem and i havent experienc ani side effect pregnanc scare bloat or acn on it so overal it been great \n",
      "\n",
      "==================================\n",
      "i smoke for year pack a day never tri to quit befor never thought i could one day my doctor prescrib me chantix becaus i was have a chronic cough i gave the starter pack a shot and here is how it went i took the medicin exact how it was prescrib i took the first week and notic absolut anyth unlik other no posit or negat effect i got worri but on my eighth day i quit cold turkey i am a guy who would get cranki and moodi and sometim even ill if i went  hour without be abl to smoke chantix surpris kick in right when it should and diminish my effect of quit so much that it gave me great enthusiasm to continu with it im offici a non smoker\n",
      "\n",
      "==================================\n",
      "it a realli great medicin for migrain i been have them for over a year daili have tri sever differ medicin sum work but the side effect was horribl tri naratriptan the first day migrain free for day and everi other time migrain free for a day great medicin ill most definit say it worth a tri for bad migrain\n",
      "\n",
      "==================================\n",
      "femal age height lbs start contrav on week i lost lbs now lbs i am pre diabet and my doctor put me on metformin this was a big wake up call for me i feel mental readi to do this so far symptom have been noth bad a few stomach cramp food tast blah a littl nausea but onli when i dont drink enough water i do go to the bathroom more often about time a day i dont have crave and i feel full i have chang my diet big time no carb fish and lean meat lot of egg ton of water and small snack throughout the day i feel good no tired like other that i read i will continu to updat week i feel this will make me account and it may help someon who is like me struggl\n",
      "\n",
      "==================================\n",
      "i have been use voltaren gel for month for chronic upper back &amp neck pain and for chronic migrain it has been prescrib as an adjunct medicin for me in either case not my primari medicin i love this stuff it absorb veri quick and usual work well for me for a few hour post applic so far i have had no negat side effect from use it just relief\n",
      "\n",
      "==================================\n",
      "i have been a victim of psoriasi for the last seven year i came to know about this drug from a skin specialist in the year prior to this i was cover up to % but when i took this it vanish after take a mere mg it recur in year sinc then i am take it frequent as i did not find ani other altern to fight this skin disord as far as my person experi is concern i didnt have ani side effect \n",
      "\n",
      "==================================\n",
      "i smoke for forti year the last pack a day start chantix feb st kept smoke will i took it within a month i was down to two cig a day and quit march rd i had my last cigarett have not had one for month had no side effect at all was veri easi have a grandson that is and he got me to quit would recommend to all tri everyth patch hypnosi this is the onli thing that work feel good and save dollar a year thank you chantix\n",
      "\n",
      "==================================\n",
      "i was on the patch for about year and i absolut love it they switch from the ortho evra to the xulan and i love them both xulan is just a littl smaller and stick a lot better i had no bad side effect i bled for about day everi month after take off my patch i recent switch to skyla and i am have horribl cramp with it i am look forward to switch back to the patch soon\n",
      "\n",
      "==================================\n"
     ]
    }
   ],
   "source": [
    "for sen in X_wit[y_test_pred.flatten() == 0].sample(10):\n",
    "    print(sen+\"\\n\")\n",
    "    print(\"==================================\")"
   ]
  },
  {
   "cell_type": "code",
   "execution_count": 48,
   "metadata": {},
   "outputs": [],
   "source": [
    "## 7/10 (6.5/10)"
   ]
  },
  {
   "cell_type": "code",
   "execution_count": 113,
   "metadata": {},
   "outputs": [
    {
     "name": "stdout",
     "output_type": "stream",
     "text": [
      "\"I started suffering very badly from hot flashes about 2 years ago. When I would work out and do cardio, I would literally leave puddles. It was scary because I didn&#039;t know what was going on at the time. Someone I met recommended I try it. I was suffering so bad, I didn&#039;t want to be on antidepressants, but I was desperate. I didn&#039;t have to wait long, I went from having about six hot flashes a day, lasting about two to three minutes, to having three or four mini flashes. I was incredibly grateful, was able to sleep through the night as well. Just recently, they started to become unbearable again, so they increased the dosage. Really does work. Currently on 150 milligrams. I may have one or two flashes during the day and and maybe two at night\"\n",
      "\n",
      "==================================\n",
      "\"I got the mirena after giving birth about 7 weeks post partum. I bleed terribly almost every day.  Terrible back pains and no energy. Sex went out the window. My doc said to give it three months to regulate but this sucks. I&#039;m bloated all the time and can&#039;t loose any weight. So far I&#039;m thinking its not worth it. Obviously, its doing its job but this is not fun and its ruining my sex life !!  Also been getting headaches that won&#039;t go away.\"\n",
      "\n",
      "==================================\n",
      "\"Strattera was my first treatment after I was diagnosed with ADHD PI for six months. First week on 40 mg, then 80 mg and the last three months on 100 mg. I didn&#039;t improve any symptom, but it worsen everything. I got negative effects, from the sexual side (no erections just after taking Strattera,). My mood was really unstable, with peeks of depressing episodes and rage outbursts on the last weeks.\r\n",
      "\r\n",
      "Now I&#039;m quitting it, and I got some discontinuing effect as tension on my head and anxiety. On the next week I&#039;ll start with methyphenidate and I hope the best.\"\n",
      "\n",
      "==================================\n",
      "\"I began taking Zoloft four months ago after being diagnosed with OCD, which I have suffered with for probably 15 years. I started with a dosage of 25 mg and experienced quite a bit of nausea for the first few weeks. I also dealt with a spike in anxiety, which I combatted with Clonopin and relaxation techniques. My psychiatrist slowly increased the dosage to 150 mg over the past few months. During that time, with the addition of psychotherapy, I began to slowly recognize that my symptoms were decreasing. It has become much easier to recognize my intrusive thoughts as OCD, and to say &quot;no&quot; to the multitude of rituals that I engaged in on a daily basis. In fact, since I have reached 150 mg, my anxiety and other symptoms have almost disappeared.\"\n",
      "\n",
      "==================================\n",
      "\"Pros: prevented pregnancy well, shortened period, cleared acne\r",
      "\r\n",
      "Cons: gained 20lbs, scalp hair loss, very heavy cramps, migraines, mood swings\"\n",
      "\n",
      "==================================\n",
      "\"I found the reviews helpful,  In March I had a shot of Cortisone in my right knee.  It was effective for 5 months.  When my pain returned the doctor recommended Ortho Visc.  I had 3 treatments, each a week apart,  I had relief after a few days, but it didn&#039;t last.  I had the final injection on August 30th.  It really hurt, and I was light-headed afterwards, and could hardly walk.  The PA that gave me the last treatment had me rest until I felt OK to walk and drive.  He told me to mark 3 weeks on the calendar, at which time I  would feel no pain.  (Did that mean I would be dead?!)  After 8 days I am almost pain free!  Now to see how long it lasts.\"\n",
      "\n",
      "==================================\n",
      "\"I&#039;m giving this an 8 because I have only been taking for a few weeks. I am taking 25mg/day along with up to 100mg of Hydroxizine every 6 hours for anxiety. Doc told me it would take about 4-6 weeks for Sertraline to really kick in but, let me tell you, I have already noticed a HUGE difference! Much calmer, clear minded, able to focus, excited to be alive. I just got sober a few weeks ago, so these meds are a Godsend since my body is readjusting to normality. So far, 2 thumbs way up!\r",
      "\r\n",
      "\r",
      "\r\n",
      "Side effects I&#039;ve noticed: HUGE appetite, random small headaches, and lower sex drive. All of these could be from too much caffeine, too little exercise, my body readjusting to sobriety..........or a multitude of other things. Can&#039;t pinpoint them to the meds.\"\n",
      "\n",
      "==================================\n",
      "\"I was prescribed Champix by my doctor and started on the them on the 12th January. I had to pick a date as a quit date, I chose the 25th Jan. I was a heavy smoker for over 20 years and on 2 packs of 20 a day (awful) I am proud to say I am a non smoker after taking Champix for just 12 days. To me this medicine is a pure miracle, I have to finish my tablets which were to last for 14 days. I have had headaches and really bad dreams that have woken me but I can live with that, I have no cravings at all to smoke and the thought of it does make me feel a bit of nausea. I just pray this last&#039;s as it truly is a miracle medicine.\"\n",
      "\n",
      "==================================\n",
      "\"Have been taking Belviq for three weeks and I&#039;ve lost six pounds!  This is awesome because I&#039;ve been stuck at the same weight for about a year, never budging even a pound!  I suffered an ankle injury and the resulting ankle surgery and was unable to restart Spinning classes until recently. I can&#039;t wait to see what happens now that I am mobile again!\"\n",
      "\n",
      "==================================\n",
      "\"I started taking this medicine after a long unsuccessful stint on methotrexate. Metho made me super tired and my hair fell out in clumps with almost no improvement in pain, stiffness, or energy level. Xeljanz changed my life! My hair also grew back full force on this medicine and my energy level is totally restored. I get a flare maybe twice a year on this medicine and have figured out that a prednisone taper and a month of this can kick me into a 4-8 month remission period. It really works and worked within the first week for me. I am 24 and have not experienced many side effects after the first week of pills. It has also decreased the severity of my seasonal allergies and totally eliminated the eczema I used to get all over the place.\"\n",
      "\n",
      "==================================\n"
     ]
    }
   ],
   "source": [
    "test2  = pd.read_csv(\"../drugsCom_raw/drugsComTest_raw.tsv\",sep='\\t', index_col=0)\n",
    "test2['review'].sample(10)\n",
    "\n",
    "for sen in test2['review'].sample(10):\n",
    "    print(sen+\"\\n\")\n",
    "    print(\"==================================\")"
   ]
  },
  {
   "cell_type": "code",
   "execution_count": null,
   "metadata": {},
   "outputs": [],
   "source": []
  },
  {
   "cell_type": "code",
   "execution_count": null,
   "metadata": {},
   "outputs": [],
   "source": []
  },
  {
   "cell_type": "code",
   "execution_count": null,
   "metadata": {},
   "outputs": [],
   "source": []
  },
  {
   "cell_type": "code",
   "execution_count": null,
   "metadata": {},
   "outputs": [],
   "source": []
  },
  {
   "cell_type": "code",
   "execution_count": null,
   "metadata": {},
   "outputs": [],
   "source": []
  }
 ],
 "metadata": {
  "kernelspec": {
   "display_name": "Environment (conda_amazonei_tensorflow_p36)",
   "language": "python",
   "name": "conda_amazonei_tensorflow_p36"
  },
  "language_info": {
   "codemirror_mode": {
    "name": "ipython",
    "version": 3
   },
   "file_extension": ".py",
   "mimetype": "text/x-python",
   "name": "python",
   "nbconvert_exporter": "python",
   "pygments_lexer": "ipython3",
   "version": "3.6.5"
  }
 },
 "nbformat": 4,
 "nbformat_minor": 2
}
