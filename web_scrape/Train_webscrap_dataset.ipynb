{
 "cells": [
  {
   "cell_type": "code",
   "execution_count": 246,
   "metadata": {},
   "outputs": [],
   "source": [
    "import pandas as pd\n",
    "import numpy as np\n",
    "import matplotlib.pyplot as plt\n",
    "import pickle\n",
    "#from bs4 import BeautifulSoup\n",
    "from collections import defaultdict\n",
    "#import requests\n",
    "%matplotlib inline\n",
    "from sklearn.svm import SVC\n",
    "from nltk.stem.snowball import SnowballStemmer\n",
    "\n",
    "## remove special symbol\n",
    "\n",
    "def clean_text(df_tem3,col):\n",
    "    df_tem3[col] = df_tem3[col].str.replace(\"&#039;\",'\\'')\n",
    "    df_tem3[col] = df_tem3[col].str.replace(\"\\\"\",\"\").str.lower()\n",
    "    df_tem3[col] = df_tem3[col].str.replace( r\"(\\\\r)|(\\\\n)|(\\\\t)|(\\\\f)|(\\.)|(\\;)|(\\:)|(\\!)|(\\')|(\\?)|(\\,)|(\\\")|(\\()|(\\))|(\\[)|(\\])|(&#039;)|(\\d\\s)|(\\d)|(\\/)\",\"\")\n",
    "    df_tem3[col] = df_tem3[col].str.replace(\"\\\"\",\"\").str.lower()\n",
    "    df_tem3[col] = df_tem3[col].str.replace( r\"(\\$)|(\\-)|(\\\\)|(\\s{2,})\",\" \")\n",
    "    df_tem3[col].sample(1).iloc[0]\n",
    "\n",
    "    stemmer = SnowballStemmer('english')\n",
    "    df_tem3[col] = df_tem3[col].apply(lambda x: ' '.join([stemmer.stem(word) for word in x.split(\" \")]))\n",
    "    return df_tem3[col]\n",
    "\n",
    "\n",
    "np.random.seed(9)"
   ]
  },
  {
   "cell_type": "code",
   "execution_count": 247,
   "metadata": {},
   "outputs": [],
   "source": [
    "df = pd.read_csv(\"../web_scrap.csv\",index_col=0).drop_duplicates()\n",
    "df_tem3 = clean_text(df,'9')\n"
   ]
  },
  {
   "cell_type": "code",
   "execution_count": null,
   "metadata": {},
   "outputs": [],
   "source": []
  },
  {
   "cell_type": "code",
   "execution_count": 248,
   "metadata": {},
   "outputs": [],
   "source": [
    "#y = ((df['3'] != ' No Side Effects') & (df['3'] != ' Mild Side Effects')).astype(int)\n",
    "y = (df['3'] != ' No Side Effects').astype(int)\n",
    "X = df_tem3"
   ]
  },
  {
   "cell_type": "code",
   "execution_count": 249,
   "metadata": {},
   "outputs": [
    {
     "data": {
      "text/plain": [
       "0.7084134615384615"
      ]
     },
     "execution_count": 249,
     "metadata": {},
     "output_type": "execute_result"
    }
   ],
   "source": [
    "y.mean()"
   ]
  },
  {
   "cell_type": "code",
   "execution_count": 250,
   "metadata": {
    "scrolled": false
   },
   "outputs": [
    {
     "name": "stdout",
     "output_type": "stream",
     "text": [
      " a few day a week my face would be red veri sensit and peel then it would be back to normal and then a few day later the peel start again\n",
      "\n",
      "===========================\n",
      " dri skin and eye flake skin and bloodi nose howev the most pertin side effect was depress \n",
      "\n",
      "===========================\n",
      " extrem aggress delus\n",
      "\n",
      "===========================\n",
      " some drowsi at night after taken it throughout the day and some constip howev after take it for onli two week i had a seizur that sent me to hospit and was told by doc there that elavil and tramadol combin can caus seizur no one told me this not my primari care doc my gi doc or the pharmacist this seem to me to be a pretti sever side effect for a medicin that bare work the two med were prescrib to me by the same physician and i understand oversight can happen howev if i had known from begin that seizur might be a possibl i would ask for someth els also after onli two week i had some weird effect after stop usag includ diarrhea cold sweat hot flash restless leg syndrom and anxieti i never experienc anyth like this with ani other med this medicin is not worth it \n",
      "\n",
      "===========================\n",
      " on attempt to withdraw veri sever side effect of withdraw that last over one year person chang anxieti sever sleepless a disast\n",
      "\n",
      "===========================\n",
      " i had sever suicid thought sever depress and feel of isol and absolut no motiv for life fda has issu statement that patient are twice as like to experi suicid thoughtsid on this drug than on placebo unfortun i was on this drug for month befor this inform was releas and an addit month befor i read about it my psychiatrist outsid the us was not notifi about this potenti side effect i feel like i lost almost two year of my life\n",
      "\n",
      "===========================\n",
      " unbeleiv mood swing degre differ in mood made me extrem irrat and angri all the time littl thing would make me exploid in anger made my mood veri negat this is veri abnorm im usual veri happi and posit but peopl around me began to notic how negat this affect my day to day outlook \n",
      "\n",
      "===========================\n",
      " some anxieti especi when begin this medic hyperhidrosi of axilla which i found the most frustrat side effect sever reduc libido lethargi and general tired\n",
      "\n",
      "===========================\n",
      " major headach neck pain\n",
      "\n",
      "===========================\n",
      " red burn red spot pigment spot look darker skin is veri sensit i cant put a sunscreen on at all possibl to develop skin cancer bad experi for  \n",
      "\n",
      "===========================\n"
     ]
    }
   ],
   "source": [
    "for se_com in df[((df['3'] != ' No Side Effects') & (df['3'] != ' Mild Side Effects'))]['9'].sample(10):\n",
    "    print(se_com+'\\n')\n",
    "    print(\"===========================\")"
   ]
  },
  {
   "cell_type": "code",
   "execution_count": 251,
   "metadata": {},
   "outputs": [
    {
     "name": "stdout",
     "output_type": "stream",
     "text": [
      " notic growth of eyelash becom thicker and lusher becaus of the eye drop\n",
      "\n",
      "===========================\n",
      " no real assist or side efect were notic\n",
      "\n",
      "===========================\n",
      " none\n",
      "\n",
      "===========================\n",
      " none\n",
      "\n",
      "===========================\n",
      " the antibiot creat a sens of nausea throughout the dayin addit i have to take my pro biotic in order to prevent the common yeast infect that come with the antibiot \n",
      "\n",
      "===========================\n",
      " none that i am awar of\n",
      "\n",
      "===========================\n",
      " some sunlight sensit sunburn more easili and reduc sperm count\n",
      "\n",
      "===========================\n",
      " no side effect so far onli a slight itch around the inject site from time to time\n",
      "\n",
      "===========================\n",
      " for the first month of take ortho tri cyclen i was a littl moodi when my period start the first month i was veri moodi but that onli last about day the second month of my period my pms calm down and now i have no mood swing and onli one day of cramp\n",
      "\n",
      "===========================\n",
      " i did not have ani notic side effect from this medic\n",
      "\n",
      "===========================\n"
     ]
    }
   ],
   "source": [
    "for se_com in df[~((df['3'] != ' No Side Effects') & (df['3'] != ' Mild Side Effects'))]['9'].sample(10):\n",
    "    print(se_com+'\\n')\n",
    "    print(\"===========================\")"
   ]
  },
  {
   "cell_type": "code",
   "execution_count": 252,
   "metadata": {},
   "outputs": [],
   "source": [
    "# Split Training & Test Data\n",
    "from sklearn.model_selection import train_test_split\n",
    "\n",
    "X_train, X_test, y_train, y_test = train_test_split(X, y,test_size = 0.2)"
   ]
  },
  {
   "cell_type": "code",
   "execution_count": 253,
   "metadata": {},
   "outputs": [],
   "source": [
    "import tensorflow as tf\n",
    "import tensorflow \n",
    "\n",
    "#from tensorflow import tensorflow.keras\n",
    "\n",
    "#from keras.datasets import imdb\n",
    "from tensorflow.keras.models import Sequential\n",
    "from tensorflow.keras.layers import Dense\n",
    "from tensorflow.keras.layers import LSTM\n",
    "from tensorflow.keras.layers import Embedding\n",
    "from tensorflow.keras.preprocessing import sequence\n",
    "from tensorflow.keras.preprocessing.text import Tokenizer\n",
    "from tensorflow.keras.layers import Conv1D\n",
    "from tensorflow.keras.layers import MaxPool1D \n",
    "from tensorflow.keras.layers import Dropout\n",
    "from tensorflow.keras.layers import Bidirectional\n",
    "\n",
    "\n",
    "\n",
    "# fix random seed for reproducibility\n",
    "\n",
    "MAX_NB_WORDS = 500\n",
    "max_review_length = 500\n",
    "EMBEDDING_DIM = 160\n"
   ]
  },
  {
   "cell_type": "code",
   "execution_count": 254,
   "metadata": {},
   "outputs": [],
   "source": [
    "# Tokenize the data\n",
    "tokenizer = Tokenizer(num_words = MAX_NB_WORDS, \n",
    "                      filters='!\"#$%&()*+,-./:;<=>?@[\\]^_`{|}~',\n",
    "                      lower=True, split=' ', char_level=False, \n",
    "                      oov_token=None, document_count=0)\n",
    "\n",
    "tokenizer.fit_on_texts(X_train)\n",
    "train_sequences = tokenizer.texts_to_sequences(X_train)\n",
    "test_sequences = tokenizer.texts_to_sequences(X_test)\n",
    "\n",
    "# truncate and pad input sequences\n",
    "X_train = sequence.pad_sequences(train_sequences, maxlen=max_review_length)\n",
    "X_test = sequence.pad_sequences(test_sequences, maxlen = max_review_length)\n",
    "\n",
    "word_index = tokenizer.word_index"
   ]
  },
  {
   "cell_type": "code",
   "execution_count": 255,
   "metadata": {},
   "outputs": [],
   "source": [
    "nb_words  = min(MAX_NB_WORDS, len(word_index))\n",
    "lstm_out = max_review_length\n",
    "\n",
    "model = Sequential()\n",
    "model.add(Embedding(nb_words,EMBEDDING_DIM,input_length=max_review_length))\n",
    "#model.add(Dropout(0.2))\n",
    "\n",
    "## add conv using kernal No.32 and size 3x3, actiation='relu'(rm neg)\n",
    "# model.add(Conv1D(filters=32, kernel_size=3, padding='same', activation='relu'))\n",
    "# model.add(MaxPool1D(pool_size=2))\n",
    "model.add(Bidirectional(LSTM(20, return_sequences=True)))\n",
    "#model.add(Dropout(0.2))\n",
    "model.add(Bidirectional(LSTM(20)))\n",
    "#model.add(Attention(max_review_length))\n",
    "model.add(Dense(1, activation = 'sigmoid'))\n",
    "\n",
    "## one-code mutiple categories targets use 'categorical_crossentropy' not 'binary_crossentropy'\n",
    "model.compile(loss='binary_crossentropy',optimizer='adam',metrics =['accuracy'])"
   ]
  },
  {
   "cell_type": "code",
   "execution_count": 256,
   "metadata": {},
   "outputs": [
    {
     "name": "stdout",
     "output_type": "stream",
     "text": [
      "_________________________________________________________________\n",
      "Layer (type)                 Output Shape              Param #   \n",
      "=================================================================\n",
      "embedding_11 (Embedding)     (None, 500, 160)          80000     \n",
      "_________________________________________________________________\n",
      "bidirectional_19 (Bidirectio (None, 500, 40)           28960     \n",
      "_________________________________________________________________\n",
      "bidirectional_20 (Bidirectio (None, 40)                9760      \n",
      "_________________________________________________________________\n",
      "dense_11 (Dense)             (None, 1)                 41        \n",
      "=================================================================\n",
      "Total params: 118,761\n",
      "Trainable params: 118,761\n",
      "Non-trainable params: 0\n",
      "_________________________________________________________________\n"
     ]
    }
   ],
   "source": [
    "model.summary()"
   ]
  },
  {
   "cell_type": "code",
   "execution_count": 257,
   "metadata": {},
   "outputs": [
    {
     "name": "stderr",
     "output_type": "stream",
     "text": [
      "/home/ubuntu/anaconda3/envs/amazonei_tensorflow_p36/lib/python3.6/site-packages/tensorflow/python/ops/gradients_impl.py:112: UserWarning: Converting sparse IndexedSlices to a dense Tensor of unknown shape. This may consume a large amount of memory.\n",
      "  \"Converting sparse IndexedSlices to a dense Tensor of unknown shape. \"\n"
     ]
    },
    {
     "name": "stdout",
     "output_type": "stream",
     "text": [
      "Train on 2662 samples, validate on 666 samples\n",
      "Epoch 1/40\n",
      "2662/2662 [==============================] - 64s 24ms/step - loss: 0.5210 - acc: 0.7750 - val_loss: 0.3421 - val_acc: 0.8904\n",
      "Epoch 2/40\n",
      "2662/2662 [==============================] - 55s 21ms/step - loss: 0.3183 - acc: 0.8948 - val_loss: 0.3039 - val_acc: 0.8919\n",
      "Epoch 3/40\n",
      "2662/2662 [==============================] - 55s 21ms/step - loss: 0.2656 - acc: 0.9050 - val_loss: 0.2881 - val_acc: 0.8964\n",
      "Epoch 4/40\n",
      "2662/2662 [==============================] - 55s 21ms/step - loss: 0.2230 - acc: 0.9252 - val_loss: 0.3098 - val_acc: 0.8994\n",
      "Epoch 5/40\n",
      "2662/2662 [==============================] - 55s 21ms/step - loss: 0.2017 - acc: 0.9350 - val_loss: 0.3386 - val_acc: 0.8904\n",
      "Epoch 6/40\n",
      "2662/2662 [==============================] - 55s 21ms/step - loss: 0.1762 - acc: 0.9452 - val_loss: 0.3426 - val_acc: 0.8904\n"
     ]
    }
   ],
   "source": [
    "from tensorflow.keras.callbacks import EarlyStopping, ModelCheckpoint\n",
    "\n",
    "# Run LSTM Model\n",
    "batch = 32 \n",
    "epoch = 40\n",
    "\n",
    "early_stopping = EarlyStopping(patience = 3)\n",
    "\n",
    "LSTM_model = model.fit(X_train, y_train, batch_size=batch, epochs=epoch,\n",
    "                       validation_split=0.2,callbacks=[early_stopping], shuffle = True)\n",
    "\n",
    "best_score = min(LSTM_model.history['val_loss'])"
   ]
  },
  {
   "cell_type": "code",
   "execution_count": 258,
   "metadata": {},
   "outputs": [],
   "source": [
    "LSTM_model_history = pd.DataFrame(LSTM_model.history)\n",
    "file_name = \"web_20_bilstm_2layer.csv\"\n",
    "LSTM_model_history.to_csv( file_name)"
   ]
  },
  {
   "cell_type": "code",
   "execution_count": 259,
   "metadata": {},
   "outputs": [
    {
     "name": "stdout",
     "output_type": "stream",
     "text": [
      "        acc      loss   val_acc  val_loss\n",
      "0  0.774981  0.520957  0.890390  0.342128\n",
      "1  0.894816  0.318262  0.891892  0.303892\n",
      "2  0.904959  0.265552  0.896396  0.288140\n",
      "3  0.925244  0.223020  0.899399  0.309773\n",
      "4  0.935011  0.201723  0.890390  0.338649\n",
      "5  0.945154  0.176243  0.890390  0.342597\n"
     ]
    }
   ],
   "source": [
    "print(LSTM_model_history)"
   ]
  },
  {
   "cell_type": "code",
   "execution_count": 260,
   "metadata": {},
   "outputs": [],
   "source": [
    "#model.save(\"web_20_bilstm_2layer.h5\")"
   ]
  },
  {
   "cell_type": "code",
   "execution_count": 261,
   "metadata": {},
   "outputs": [
    {
     "data": {
      "text/plain": [
       "Text(0.5,0,'epoch')"
      ]
     },
     "execution_count": 261,
     "metadata": {},
     "output_type": "execute_result"
    },
    {
     "data": {
      "image/png": "[encoded data removed]",
      "text/plain": [
       "<Figure size 432x288 with 1 Axes>"
      ]
     },
     "metadata": {},
     "output_type": "display_data"
    }
   ],
   "source": [
    "plt.plot(LSTM_model.history['loss'],label='train')\n",
    "plt.plot(LSTM_model.history['val_loss'],label='validation')\n",
    "plt.ylabel(\"loss\")\n",
    "plt.xlabel(\"epoch\")"
   ]
  },
  {
   "cell_type": "code",
   "execution_count": 262,
   "metadata": {},
   "outputs": [
    {
     "name": "stdout",
     "output_type": "stream",
     "text": [
      "832/832 [==============================] - 2s 2ms/step\n"
     ]
    },
    {
     "data": {
      "text/plain": [
       "[0.3778531223248977, 0.871394223605211]"
      ]
     },
     "execution_count": 262,
     "metadata": {},
     "output_type": "execute_result"
    }
   ],
   "source": [
    "from sklearn.metrics import accuracy_score, confusion_matrix\n",
    "from tensorflow.keras.models import load_model\n",
    "#model = load_model(\"web_20_bilstm_2layer.h5\")\n",
    "#LSTM_model = model.fit(X_train, y_train, batch_size=batch, epochs=epoch)\n",
    "\n",
    "accr = model.evaluate(X_test,y_test, batch_size = 100)\n",
    "accr"
   ]
  },
  {
   "cell_type": "code",
   "execution_count": 263,
   "metadata": {},
   "outputs": [],
   "source": [
    "#             acc      loss   val_acc  val_loss\n",
    "#     0  0.670173  0.597171  0.770270  0.465685\n",
    "#     1  0.800902  0.425928  0.779279  0.446773\n",
    "#     2  0.849737  0.355651  0.794294  0.434360\n",
    "#     3  0.869647  0.318369  0.800300  0.442692\n",
    "#     4  0.886927  0.287467  0.801802  0.473488\n",
    "#     5  0.900826  0.256769  0.792793  0.538440\n",
    "\n",
    "#     [0.9755449504233323, 0.6394230763499553]\n",
    "\n",
    "#     array([[373, 133],\n",
    "#            [167, 159]])"
   ]
  },
  {
   "cell_type": "code",
   "execution_count": 264,
   "metadata": {},
   "outputs": [
    {
     "data": {
      "text/plain": [
       "array([[187,  63],\n",
       "       [ 44, 538]])"
      ]
     },
     "execution_count": 264,
     "metadata": {},
     "output_type": "execute_result"
    }
   ],
   "source": [
    "y_test_pred = model.predict_classes(X_test)\n",
    "confusion_matrix(y_test,y_test_pred)"
   ]
  },
  {
   "cell_type": "code",
   "execution_count": 266,
   "metadata": {},
   "outputs": [],
   "source": [
    "y_test_pro = model.predict_proba(X_test)"
   ]
  },
  {
   "cell_type": "code",
   "execution_count": 267,
   "metadata": {},
   "outputs": [
    {
     "name": "stdout",
     "output_type": "stream",
     "text": [
      "0.9044776632302406\n"
     ]
    },
    {
     "data": {
      "text/plain": [
       "[<matplotlib.lines.Line2D at 0x7f215f320f28>]"
      ]
     },
     "execution_count": 267,
     "metadata": {},
     "output_type": "execute_result"
    },
    {
     "data": {
      "image/png": "[encoded data removed]",
      "text/plain": [
       "<Figure size 432x288 with 1 Axes>"
      ]
     },
     "metadata": {},
     "output_type": "display_data"
    }
   ],
   "source": [
    "from sklearn.metrics import roc_auc_score, roc_curve\n",
    "print(roc_auc_score(y_test,y_test_pro))\n",
    "fpr, tpr, thre = roc_curve(y_test,y_test_pro)\n",
    "\n",
    "plt.plot(fpr,tpr)"
   ]
  },
  {
   "cell_type": "markdown",
   "metadata": {},
   "source": [
    "## predict sentence"
   ]
  },
  {
   "cell_type": "code",
   "execution_count": 174,
   "metadata": {},
   "outputs": [],
   "source": [
    "first_quest2 = pd.read_csv(\"../wit_ai_sentment/SE_tem_l400_first_request.ccv\",index_col=0)"
   ]
  },
  {
   "cell_type": "code",
   "execution_count": 199,
   "metadata": {},
   "outputs": [],
   "source": [
    "y_wit = ((first_quest2['value'] == \"negative\")).astype(int)\n",
    "X_wit = clean_text(first_quest2,'text')"
   ]
  },
  {
   "cell_type": "code",
   "execution_count": 200,
   "metadata": {},
   "outputs": [],
   "source": [
    "X_wit_sequences = tokenizer.texts_to_sequences(X_wit)\n",
    "X_wit_trans = sequence.pad_sequences(X_wit_sequences, maxlen = max_review_length)\n"
   ]
  },
  {
   "cell_type": "code",
   "execution_count": 201,
   "metadata": {},
   "outputs": [
    {
     "name": "stdout",
     "output_type": "stream",
     "text": [
      "30689/30689 [==============================] - 71s 2ms/step\n"
     ]
    },
    {
     "data": {
      "text/plain": [
       "[1.094872981872162, 0.6102186445966292]"
      ]
     },
     "execution_count": 201,
     "metadata": {},
     "output_type": "execute_result"
    }
   ],
   "source": [
    "accr = model.evaluate(X_wit_trans,y_wit, batch_size = 100)\n",
    "accr"
   ]
  },
  {
   "cell_type": "code",
   "execution_count": 202,
   "metadata": {},
   "outputs": [
    {
     "data": {
      "text/plain": [
       "array([[10745,  3179],\n",
       "       [ 8783,  7982]])"
      ]
     },
     "execution_count": 202,
     "metadata": {},
     "output_type": "execute_result"
    }
   ],
   "source": [
    "y_test_pred = model.predict_classes(X_wit_trans)\n",
    "confusion_matrix(y_wit,y_test_pred)"
   ]
  },
  {
   "cell_type": "code",
   "execution_count": 180,
   "metadata": {},
   "outputs": [],
   "source": [
    "## [1.620907984605271, 0.5002443838369665]\n",
    "## array([[11736,  2188],\n",
    "##       [13149,  3616]])"
   ]
  },
  {
   "cell_type": "code",
   "execution_count": 192,
   "metadata": {},
   "outputs": [
    {
     "name": "stdout",
     "output_type": "stream",
     "text": [
      "my onli side effect is weight gain\n",
      "\n",
      "==================================\n",
      "ive been on desvenlafaxin actavi for over year now for anxietyang and depress i was see a psychologist for the first three month of have the drug an experienc minim side effect a littl dizzi here and there\n",
      "\n",
      "==================================\n",
      "it help with some of the fibro pain and i felt tire and a littl dizzi along with have dri mouth which i expect as common side effect\n",
      "\n",
      "==================================\n",
      "it did stop the migrain but the other side effect were horribl\n",
      "\n",
      "==================================\n",
      "the reason be is becaus your bodi is adjust to the new birth control and of cours your go to experi break out bleed common birth control side effect and of cours be over emot\n",
      "\n",
      "==================================\n",
      "hope the side effect dont worsen and the benefit continu\n",
      "\n",
      "==================================\n",
      "no side effect mayb weight gain but im also eat again when befor i was bare eat and drop lbs\n",
      "\n",
      "==================================\n",
      "the onli anti inflammatori med i could take without side effect\n",
      "\n",
      "==================================\n",
      "all test were negat and they hospit sent this compani a letter state they need to add stroke to their list of side effect\n",
      "\n",
      "==================================\n",
      "i tri various antidepress which had the usual side effect of headach sluggish low libido and weight gain i have notic a few side effect   the first week my skin was veri itchi and im lose more hair than usual\n",
      "\n",
      "==================================\n"
     ]
    }
   ],
   "source": [
    "for sen in X_wit[y_test_pred.flatten() == 1].sample(10):\n",
    "    print(sen+\"\\n\")\n",
    "    print(\"==================================\")"
   ]
  },
  {
   "cell_type": "code",
   "execution_count": null,
   "metadata": {},
   "outputs": [],
   "source": [
    "## 8/10(8.5/10)"
   ]
  },
  {
   "cell_type": "code",
   "execution_count": null,
   "metadata": {},
   "outputs": [],
   "source": []
  },
  {
   "cell_type": "code",
   "execution_count": 193,
   "metadata": {},
   "outputs": [
    {
     "name": "stdout",
     "output_type": "stream",
     "text": [
      "so far i have had no side effect and no problem with it\n",
      "\n",
      "==================================\n",
      "notic within a few hour i was have side effect\n",
      "\n",
      "==================================\n",
      "i have ibd so mayb i had stomach upset as a side effect but it was noth out of the ordinari for me so didnt notic\n",
      "\n",
      "==================================\n",
      "i had no notic side effect and everyth went well\n",
      "\n",
      "==================================\n",
      "no sexual side effect\n",
      "\n",
      "==================================\n",
      "cymbalta did absolut noth for pain ive had no side effect from the drug at all none i did a less than day switch over from cymbalta to savella with advers effect or side effect this medicin is work both for the depress &amp\n",
      "\n",
      "==================================\n",
      "i love how effect it is as a birth control but i cant stand the side effect\n",
      "\n",
      "==================================\n",
      "it has complet prevent ani pregnanc and i never had one negat side effect\n",
      "\n",
      "==================================\n",
      "it doe have a side effect of drowsi a clumsi effect but the sleep i get is wonder\n",
      "\n",
      "==================================\n",
      "im so fortun in that ive had no side effect i know that some are experienc terribl side effect but i want to chime in and say that not everyon experi them\n",
      "\n",
      "==================================\n"
     ]
    }
   ],
   "source": [
    "for sen in X_wit[y_test_pred.flatten() == 0].sample(10):\n",
    "    print(sen+\"\\n\")\n",
    "    print(\"==================================\")"
   ]
  },
  {
   "cell_type": "code",
   "execution_count": null,
   "metadata": {},
   "outputs": [],
   "source": [
    "## 6/10"
   ]
  },
  {
   "cell_type": "markdown",
   "metadata": {},
   "source": [
    "## predict comments with wit lableled"
   ]
  },
  {
   "cell_type": "code",
   "execution_count": 208,
   "metadata": {},
   "outputs": [],
   "source": [
    "drugsComTrain = pd.read_csv('../drugsCom_raw/drugsComTrain_raw.tsv',sep='\\t',index_col=0)#.sample(40000)\n"
   ]
  },
  {
   "cell_type": "code",
   "execution_count": 222,
   "metadata": {
    "scrolled": false
   },
   "outputs": [],
   "source": [
    "first_quest3 = pd.merge(first_quest2,drugsComTrain,left_index=True,right_index=True,how='left')\n",
    "y_wit = ((first_quest3['value'] == \"negative\")).astype(int)\n",
    "X_wit = clean_text(first_quest3,'review')"
   ]
  },
  {
   "cell_type": "code",
   "execution_count": 223,
   "metadata": {},
   "outputs": [
    {
     "name": "stdout",
     "output_type": "stream",
     "text": [
      "30689/30689 [==============================] - 71s 2ms/step\n"
     ]
    },
    {
     "data": {
      "text/plain": [
       "[1.4372596507346067, 0.5778617738197461]"
      ]
     },
     "execution_count": 223,
     "metadata": {},
     "output_type": "execute_result"
    }
   ],
   "source": [
    "X_wit_sequences = tokenizer.texts_to_sequences(X_wit)\n",
    "X_wit_trans = sequence.pad_sequences(X_wit_sequences, maxlen = max_review_length)\n",
    "\n",
    "accr = model.evaluate(X_wit_trans,y_wit, batch_size = 100)\n",
    "accr"
   ]
  },
  {
   "cell_type": "code",
   "execution_count": 224,
   "metadata": {},
   "outputs": [
    {
     "data": {
      "text/plain": [
       "array([[ 4008,  9916],\n",
       "       [ 3039, 13726]])"
      ]
     },
     "execution_count": 224,
     "metadata": {},
     "output_type": "execute_result"
    }
   ],
   "source": [
    "y_test_pred = model.predict_classes(X_wit_trans)\n",
    "confusion_matrix(y_wit,y_test_pred)"
   ]
  },
  {
   "cell_type": "code",
   "execution_count": 225,
   "metadata": {},
   "outputs": [
    {
     "name": "stdout",
     "output_type": "stream",
     "text": [
      "i have been on zoloft for a year to treat ocd this drug has taken away my pain and destruct symptom though this is a process that has been aid by intens talk therapi my side effect are increas in intens as time goe on main dri mouth and nausea howev terribl these side effect may sound i would rather deal with them than the symptom of ocd and depress on ani given day\n",
      "\n",
      "==================================\n",
      "i&rsquov taken clindamycin a coupl time over the last few year and have had minor side effect heart burn is the worst side effect i have experienc but i start take the pill dure meal and it help great i guess it&rsquo becaus it&rsquo go down with other food and not by itself this antibiot is definit strong and doe the job of get rid of infect take some probiot and zantac with it and you&rsquol be good to go\n",
      "\n",
      "==================================\n",
      "i had been on plaquenil for near year for lupus so long that i didnt rememb ani side effect i saw my rheumatologist recent and he said that he felt that i was in remiss so i decid to come off of it for awhil within a week or so i notic that i had a new dimpl in my cheek then within the next week the shape of my face chang and the &quotapple&quot cheek that i had assum for all these year was from lupus disappear i have lost about lbs sinc i went off a month ago and no longer have ring in my ear or crippl vertigo i do have a lot more pain and swell but i will never go back on this drug i am so thank that i chose to tri to go without it\n",
      "\n",
      "==================================\n",
      "i got my nexplanon insert sept th day after have my son im not sure if these bad side effect im have are from the implant or postpartum stuff still no bleed anymor but have a horribl foul discharg daili along with irrit and dryness i thought it could still be post partum lochia but now im not sure read that a side effect from nexplanon could be vagin also am notic headach and breakout more than usual if this continu i will not continu this method so far not so good\n",
      "\n",
      "==================================\n",
      "this was the absolut wrong drug for me not sure whi my doc put me on this as i dont have a mood disord i have depress and anxieti but i got weird side effect like breathless difficulti swallow and a feel of not be abl to clear my throat   super phlegmi and i cant get it out which actual increas my anxieti onc i put two and two togeth i immedi stop take those pill not the right med for depress and anxieti\n",
      "\n",
      "==================================\n",
      "i start on effexor that medicin made me sick and nauseat my dr decid to put me on buspar instead this medicin made my anxieti so much better and the side effect are veri minim i onli get a littl light head for a short time but that so much better than be sick to my stomach this stuff has realli help me get through a rough time\n",
      "\n",
      "==================================\n",
      "my mother grandmoth and i all get frequent urinari tract infect i felt a terribl one come and took macrobid the discomfort was almost immedi gone i took it with piec of toast and had no side effect whatsoev and i am the type of person that usual doe\n",
      "\n",
      "==================================\n",
      "after year off birth control my dr start me on lo loestrin fe to regul my shorten cycl and perimenopaus symptom i didnt have ani problem with the pill when i took it year ago so i realli didnt expect this roller coaster the first month i had constant cramp night sweat and bloat but my cycl did extend to day and was signific lighter the second month i had bleed and spot for straight day i was worri i had cancer my doctor feel a pill with higher estrogen will do the trick im readi to tri anyth but this anoth month i realiz everyon respond differ to everi med im onli post to help some els who may be experienc the side effect\n",
      "\n",
      "==================================\n",
      "prescrib this for heart palpitationstachycardia associ with extrem anxieti and panic attack also had rather elev blood pressur which i think run in the famili felt aw for week prior to be prescrib the medic but onc i start take it thing improv veri quick rest heart rate and blood pressur both down no more palpit far less health anxieti doctor describ it as have a &quotcalm effect&quot and i definit agre no side effect to speak of thus far about month in mg immedi releas onc per day\n",
      "\n",
      "==================================\n",
      "ive been take this for about year and it has help with stress and depress though more so for stress i start take wellbutrin about month ago as well due to depress get wors and the combin has help tremend i have had &quotbrain zaps&quot when i havent taken my morn dose by about noon the follow day and have been out for a few day so they were even wors but i feel the benefit outweigh that while one side effect can be constip venlafaxin has actual help as i use to have the opposit problem overal i think both mess are great\n",
      "\n",
      "==================================\n"
     ]
    }
   ],
   "source": [
    "for sen in X_wit[y_test_pred.flatten() == 1].sample(10):\n",
    "    print(sen+\"\\n\")\n",
    "    print(\"==================================\")"
   ]
  },
  {
   "cell_type": "code",
   "execution_count": null,
   "metadata": {},
   "outputs": [],
   "source": [
    "## 8/10(7.5/10)"
   ]
  },
  {
   "cell_type": "code",
   "execution_count": 226,
   "metadata": {},
   "outputs": [
    {
     "name": "stdout",
     "output_type": "stream",
     "text": [
      "have suffer chronic knee and lower back pain for year sever osteoarthr of both knee and have torn and bulg disc age i am so grate to the locum who initi prescrib oxycontin month ago now mg x   a prescript for the first time which has lessen the pain and at last improv my qualiti of life i was veri reluct to tri an opiat and remain on a lower dose by choic for me the side effect and fear of becom depend is far outweigh by the relief provid all medicin can be abus and can have side effect   it a fine balanc but genuin chronic pain suffer must not be deni an effect treatment\n",
      "\n",
      "==================================\n",
      "i am an alcohol in recoveri and have been sober for over year i use this drug when it was fair new and i was in rehab seem to work along with all the other tool given to me at that time no side effect that i can recal\n",
      "\n",
      "==================================\n",
      "i have been take anastrazol mg daili sinc for the treatment of breast cancer i have not receiv chemotherapi or radiat this is truli a dread diseas that impos a life sentenc on you i too can attest to some veri uncomfort side effect but i also accept that there is realli no medicin which is side effect free i feel stiff most of the time my muscl ach and i am weari for the most part i walk veri slow and has problem ascend the stair my migrain had subsid as i age but they have start to hit me up again nevertheless i am truli grate to this medicin and intend to take it for the durat i am glad it has assist in the arrest of the diseas i am year old\n",
      "\n",
      "==================================\n",
      "as a first time user of birth control i did a lot of research after be prescrib loestrin fe i honest got veri scare after read so mani negat review that i almost didnt take it but i did and i am veri pleas with my experi i am and one of the main factor for me choos birth control was that i began work out a lot and start have a period time a month which i hate i take my pill at pm each night and have never had ani nausea weight gain pimpl or negat side effect i am an emot person so honest i cant give feedback on if it has affect my emot regardless i have not experienc ani extrem chang in myself im on pack and i love have a shorter period i recommend this birth control\n",
      "\n",
      "==================================\n",
      "i am on my st dose and after have bronchiti for the past day and feel horrid i feel % better after onli hour no side effect as of this time take in conjunct with an albuterol inhal\n",
      "\n",
      "==================================\n",
      "ive been on this pill for about month now and for the first three month i experienc a lot of nausea i have not had sex while on it yet so i cannot speak to that but i have not gain weight from it nor have i gotten more acn than i had befor i do recommend this pill becaus i have not had ani other side effect besid for the nausea this is also my first birth control hope this help\n",
      "\n",
      "==================================\n",
      "i took tablet around am saturday with nowher to go i was sever constip   about week without bm at pm it start work with no side effect what so ever i was shock becaus i read all the other review how horribl it is i think it realli depend on your bodi i think this is good for those that are sever constip and dont know what els to do this work for me after linzess miralax senna lactulos you name it did not work\n",
      "\n",
      "==================================\n",
      "suffer most of the side effect\n",
      "\n",
      "==================================\n",
      "wow sicker than a dog yesterday i had bronchiti and my dr prescrib levaquin this morn alreadi a mark improv no side effect and on my way to feel good as new\n",
      "\n",
      "==================================\n",
      "i absolut love the ring i dont have ani side effect and it so easi to onli rememb to take it inout onc a month compar to a pill everyday my partner say that it is notic dure foreplay but that he can not feel it at all dure sex nor can i it has came out two mayb three time befor dure sex but you can just put it right back in so it not a big deal i realli do love this bc and i would recommend it time\n",
      "\n",
      "==================================\n"
     ]
    }
   ],
   "source": [
    "for sen in X_wit[y_test_pred.flatten() == 0].sample(10):\n",
    "    print(sen+\"\\n\")\n",
    "    print(\"==================================\")"
   ]
  },
  {
   "cell_type": "code",
   "execution_count": null,
   "metadata": {},
   "outputs": [],
   "source": [
    "# 7/10"
   ]
  },
  {
   "cell_type": "markdown",
   "metadata": {},
   "source": [
    "## predict comments without wit lableled"
   ]
  },
  {
   "cell_type": "code",
   "execution_count": 230,
   "metadata": {},
   "outputs": [],
   "source": [
    "test = pd.read_csv(\"../drugsCom_raw/drugsComTest_raw.tsv\",sep='\\t', index_col=0)\n",
    "X_wit = clean_text(test,'review')"
   ]
  },
  {
   "cell_type": "code",
   "execution_count": 231,
   "metadata": {},
   "outputs": [],
   "source": [
    "X_wit_sequences = tokenizer.texts_to_sequences(X_wit)\n",
    "X_wit_trans = sequence.pad_sequences(X_wit_sequences, maxlen = max_review_length)"
   ]
  },
  {
   "cell_type": "code",
   "execution_count": 233,
   "metadata": {},
   "outputs": [],
   "source": [
    "y_test_pred = model.predict_classes(X_wit_trans)"
   ]
  },
  {
   "cell_type": "code",
   "execution_count": 234,
   "metadata": {},
   "outputs": [
    {
     "name": "stdout",
     "output_type": "stream",
     "text": [
      "i began treatment on qsymia under my physician care in march at lbs and follow simpl step toward chang my eat habit and amp up my exercis regimin it was not an overnight result i had up and down definit more posit than negat today i weigh lbs i am a yr old grandmoth and feel better and more youth than i did or more year ago my eat is a lifestyl not a diet my exercis is my therapi that make me happi the two combin give me a healthi bodi and qsymia jump start it all go into it with the right frame of mind and determin will make all the differ qsymia is the tool that work for me and i love what it did for me\n",
      "\n",
      "==================================\n",
      "it help but unfortun all walmart in reno nv are constant out of stock i went to a pharmaci think sur they must stock the product but i had no luck the pharmacist had no i deal what this product was i felt like the pharmacist thought i was ask for oxycontin i wish they would chang the name and stock the store better with this product what a shame now i will have to depend on a physician for a perscript this product onli help for the first two day not for four day as advertis\n",
      "\n",
      "==================================\n",
      "was so excit to tri effexor xl and did for the past year well i didnt realiz that it made me anhedonia or without feel toward a lot of thing i just went on my merri way but would do nothingsat and watch tv couldnt get anyth done everyth was just greatthat is what i thoughtthen i start gain weightgradu but i mean  # over the past year or sobut just kept on eat then i thought i have to do someth about this i gradual took myself off but wow the side effect of the withdrawl was unbeliev my son told me never to do that againand i told him seethi medic has so chang meand i will never take that againtri to lose this weight now\n",
      "\n",
      "==================================\n",
      "absolut hate this pill was on nuvar but co pay was go up to buck a month and i couldnt afford that this pill make me moodi and littl thing bother me that shouldnt i have no sex drive breast are tender and dont want to be touch unfortun i have to wait out the month befor switch to anoth pill definit not a fan of this birth control\n",
      "\n",
      "==================================\n",
      "im just start my rd week here what ive experienc   less frequent trip to bathroom at night or vs normal but if i drink coffe after dinner i revert back to same with beer   no ejacul while somewhat disconcert all still feel the same dure intercours i close my eye dure mb and dont worri about it   more consist stream   stuffi nose   dr gave me a coupon so i onli pay  month you can also download same at rapaflo websit may not work if your on medicar i go back to dr next week to see if blood still in urin i hope not\n",
      "\n",
      "==================================\n",
      "im current on a mood swing so forgiv me although ive just start this pill week ago everi other day i cri for no reason then i get angri and mad and just lose my appetit and sick to my stomach i feel bloat daili and just annoy i have my good day i was so much more happi though befor the pill and the onli great thing is my breast grew like size haha other than that im make an appoint tomorrow im fed up with these strang mood swing\n",
      "\n",
      "==================================\n",
      "i have had bad experi in term of mood swing and depress with mani differ birth control pill but i am enjoy the ring i have some gas but besid that the side effect have been minim\n",
      "\n",
      "==================================\n",
      "the muscl pain was so sever at night that i was onli get an hour or two of sleep each night the fatigu was so bad i could hard roll over to get off the bed or couch i had been take cymbalta for nerv damag from cancer surgeri so it was not help the condit the rheumologist start me on savella the muscl pain improv drastic although the fatigu continu for about a month i hire a trainer and work out with stretch and weight time a week and do stretch exercis everi day i also take zanax and trazadon at night to sleep as the savella also keep me awak and hyperact i still have the nerv pain from the cancer surgeri all the time at vari level\n",
      "\n",
      "==================================\n",
      "help me sleep but i dont notic much relax of the jaw muscl i onli take mg as i dont like pill so mayb that is whi say i can take up to mg i havent felt some of what other have said in previous review\n",
      "\n",
      "==================================\n",
      "i love this product i was in sever pain until i start take advil right away i like felt the pain go away   it was like the first time i heard the beatl thank you so much\n",
      "\n",
      "==================================\n"
     ]
    }
   ],
   "source": [
    "for sen in X_wit[y_test_pred.flatten() == 1].sample(10):\n",
    "    print(sen+\"\\n\")\n",
    "    print(\"==================================\")"
   ]
  },
  {
   "cell_type": "code",
   "execution_count": 235,
   "metadata": {},
   "outputs": [
    {
     "name": "stdout",
     "output_type": "stream",
     "text": [
      "i start this contracept at to control my acn and it did a great job i had no problem i did experi a lack of hunger it was kinda weird but it didnt effect my life i just had to make myself eat now that i am i have no side effect at all i havent realli put it to the test in prevent pregnanc but im not pregnant and havent been so that also a plus\n",
      "\n",
      "==================================\n",
      "this medic is excel i have had horribl angioedema a type of urticaria where the hive form under the skin sinc i was ten year old from an autoimmun diseas and have gone through sever differ medic but this onc has work the most effect and i can tell how well it work becaus when i forget to take it the hive show up within about hour after the miss dose and onc i rememb to take the miss dose within about two hour it feel as though i never had angioedema at all\n",
      "\n",
      "==================================\n",
      "i know it work but i have realli bad breath never befor have i had a problem with that but know i cannot eat enough mint i will take that side effect becaus i feel % better\n",
      "\n",
      "==================================\n",
      "i have a veri stubborn sinus infect i have had round of a z pac biaxin xl augmentin and no success whatsoev im current on day of bactrim ds and im also take a probiot as well as a b complex vitamin with vit c in this short time i am feel so much better no side effect at all not one complaint i am so happi to be on this it actual work for me\n",
      "\n",
      "==================================\n",
      "i hate this birth control i have had it for year and it been crazi year deal with the side effect im go to remov it i made my appoint and it come out i wouldnt recommend it even though it doe help with not get pregnant but deal with the side effect is the wors part i would bleed for like week straight and i wont for a week and the bleed will start again i have had breast pain acn etc thing that i never experienc with other birth control not satisfi at all with this birth control\n",
      "\n",
      "==================================\n",
      "i start take celexa a week ago for social anxieti disord and i alreadi feel major relief for the first time i was social at work and made new friend i feel happier and can focus on care about other thing and peopl rather than just myself i had social anxieti but i can honest say that this medicin has work miracl on me so far and im onli on mg this medicin has quit liter save my life if you are experienc depress or anxieti in my opinion it not worth it to keep fight it without medic i suffer from social anxieti disord for year befor final decid to take it now i wish i had taken it much sooner\n",
      "\n",
      "==================================\n",
      "it work instant\n",
      "\n",
      "==================================\n",
      "take care of my chronic knee pain due to cancer i am not a candid for a replac at this time though i am need of them tramadol keep me from suffer i usual take daili prescript is for daili i up it to three if i have a day where i am veri activ everyth has side effect and i can live with tramadol i like that i can drive and go to work while take it\n",
      "\n",
      "==================================\n",
      "i have been attempt to use luvox for my obsess compuls disord but i have a weak stomach so i havent made it off the mg yet until my bodi adjust i could tell that i was get better though i stop it for a week and my compuls came back wors than befor ive read some peopl think they dont have ocd becaus they dont have compuls compuls are not need for the diagnosi just obsess i am a social worker so it has been difficult to help other with their mental ill when i suffer from ocd and adhd which i didnt start medic for until recent i am i am hope my pick will go away complet onc i adjust to the medicin \n",
      "\n",
      "==================================\n",
      "ive been take lisinopril mg onc daili sinc april of this year in juli my endocrinologist increas me to mg twice daili in octob i start get headach at first i thought it was just season allergi and sinus problem the headach have gotten horribl i can bare stand them and sometim they make me dizzi i havent realli notic a big differ in my blood pressur either so today im contact my endocrinologist today to see if she can make a recommend for someth els i didnt realiz that headach were a side effect of this medic until i log on to find out if it was possibl it could be the lisinopril i have never experienc headach like this\n",
      "\n",
      "==================================\n"
     ]
    }
   ],
   "source": [
    "for sen in X_wit[y_test_pred.flatten() == 0].sample(10):\n",
    "    print(sen+\"\\n\")\n",
    "    print(\"==================================\")"
   ]
  },
  {
   "cell_type": "code",
   "execution_count": null,
   "metadata": {},
   "outputs": [],
   "source": [
    "## 7/10 (6.5/10)"
   ]
  }
 ],
 "metadata": {
  "kernelspec": {
   "display_name": "Environment (conda_amazonei_tensorflow_p36)",
   "language": "python",
   "name": "conda_amazonei_tensorflow_p36"
  },
  "language_info": {
   "codemirror_mode": {
    "name": "ipython",
    "version": 3
   },
   "file_extension": ".py",
   "mimetype": "text/x-python",
   "name": "python",
   "nbconvert_exporter": "python",
   "pygments_lexer": "ipython3",
   "version": "3.6.5"
  }
 },
 "nbformat": 4,
 "nbformat_minor": 2
}
