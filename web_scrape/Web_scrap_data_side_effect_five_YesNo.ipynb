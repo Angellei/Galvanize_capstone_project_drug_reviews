{
 "cells": [
  {
   "cell_type": "code",
   "execution_count": 213,
   "metadata": {},
   "outputs": [],
   "source": [
    "import pandas as pd\n",
    "import numpy as np\n",
    "import matplotlib.pyplot as plt\n",
    "import seaborn as sns\n",
    "from statsmodels.stats.proportion import proportions_chisquare\n",
    "from scipy.stats import chisquare\n",
    "import pickle\n",
    "from bs4 import BeautifulSoup\n",
    "from collections import defaultdict\n",
    "import requests\n",
    "%matplotlib inline\n",
    "\n",
    "import nltk\n",
    "from nltk.tokenize import word_tokenize\n",
    "import string\n",
    "from nltk.stem.snowball import SnowballStemmer\n",
    "import re\n",
    "from sklearn.linear_model import LogisticRegression\n",
    "from sklearn.model_selection import cross_val_score\n",
    "from sklearn.feature_extraction.text import TfidfVectorizer, CountVectorizer\n",
    "#from wordcloud import WordCloud\n",
    "from sklearn.model_selection import train_test_split\n",
    "from sklearn.svm import SVC\n",
    "from sklearn.ensemble import RandomForestClassifier\n",
    "from sklearn.ensemble import GradientBoostingClassifier\n",
    "from sklearn.metrics import accuracy_score\n",
    "from sklearn.metrics import roc_auc_score,  roc_curve\n",
    "\n",
    "np.random.seed(9)\n"
   ]
  },
  {
   "cell_type": "code",
   "execution_count": null,
   "metadata": {},
   "outputs": [],
   "source": []
  },
  {
   "cell_type": "code",
   "execution_count": 214,
   "metadata": {},
   "outputs": [],
   "source": [
    "## only need to remove punctuation and stemize\n",
    "stemmer = SnowballStemmer('english')\n",
    "\n",
    "def stem_tokens(tokens, stemmer):\n",
    "    stemmed = []\n",
    "    for item in tokens:\n",
    "        stemmed.append(stemmer.stem(item))\n",
    "    return stemmed\n",
    "\n",
    "def tokenize(text):\n",
    "    text = \"\".join([ch for ch in text if ch not in string.punctuation])\n",
    "    tokens = nltk.word_tokenize(text)\n",
    "    stems = stem_tokens(tokens, stemmer)\n",
    "    return stems"
   ]
  },
  {
   "cell_type": "code",
   "execution_count": 215,
   "metadata": {
    "scrolled": false
   },
   "outputs": [],
   "source": [
    "df = pd.read_csv(\"web_scrap.csv\",index_col=0).drop_duplicates()\n",
    "df.columns = ['first','Overall rating','Effectiveness','Side effects','Condition','Dosage','Other conditions','Other drugs taken','Benefits','Detailed Side effects','Comments']\n",
    "tem = df['first'].str.split(\" \",expand=True)[[0,4,7]]\n",
    "tem.columns = ['name','age','gender']\n",
    "df = pd.concat([tem,df],1).drop('first',1)"
   ]
  },
  {
   "cell_type": "code",
   "execution_count": 216,
   "metadata": {
    "scrolled": false
   },
   "outputs": [
    {
     "data": {
      "text/plain": [
       "Side effects\n",
       " Extremely Severe Side Effects     259\n",
       " Mild Side Effects                1341\n",
       " Moderate Side Effects             855\n",
       " No Side Effects                  1213\n",
       " Severe Side Effects               492\n",
       "dtype: int64"
      ]
     },
     "execution_count": 216,
     "metadata": {},
     "output_type": "execute_result"
    }
   ],
   "source": [
    "df.groupby('Side effects').size()"
   ]
  },
  {
   "cell_type": "code",
   "execution_count": 217,
   "metadata": {
    "scrolled": false
   },
   "outputs": [
    {
     "data": {
      "text/plain": [
       "(4160, 13)"
      ]
     },
     "execution_count": 217,
     "metadata": {},
     "output_type": "execute_result"
    }
   ],
   "source": [
    "df.shape"
   ]
  },
  {
   "cell_type": "code",
   "execution_count": 218,
   "metadata": {},
   "outputs": [],
   "source": [
    "df['Side effects Yes/No'] = (df['Side effects'] != ' No Side Effects').astype(int)\n"
   ]
  },
  {
   "cell_type": "code",
   "execution_count": 219,
   "metadata": {
    "scrolled": false
   },
   "outputs": [],
   "source": [
    "train, test = train_test_split(df, test_size=0.2,random_state=100)"
   ]
  },
  {
   "cell_type": "code",
   "execution_count": 220,
   "metadata": {},
   "outputs": [],
   "source": [
    "train_unsplit = train['Detailed Side effects'] + ' ' + train['Comments'] + ' '+ train['Benefits']\n",
    "test_unsplit = test['Detailed Side effects'] + ' ' + test['Comments'] + ' '+ test['Benefits']"
   ]
  },
  {
   "cell_type": "code",
   "execution_count": 221,
   "metadata": {},
   "outputs": [],
   "source": [
    "con_vec = TfidfVectorizer(stop_words='english',tokenizer=tokenize)\n",
    "X_train = con_vec.fit_transform(train_unsplit)\n",
    "y_train = train['Side effects Yes/No']\n",
    "\n",
    "X_test = con_vec.transform(test_unsplit)\n",
    "y_test = test['Side effects Yes/No']"
   ]
  },
  {
   "cell_type": "code",
   "execution_count": 222,
   "metadata": {},
   "outputs": [],
   "source": [
    "## fit the model\n",
    "def fit_model(model):\n",
    "    model_cv_score = cross_val_score(model,X_train,y_train,scoring='accuracy',cv=3,n_jobs=-1)\n",
    "\n",
    "    model.fit(X_train,y_train)\n",
    "    \n",
    "    \n",
    "    y_test_pred = model.predict(X_test)\n",
    "    y_test_pro = model.predict_proba(X_test)\n",
    "    \n",
    "    acc = accuracy_score(y_test, y_test_pred)\n",
    "\n",
    "    print(\"Mean_accuracy_cv:\\t\" + str(np.mean(model_cv_score)))\n",
    "    print(\"Test_accuracy:\\t\" + str(acc))\n",
    "   \n",
    "    \n",
    "    fpr, tpr, thresholds = roc_curve(y_test, y_test_pro[:,1])\n",
    "    auc = roc_auc_score(y_test, y_test_pro[:,1])\n",
    "    print(\"Test_auc:\\t\" + str(auc))\n",
    "    return fpr, tpr, thresholds\n",
    "    "
   ]
  },
  {
   "cell_type": "markdown",
   "metadata": {},
   "source": [
    "## Logistic Regression"
   ]
  },
  {
   "cell_type": "code",
   "execution_count": 197,
   "metadata": {},
   "outputs": [
    {
     "name": "stdout",
     "output_type": "stream",
     "text": [
      "Mean_accuracy_cv:\t0.7557085489456995\n",
      "Test_accuracy:\t0.7355769230769231\n",
      "Test_auc:\t0.7823081121510441\n"
     ]
    }
   ],
   "source": [
    "lr = LogisticRegression(penalty='l1')\n",
    "fpr_lr, tpr_lr, thresholds_lr = fit_model(lr)"
   ]
  },
  {
   "cell_type": "markdown",
   "metadata": {},
   "source": [
    "## SVM linear kernel "
   ]
  },
  {
   "cell_type": "code",
   "execution_count": 266,
   "metadata": {},
   "outputs": [
    {
     "data": {
      "text/plain": [
       "array([0.76396396, 0.77998197, 0.76735798])"
      ]
     },
     "execution_count": 266,
     "metadata": {},
     "output_type": "execute_result"
    }
   ],
   "source": [
    "svm_lin = SVC(kernel='linear')\n",
    "svm_lin_cv_score = cross_val_score(svm_lin,X_train,y_train,scoring='accuracy',cv=3,n_jobs=-1)\n",
    "svm_lin_cv_score"
   ]
  },
  {
   "cell_type": "code",
   "execution_count": 268,
   "metadata": {},
   "outputs": [
    {
     "data": {
      "text/plain": [
       "0.7536057692307693"
      ]
     },
     "execution_count": 268,
     "metadata": {},
     "output_type": "execute_result"
    }
   ],
   "source": [
    "svm_lin = SVC(kernel='linear')\n",
    "svm_lin.fit(X_train,y_train)\n",
    "y_test_pred = svm_lin.predict(X_test)\n",
    "accuracy_score(y_test, y_test_pred)"
   ]
  },
  {
   "cell_type": "code",
   "execution_count": 254,
   "metadata": {},
   "outputs": [],
   "source": [
    "test = pd.read_csv(\"../drugsCom_raw/drugsComTest_raw.tsv\",sep='\\t', index_col=0)\n",
    "X_wit = clean_text(test,'review')\n",
    "X_wit_trans = con_vec.transform(X_wit)\n",
    "\n",
    "y_wit_pred = svm_lin.predict(X_wit_trans)"
   ]
  },
  {
   "cell_type": "code",
   "execution_count": 256,
   "metadata": {},
   "outputs": [],
   "source": [
    "pos_svm_lin = list(X_wit[y_wit_pred.flatten() == 1].sample(10))\n",
    "neg_svm_lin = list(X_wit[y_wit_pred.flatten() == 0].sample(10))\n",
    "\n",
    "svm_lin_pos_neg = pd.DataFrame(pos_svm_lin,neg_svm_lin).reset_index()\n",
    "svm_lin_pos_neg.columns = ['svm_lin_1','svm_lin_2']\n",
    "svm_lin_pos_neg.to_csv(\"svm_lin_pos_neg.csv\")"
   ]
  },
  {
   "cell_type": "code",
   "execution_count": 253,
   "metadata": {},
   "outputs": [
    {
     "data": {
      "text/plain": [
       "12070"
      ]
     },
     "execution_count": 253,
     "metadata": {},
     "output_type": "execute_result"
    }
   ],
   "source": [
    "len(con_vec.get_feature_names())\n",
    "len(svm_lin.coef_.toarray().ravel())"
   ]
  },
  {
   "cell_type": "code",
   "execution_count": 278,
   "metadata": {},
   "outputs": [
    {
     "data": {
      "image/png": "[encoded data removed]",
      "text/plain": [
       "<Figure size 1080x360 with 1 Axes>"
      ]
     },
     "metadata": {},
     "output_type": "display_data"
    }
   ],
   "source": [
    "def plot_coefficients(classifier, feature_names, top_features=20):\n",
    "    coef = classifier.coef_.toarray().ravel()\n",
    "    top_positive_coefficients = np.argsort(coef)[-top_features:]\n",
    "    top_negative_coefficients = np.argsort(coef)[:top_features]\n",
    "    top_coefficients = np.hstack([top_negative_coefficients, top_positive_coefficients])\n",
    "    plt.figure(figsize=(15, 5))\n",
    "    colors = ['red' if c < 0 else 'blue' for c in coef[top_coefficients]]\n",
    "    plt.bar(np.arange(2 * top_features), coef[top_coefficients], color=colors)\n",
    "    feature_names = np.array(feature_names)\n",
    "    plt.xticks(np.arange(1, 1 + 2 * top_features), feature_names[top_coefficients], rotation=60, ha='right')\n",
    "    plt.title(\"Top Features in Linear SVM\",fontsize=20)\n",
    "    plt.savefig(\"../Plot/top_features_lin_svm.png\")\n",
    "    plt.show()\n",
    "    \n",
    "plot_coefficients(svm_lin, con_vec.get_feature_names())"
   ]
  },
  {
   "cell_type": "code",
   "execution_count": 277,
   "metadata": {},
   "outputs": [
    {
     "name": "stdout",
     "output_type": "stream",
     "text": [
      "\u001b[0m\u001b[01;35mnum_comments_date.png\u001b[0m            \u001b[01;35mTop_condition_signif_month.png\u001b[0m\r\n",
      "\u001b[01;35mnum_comments_each_condition.png\u001b[0m  \u001b[01;35mwebscrap_exam.png\u001b[0m\r\n",
      "\u001b[01;35mPer_comments_month.png\u001b[0m\r\n"
     ]
    }
   ],
   "source": [
    "ls ../Plot"
   ]
  },
  {
   "cell_type": "markdown",
   "metadata": {},
   "source": [
    "## SVM rbf kernel"
   ]
  },
  {
   "cell_type": "code",
   "execution_count": 102,
   "metadata": {},
   "outputs": [
    {
     "data": {
      "text/plain": [
       "array([0.71351351, 0.71325518, 0.71325518])"
      ]
     },
     "execution_count": 102,
     "metadata": {},
     "output_type": "execute_result"
    }
   ],
   "source": [
    "svm_rbf = SVC(kernel='rbf')\n",
    "svm_rbf_cv_score = cross_val_score(svm_rbf,X_train,y_train,scoring='accuracy',cv=3,n_jobs=-1)\n",
    "svm_rbf_cv_score"
   ]
  },
  {
   "cell_type": "code",
   "execution_count": 103,
   "metadata": {},
   "outputs": [
    {
     "data": {
      "text/plain": [
       "0.6887019230769231"
      ]
     },
     "execution_count": 103,
     "metadata": {},
     "output_type": "execute_result"
    }
   ],
   "source": [
    "svm_rbf = SVC(kernel='rbf')\n",
    "svm_rbf.fit(X_train,y_train)\n",
    "y_test_pred = svm_rbf.predict(X_test)\n",
    "accuracy_score(y_test, y_test_pred)"
   ]
  },
  {
   "cell_type": "markdown",
   "metadata": {},
   "source": [
    "## Random Forest Classifier"
   ]
  },
  {
   "cell_type": "code",
   "execution_count": 198,
   "metadata": {},
   "outputs": [
    {
     "name": "stdout",
     "output_type": "stream",
     "text": [
      "Mean_accuracy_cv:\t0.7355775974351267\n",
      "Test_accuracy:\t0.7151442307692307\n",
      "Test_auc:\t0.7959496519705944\n"
     ]
    }
   ],
   "source": [
    "rfc = RandomForestClassifier(n_estimators=800,n_jobs=-1)\n",
    "fpr_rfc, tpr_rfc, thresholds_rfc = fit_model(rfc)"
   ]
  },
  {
   "cell_type": "code",
   "execution_count": 199,
   "metadata": {},
   "outputs": [
    {
     "data": {
      "text/plain": [
       "12070"
      ]
     },
     "execution_count": 199,
     "metadata": {},
     "output_type": "execute_result"
    }
   ],
   "source": [
    "rfc = RandomForestClassifier(n_estimators=800,n_jobs=-1)\n",
    "rfc.fit(X_train,y_train)\n",
    "len(rfc.feature_importances_)"
   ]
  },
  {
   "cell_type": "code",
   "execution_count": 200,
   "metadata": {},
   "outputs": [
    {
     "data": {
      "text/plain": [
       "<matplotlib.axes._subplots.AxesSubplot at 0x7f48115524a8>"
      ]
     },
     "execution_count": 200,
     "metadata": {},
     "output_type": "execute_result"
    },
    {
     "data": {
      "image/png": "[encoded data removed]",
      "text/plain": [
       "<Figure size 432x576 with 1 Axes>"
      ]
     },
     "metadata": {},
     "output_type": "display_data"
    }
   ],
   "source": [
    "importance = pd.DataFrame(rfc.feature_importances_,con_vec.get_feature_names())\n",
    "plt.figure(figsize=(6,8))\n",
    "importance[0].sort_values(ascending=False).head(30)[::-1].plot(kind='barh')"
   ]
  },
  {
   "cell_type": "code",
   "execution_count": 201,
   "metadata": {},
   "outputs": [],
   "source": [
    "test = pd.read_csv(\"../drugsCom_raw/drugsComTest_raw.tsv\",sep='\\t', index_col=0)\n",
    "X_wit = clean_text(test,'review')\n",
    "X_wit_trans = con_vec.transform(X_wit)"
   ]
  },
  {
   "cell_type": "code",
   "execution_count": 202,
   "metadata": {},
   "outputs": [],
   "source": [
    "y_wit_pred = rfc.predict(X_wit_trans)"
   ]
  },
  {
   "cell_type": "code",
   "execution_count": 203,
   "metadata": {},
   "outputs": [],
   "source": [
    "pos_rfc = list(X_wit[y_wit_pred.flatten() == 1].sample(10))\n",
    "neg_rfc = list(X_wit[y_wit_pred.flatten() == 0].sample(10))"
   ]
  },
  {
   "cell_type": "code",
   "execution_count": 206,
   "metadata": {},
   "outputs": [],
   "source": [
    "rfc_pos_neg = pd.DataFrame(pos_rfc,neg_rfc).reset_index()\n",
    "rfc_pos_neg.columns = ['rfc_1','rfc_2']\n",
    "#rfc_pos_neg.to_csv(\"rfc_pos_neg.csv\")"
   ]
  },
  {
   "cell_type": "code",
   "execution_count": 207,
   "metadata": {},
   "outputs": [
    {
     "data": {
      "text/html": [
       "<div>\n",
       "<style scoped>\n",
       "    .dataframe tbody tr th:only-of-type {\n",
       "        vertical-align: middle;\n",
       "    }\n",
       "\n",
       "    .dataframe tbody tr th {\n",
       "        vertical-align: top;\n",
       "    }\n",
       "\n",
       "    .dataframe thead th {\n",
       "        text-align: right;\n",
       "    }\n",
       "</style>\n",
       "<table border=\"1\" class=\"dataframe\">\n",
       "  <thead>\n",
       "    <tr style=\"text-align: right;\">\n",
       "      <th></th>\n",
       "      <th>rfc_1</th>\n",
       "      <th>rfc_2</th>\n",
       "    </tr>\n",
       "  </thead>\n",
       "  <tbody>\n",
       "    <tr>\n",
       "      <th>0</th>\n",
       "      <td>after two day of take tylenol day and tylenol ...</td>\n",
       "      <td>ive had my implant sinc juli of &amp;amp ive had m...</td>\n",
       "    </tr>\n",
       "    <tr>\n",
       "      <th>1</th>\n",
       "      <td>this is my second day with this drug and i can...</td>\n",
       "      <td>without this i am not quit human nor quit sane...</td>\n",
       "    </tr>\n",
       "    <tr>\n",
       "      <th>2</th>\n",
       "      <td>effexor xr work great for hot flash not to men...</td>\n",
       "      <td>i was prescrib gabapentin for lower back pain ...</td>\n",
       "    </tr>\n",
       "    <tr>\n",
       "      <th>3</th>\n",
       "      <td>i have tri everi triptan and relpax is the onl...</td>\n",
       "      <td>i dont feel ani differ take this medicin i fee...</td>\n",
       "    </tr>\n",
       "    <tr>\n",
       "      <th>4</th>\n",
       "      <td>i suffer from sold sore veri often coupl of ti...</td>\n",
       "      <td>i had taxol with avastin for cycl each cycl wa...</td>\n",
       "    </tr>\n",
       "    <tr>\n",
       "      <th>5</th>\n",
       "      <td>i have been on this pill for almost a year and...</td>\n",
       "      <td>horribl had a period everi week the whole time...</td>\n",
       "    </tr>\n",
       "    <tr>\n",
       "      <th>6</th>\n",
       "      <td>i have now tri this medic twice the first time...</td>\n",
       "      <td>ive been on the pill for day and it definit cu...</td>\n",
       "    </tr>\n",
       "    <tr>\n",
       "      <th>7</th>\n",
       "      <td>love this birth control pleas dont read all th...</td>\n",
       "      <td>i am singl and am onli take this main for my a...</td>\n",
       "    </tr>\n",
       "    <tr>\n",
       "      <th>8</th>\n",
       "      <td>i absolut love this medic work realli fast i d...</td>\n",
       "      <td>i have been on benzodiazepin for sever yearsun...</td>\n",
       "    </tr>\n",
       "    <tr>\n",
       "      <th>9</th>\n",
       "      <td>ive never experienc ani type of side effect of...</td>\n",
       "      <td>befor tri moviprep i initi bought a differ lax...</td>\n",
       "    </tr>\n",
       "  </tbody>\n",
       "</table>\n",
       "</div>"
      ],
      "text/plain": [
       "                                               rfc_1  \\\n",
       "0  after two day of take tylenol day and tylenol ...   \n",
       "1  this is my second day with this drug and i can...   \n",
       "2  effexor xr work great for hot flash not to men...   \n",
       "3  i have tri everi triptan and relpax is the onl...   \n",
       "4  i suffer from sold sore veri often coupl of ti...   \n",
       "5  i have been on this pill for almost a year and...   \n",
       "6  i have now tri this medic twice the first time...   \n",
       "7  love this birth control pleas dont read all th...   \n",
       "8  i absolut love this medic work realli fast i d...   \n",
       "9  ive never experienc ani type of side effect of...   \n",
       "\n",
       "                                               rfc_2  \n",
       "0  ive had my implant sinc juli of &amp ive had m...  \n",
       "1  without this i am not quit human nor quit sane...  \n",
       "2  i was prescrib gabapentin for lower back pain ...  \n",
       "3  i dont feel ani differ take this medicin i fee...  \n",
       "4  i had taxol with avastin for cycl each cycl wa...  \n",
       "5  horribl had a period everi week the whole time...  \n",
       "6  ive been on the pill for day and it definit cu...  \n",
       "7  i am singl and am onli take this main for my a...  \n",
       "8  i have been on benzodiazepin for sever yearsun...  \n",
       "9  befor tri moviprep i initi bought a differ lax...  "
      ]
     },
     "execution_count": 207,
     "metadata": {},
     "output_type": "execute_result"
    }
   ],
   "source": [
    "rfc_pos_neg"
   ]
  },
  {
   "cell_type": "markdown",
   "metadata": {},
   "source": [
    "## Gradient Boosting Classifier"
   ]
  },
  {
   "cell_type": "code",
   "execution_count": 108,
   "metadata": {},
   "outputs": [
    {
     "name": "stdout",
     "output_type": "stream",
     "text": [
      "Mean_accuracy_cv:\t0.7457951188338926\n",
      "Test_accuracy:\t0.7223557692307693\n",
      "Test_auc:\t0.7792759101659626\n"
     ]
    }
   ],
   "source": [
    "gbc = GradientBoostingClassifier(n_estimators=600)\n",
    "fpr_gbc, tpr_gbc, thresholds_gbc = fit_model(gbc)"
   ]
  },
  {
   "cell_type": "code",
   "execution_count": null,
   "metadata": {},
   "outputs": [],
   "source": []
  },
  {
   "cell_type": "markdown",
   "metadata": {},
   "source": [
    "## Directional LSTM"
   ]
  },
  {
   "cell_type": "code",
   "execution_count": 129,
   "metadata": {},
   "outputs": [],
   "source": [
    "import pandas as pd\n",
    "import numpy as np\n",
    "import matplotlib.pyplot as plt\n",
    "import pickle\n",
    "#from bs4 import BeautifulSoup\n",
    "from collections import defaultdict\n",
    "#import requests\n",
    "%matplotlib inline\n",
    "from sklearn.svm import SVC\n",
    "from nltk.stem.snowball import SnowballStemmer\n",
    "\n",
    "import tensorflow as tf\n",
    "import tensorflow \n",
    "\n",
    "#from tensorflow import tensorflow.keras\n",
    "\n",
    "#from keras.datasets import imdb\n",
    "from tensorflow.keras.models import Sequential\n",
    "from tensorflow.keras.layers import Dense\n",
    "from tensorflow.keras.layers import LSTM\n",
    "from tensorflow.keras.layers import Embedding\n",
    "from tensorflow.keras.preprocessing import sequence\n",
    "from tensorflow.keras.preprocessing.text import Tokenizer\n",
    "from tensorflow.keras.layers import Conv1D\n",
    "from tensorflow.keras.layers import MaxPool1D \n",
    "from tensorflow.keras.layers import Dropout\n",
    "from tensorflow.keras.layers import Bidirectional\n",
    "\n",
    "\n",
    "\n",
    "# fix random seed for reproducibility\n",
    "\n",
    "MAX_NB_WORDS = 500\n",
    "max_review_length = 500\n",
    "EMBEDDING_DIM = 160"
   ]
  },
  {
   "cell_type": "code",
   "execution_count": 130,
   "metadata": {},
   "outputs": [],
   "source": [
    "def clean_text(df_tem3,col):\n",
    "    df_tem3[col] = df_tem3[col].str.replace(\"&#039;\",'\\'')\n",
    "    df_tem3[col] = df_tem3[col].str.replace(\"\\\"\",\"\").str.lower()\n",
    "    df_tem3[col] = df_tem3[col].str.replace( r\"(\\\\r)|(\\\\n)|(\\\\t)|(\\\\f)|(\\.)|(\\;)|(\\:)|(\\!)|(\\')|(\\?)|(\\,)|(\\\")|(\\()|(\\))|(\\[)|(\\])|(&#039;)|(\\d\\s)|(\\d)|(\\/)\",\"\")\n",
    "    df_tem3[col] = df_tem3[col].str.replace(\"\\\"\",\"\").str.lower()\n",
    "    df_tem3[col] = df_tem3[col].str.replace( r\"(\\$)|(\\-)|(\\\\)|(\\s{2,})\",\" \")\n",
    "    df_tem3[col].sample(1).iloc[0]\n",
    "\n",
    "    stemmer = SnowballStemmer('english')\n",
    "    df_tem3[col] = df_tem3[col].apply(lambda x: ' '.join([stemmer.stem(word) for word in x.split(\" \")]))\n",
    "    return df_tem3[col]"
   ]
  },
  {
   "cell_type": "code",
   "execution_count": 131,
   "metadata": {},
   "outputs": [
    {
     "name": "stderr",
     "output_type": "stream",
     "text": [
      "/home/ubuntu/anaconda3/envs/amazonei_tensorflow_p36/lib/python3.6/site-packages/ipykernel/__main__.py:2: SettingWithCopyWarning: \n",
      "A value is trying to be set on a copy of a slice from a DataFrame.\n",
      "Try using .loc[row_indexer,col_indexer] = value instead\n",
      "\n",
      "See the caveats in the documentation: http://pandas.pydata.org/pandas-docs/stable/indexing.html#indexing-view-versus-copy\n",
      "  from ipykernel import kernelapp as app\n",
      "/home/ubuntu/anaconda3/envs/amazonei_tensorflow_p36/lib/python3.6/site-packages/ipykernel/__main__.py:3: SettingWithCopyWarning: \n",
      "A value is trying to be set on a copy of a slice from a DataFrame.\n",
      "Try using .loc[row_indexer,col_indexer] = value instead\n",
      "\n",
      "See the caveats in the documentation: http://pandas.pydata.org/pandas-docs/stable/indexing.html#indexing-view-versus-copy\n",
      "  app.launch_new_instance()\n",
      "/home/ubuntu/anaconda3/envs/amazonei_tensorflow_p36/lib/python3.6/site-packages/ipykernel/__main__.py:4: SettingWithCopyWarning: \n",
      "A value is trying to be set on a copy of a slice from a DataFrame.\n",
      "Try using .loc[row_indexer,col_indexer] = value instead\n",
      "\n",
      "See the caveats in the documentation: http://pandas.pydata.org/pandas-docs/stable/indexing.html#indexing-view-versus-copy\n",
      "/home/ubuntu/anaconda3/envs/amazonei_tensorflow_p36/lib/python3.6/site-packages/ipykernel/__main__.py:5: SettingWithCopyWarning: \n",
      "A value is trying to be set on a copy of a slice from a DataFrame.\n",
      "Try using .loc[row_indexer,col_indexer] = value instead\n",
      "\n",
      "See the caveats in the documentation: http://pandas.pydata.org/pandas-docs/stable/indexing.html#indexing-view-versus-copy\n",
      "/home/ubuntu/anaconda3/envs/amazonei_tensorflow_p36/lib/python3.6/site-packages/ipykernel/__main__.py:6: SettingWithCopyWarning: \n",
      "A value is trying to be set on a copy of a slice from a DataFrame.\n",
      "Try using .loc[row_indexer,col_indexer] = value instead\n",
      "\n",
      "See the caveats in the documentation: http://pandas.pydata.org/pandas-docs/stable/indexing.html#indexing-view-versus-copy\n",
      "/home/ubuntu/anaconda3/envs/amazonei_tensorflow_p36/lib/python3.6/site-packages/ipykernel/__main__.py:10: SettingWithCopyWarning: \n",
      "A value is trying to be set on a copy of a slice from a DataFrame.\n",
      "Try using .loc[row_indexer,col_indexer] = value instead\n",
      "\n",
      "See the caveats in the documentation: http://pandas.pydata.org/pandas-docs/stable/indexing.html#indexing-view-versus-copy\n"
     ]
    }
   ],
   "source": [
    "train_unsplit = clean_text(train,'Detailed Side effects') + ' ' + clean_text(train,'Comments') + ' '+ clean_text(train,'Benefits')\n",
    "test_unsplit = clean_text(test,'Detailed Side effects') + ' ' + clean_text(test,'Comments') + ' '+ clean_text(test,'Benefits')"
   ]
  },
  {
   "cell_type": "code",
   "execution_count": 132,
   "metadata": {},
   "outputs": [],
   "source": [
    "# Tokenize the data\n",
    "tokenizer = Tokenizer(num_words = MAX_NB_WORDS, \n",
    "                      filters='!\"#$%&()*+,-./:;<=>?@[\\]^_`{|}~',\n",
    "                      lower=True, split=' ', char_level=False, \n",
    "                      oov_token=None, document_count=0)\n",
    "\n",
    "tokenizer.fit_on_texts(train_unsplit)\n",
    "train_sequences = tokenizer.texts_to_sequences(train_unsplit)\n",
    "test_sequences = tokenizer.texts_to_sequences(test_unsplit)\n",
    "\n",
    "# truncate and pad input sequences\n",
    "X_train = sequence.pad_sequences(train_sequences, maxlen = max_review_length)\n",
    "X_test = sequence.pad_sequences(test_sequences, maxlen = max_review_length)\n",
    "\n",
    "word_index = tokenizer.word_index"
   ]
  },
  {
   "cell_type": "code",
   "execution_count": 133,
   "metadata": {},
   "outputs": [],
   "source": [
    "nb_words  = min(MAX_NB_WORDS, len(word_index))\n",
    "lstm_out = max_review_length\n",
    "\n",
    "model = Sequential()\n",
    "model.add(Embedding(nb_words,EMBEDDING_DIM,input_length=max_review_length))\n",
    "#model.add(Dropout(0.2))\n",
    "\n",
    "## add conv using kernal No.32 and size 3x3, actiation='relu'(rm neg)\n",
    "# model.add(Conv1D(filters=32, kernel_size=3, padding='same', activation='relu'))\n",
    "# model.add(MaxPool1D(pool_size=2))\n",
    "model.add(Bidirectional(LSTM(20, return_sequences=True)))\n",
    "#model.add(Dropout(0.2))\n",
    "model.add(Bidirectional(LSTM(20)))\n",
    "#model.add(Attention(max_review_length))\n",
    "model.add(Dense(1, activation = 'sigmoid'))\n",
    "\n",
    "## one-code mutiple categories targets use 'categorical_crossentropy' not 'binary_crossentropy'\n",
    "model.compile(loss='binary_crossentropy',optimizer='adam',metrics =['accuracy'])"
   ]
  },
  {
   "cell_type": "code",
   "execution_count": 134,
   "metadata": {},
   "outputs": [
    {
     "name": "stdout",
     "output_type": "stream",
     "text": [
      "_________________________________________________________________\n",
      "Layer (type)                 Output Shape              Param #   \n",
      "=================================================================\n",
      "embedding_4 (Embedding)      (None, 500, 160)          80000     \n",
      "_________________________________________________________________\n",
      "bidirectional_6 (Bidirection (None, 500, 40)           28960     \n",
      "_________________________________________________________________\n",
      "bidirectional_7 (Bidirection (None, 40)                9760      \n",
      "_________________________________________________________________\n",
      "dense_4 (Dense)              (None, 1)                 41        \n",
      "=================================================================\n",
      "Total params: 118,761\n",
      "Trainable params: 118,761\n",
      "Non-trainable params: 0\n",
      "_________________________________________________________________\n"
     ]
    }
   ],
   "source": [
    "model.summary()"
   ]
  },
  {
   "cell_type": "code",
   "execution_count": 135,
   "metadata": {},
   "outputs": [
    {
     "name": "stderr",
     "output_type": "stream",
     "text": [
      "/home/ubuntu/anaconda3/envs/amazonei_tensorflow_p36/lib/python3.6/site-packages/tensorflow/python/ops/gradients_impl.py:112: UserWarning: Converting sparse IndexedSlices to a dense Tensor of unknown shape. This may consume a large amount of memory.\n",
      "  \"Converting sparse IndexedSlices to a dense Tensor of unknown shape. \"\n",
      "/home/ubuntu/anaconda3/envs/amazonei_tensorflow_p36/lib/python3.6/site-packages/tensorflow/python/ops/gradients_impl.py:112: UserWarning: Converting sparse IndexedSlices to a dense Tensor of unknown shape. This may consume a large amount of memory.\n",
      "  \"Converting sparse IndexedSlices to a dense Tensor of unknown shape. \"\n"
     ]
    },
    {
     "name": "stdout",
     "output_type": "stream",
     "text": [
      "Train on 2662 samples, validate on 666 samples\n",
      "Epoch 1/40\n",
      "2656/2662 [============================>.] - ETA: 0s - loss: 0.6078 - acc: 0.7139\n",
      "Epoch 00001: val_acc improved from -inf to 0.71171, saving model to wb_20nue_2layer.best.hdf5\n",
      "2662/2662 [==============================] - 72s 27ms/step - loss: 0.6079 - acc: 0.7137 - val_loss: 0.5968 - val_acc: 0.7117\n",
      "Epoch 2/40\n",
      "2656/2662 [============================>.] - ETA: 0s - loss: 0.5548 - acc: 0.7248\n",
      "Epoch 00002: val_acc improved from 0.71171 to 0.74174, saving model to wb_20nue_2layer.best.hdf5\n",
      "2662/2662 [==============================] - 67s 25ms/step - loss: 0.5544 - acc: 0.7250 - val_loss: 0.5534 - val_acc: 0.7417\n",
      "Epoch 3/40\n",
      "2656/2662 [============================>.] - ETA: 0s - loss: 0.4504 - acc: 0.8110\n",
      "Epoch 00003: val_acc improved from 0.74174 to 0.86637, saving model to wb_20nue_2layer.best.hdf5\n",
      "2662/2662 [==============================] - 67s 25ms/step - loss: 0.4502 - acc: 0.8110 - val_loss: 0.3966 - val_acc: 0.8664\n",
      "Epoch 4/40\n",
      "2656/2662 [============================>.] - ETA: 0s - loss: 0.3989 - acc: 0.8392\n",
      "Epoch 00004: val_acc improved from 0.86637 to 0.87237, saving model to wb_20nue_2layer.best.hdf5\n",
      "2662/2662 [==============================] - 67s 25ms/step - loss: 0.3983 - acc: 0.8396 - val_loss: 0.3866 - val_acc: 0.8724\n",
      "Epoch 5/40\n",
      "2656/2662 [============================>.] - ETA: 0s - loss: 0.2653 - acc: 0.9145\n",
      "Epoch 00005: val_acc improved from 0.87237 to 0.87538, saving model to wb_20nue_2layer.best.hdf5\n",
      "2662/2662 [==============================] - 66s 25ms/step - loss: 0.2648 - acc: 0.9147 - val_loss: 0.3887 - val_acc: 0.8754\n",
      "Epoch 6/40\n",
      "2656/2662 [============================>.] - ETA: 0s - loss: 0.2549 - acc: 0.9168\n",
      "Epoch 00006: val_acc did not improve from 0.87538\n",
      "2662/2662 [==============================] - 67s 25ms/step - loss: 0.2545 - acc: 0.9170 - val_loss: 0.4309 - val_acc: 0.8559\n",
      "Epoch 7/40\n",
      "2656/2662 [============================>.] - ETA: 0s - loss: 0.2348 - acc: 0.9232\n",
      "Epoch 00007: val_acc did not improve from 0.87538\n",
      "2662/2662 [==============================] - 66s 25ms/step - loss: 0.2344 - acc: 0.9234 - val_loss: 0.4188 - val_acc: 0.8529\n"
     ]
    }
   ],
   "source": [
    "from tensorflow.keras.callbacks import EarlyStopping, ModelCheckpoint\n",
    "\n",
    "# Run LSTM Model\n",
    "batch = 32 \n",
    "epoch = 40\n",
    "\n",
    "early_stopping = EarlyStopping(patience = 3)\n",
    "\n",
    "filepath=\"wb_20nue_2layer.best.hdf5\"\n",
    "checkpoint = ModelCheckpoint(filepath, monitor='val_acc', verbose=1, save_best_only=True, mode='max')\n",
    "\n",
    "LSTM_model = model.fit(X_train, y_train, batch_size=batch, epochs=epoch,\n",
    "                       validation_split=0.2,callbacks=[early_stopping,checkpoint], shuffle = True)\n",
    "\n",
    "best_score = min(LSTM_model.history['val_loss'])"
   ]
  },
  {
   "cell_type": "code",
   "execution_count": 136,
   "metadata": {},
   "outputs": [
    {
     "name": "stdout",
     "output_type": "stream",
     "text": [
      "832/832 [==============================] - 2s 2ms/step\n"
     ]
    },
    {
     "data": {
      "text/plain": [
       "[0.47956806464264023, 0.8329327026238809]"
      ]
     },
     "execution_count": 136,
     "metadata": {},
     "output_type": "execute_result"
    }
   ],
   "source": [
    "from sklearn.metrics import accuracy_score, confusion_matrix\n",
    "from tensorflow.keras.models import load_model\n",
    "#model = load_model(\"web_20_bilstm_2layer.h5\")\n",
    "#LSTM_model = model.fit(X_train, y_train, batch_size=batch, epochs=epoch)\n",
    "\n",
    "accr = model.evaluate(X_test,y_test, batch_size = 100)\n",
    "accr"
   ]
  },
  {
   "cell_type": "code",
   "execution_count": 137,
   "metadata": {},
   "outputs": [
    {
     "name": "stderr",
     "output_type": "stream",
     "text": [
      "/home/ubuntu/anaconda3/envs/amazonei_tensorflow_p36/lib/python3.6/site-packages/tensorflow/python/ops/gradients_impl.py:112: UserWarning: Converting sparse IndexedSlices to a dense Tensor of unknown shape. This may consume a large amount of memory.\n",
      "  \"Converting sparse IndexedSlices to a dense Tensor of unknown shape. \"\n",
      "/home/ubuntu/anaconda3/envs/amazonei_tensorflow_p36/lib/python3.6/site-packages/tensorflow/python/ops/gradients_impl.py:112: UserWarning: Converting sparse IndexedSlices to a dense Tensor of unknown shape. This may consume a large amount of memory.\n",
      "  \"Converting sparse IndexedSlices to a dense Tensor of unknown shape. \"\n"
     ]
    },
    {
     "name": "stdout",
     "output_type": "stream",
     "text": [
      "832/832 [==============================] - 3s 4ms/step\n"
     ]
    },
    {
     "data": {
      "text/plain": [
       "[0.4106566881617674, 0.867788454087881]"
      ]
     },
     "execution_count": 137,
     "metadata": {},
     "output_type": "execute_result"
    }
   ],
   "source": [
    "model2 = load_model(filepath)\n",
    "model2.evaluate(X_test,y_test, batch_size = 100)"
   ]
  },
  {
   "cell_type": "code",
   "execution_count": 138,
   "metadata": {},
   "outputs": [],
   "source": [
    "y_test_pro = model2.predict_proba(X_test)"
   ]
  },
  {
   "cell_type": "code",
   "execution_count": 139,
   "metadata": {},
   "outputs": [],
   "source": [
    "fpr_LSTM, tpr_LSTM, thre_LSTM = roc_curve(y_test,y_test_pro)"
   ]
  },
  {
   "cell_type": "code",
   "execution_count": 141,
   "metadata": {},
   "outputs": [
    {
     "data": {
      "text/plain": [
       "0.8431273457451469"
      ]
     },
     "execution_count": 141,
     "metadata": {},
     "output_type": "execute_result"
    }
   ],
   "source": [
    "roc_auc_score(y_test,y_test_pro)"
   ]
  },
  {
   "cell_type": "code",
   "execution_count": 283,
   "metadata": {},
   "outputs": [
    {
     "data": {
      "image/png": "[encoded data removed]",
      "text/plain": [
       "<Figure size 432x288 with 1 Axes>"
      ]
     },
     "metadata": {},
     "output_type": "display_data"
    }
   ],
   "source": [
    "plt.plot(fpr_lr, tpr_lr, label='tf-idf + Logistic regression')\n",
    "plt.plot(fpr_rfc, tpr_rfc, label = 'tf-idf + Random forest')\n",
    "plt.plot(fpr_gbc, tpr_gbc, label = 'tf-idf + Gradient boosting')\n",
    "plt.plot(fpr_LSTM, tpr_LSTM, label = 'Embeding + LSTM')\n",
    "plt.plot([0,1],[0,1],color='grey', linestyle='dashed')\n",
    "\n",
    "plt.legend()\n",
    "plt.ylabel(\"Sensitivity (TPR)\")\n",
    "plt.xlabel(\"1-Specificity (FPR=1-TNR)\")\n",
    "plt.title(\"ROC curve\",fontsize=15)\n",
    "plt.savefig(\"../Plot/ROC_curve.png\")"
   ]
  },
  {
   "cell_type": "markdown",
   "metadata": {},
   "source": [
    "## Randomly sample 10 comments from other resource predict to be with/without side effects"
   ]
  },
  {
   "cell_type": "code",
   "execution_count": 152,
   "metadata": {},
   "outputs": [],
   "source": [
    "test = pd.read_csv(\"../drugsCom_raw/drugsComTest_raw.tsv\",sep='\\t', index_col=0)\n",
    "X_wit = clean_text(test,'review')\n",
    "\n",
    "X_wit_sequences = tokenizer.texts_to_sequences(X_wit)\n",
    "X_wit_trans = sequence.pad_sequences(X_wit_sequences, maxlen = max_review_length)"
   ]
  },
  {
   "cell_type": "code",
   "execution_count": null,
   "metadata": {},
   "outputs": [],
   "source": []
  },
  {
   "cell_type": "code",
   "execution_count": 154,
   "metadata": {},
   "outputs": [],
   "source": [
    "y_test_pred = model2.predict_classes(X_wit_trans)"
   ]
  },
  {
   "cell_type": "code",
   "execution_count": 180,
   "metadata": {},
   "outputs": [],
   "source": [
    "pos_LSTM = list(X_wit[y_test_pred.flatten() == 1].sample(10))\n",
    "neg_LSTM = list(X_wit[y_test_pred.flatten() == 0].sample(10))"
   ]
  },
  {
   "cell_type": "code",
   "execution_count": 208,
   "metadata": {},
   "outputs": [],
   "source": [
    "LSTM_pos_neg = pd.DataFrame(pos_LSTM,neg_LSTM).reset_index()\n",
    "LSTM_pos_neg.columns = ['LSTM_1','LSTM_2']\n",
    "#LSTM_pos_neg.to_csv(\"LSTM_pos_neg.csv\")"
   ]
  },
  {
   "cell_type": "code",
   "execution_count": 181,
   "metadata": {},
   "outputs": [
    {
     "name": "stdout",
     "output_type": "stream",
     "text": [
      "i was prescrib this to reduc my heavi period which had been contribut to my aneamia   i had been get annual iron transfus for the previous three year im on two three time per day for four day they work as in have reduc my bleed signific i have not notic ani side effect dure the day i take them initi when i took the tablet i would keep spot for up to day but the last few month my period is all over by day my period have gone from a day cycl to a day cycl   so im assum this is a side effect i do get some slight pre period cramp in the  day befor i get my period now which i have not had previous my altern to take this were get a mirena implant\n",
      "\n",
      "==================================\n",
      "ive had this birth control sinc april and i have not had a singl period ive spot a coupl of time but never an actual period i also notic a signific weight gain was wonder if it becaus i dont get a period and what can i do other than that it the best birth control ive use\n",
      "\n",
      "==================================\n",
      "excel medic veri effect for insomnia and mild depress if you wake up feel groggi it probabl becaus you are take too much tri half i take to mg at night have a rest sleep and wake up in the morn a bit sleepi but i have some coffe and take a shower and problem solv i havent felt this good in a long time ive tri ambien melatonin lunesta magnesium valerian root to sleep zoloft fluoxetin wellbutrin and celexa for depress this medic is by far the best ive tri for both sleep issu and mild depress give it a tri year old femal with long histori of insomnia and mild depress\n",
      "\n",
      "==================================\n",
      "took the gentl laxat on thursday at noon and it now saturday at am and im still sick to my stomach it didnt work until around midnight friday morn when i woke from a dead sleep from the unbear stomach pain final after sit on the pot forev i went it was not ani better i was still in a horribl amount of pain i thought i was done after about an hour on and off and laid down and got a littl more sleep until am roll around and i had to go again caus the pain woke me up this time i went a bunch and also vomit a bit i never throw up i will never take this again it work but be prepar to feel like your in hell and question whether it worth it or not\n",
      "\n",
      "==================================\n",
      "it work veri well but it caus excess drowsi and also made me gain a lot of weight in a short period of time i took it for almost a year befor i switch to someth els\n",
      "\n",
      "==================================\n",
      "start victoza week ago and lost pound so far my stomach was a littl upsetbut i find that eat more alkalin food rather lot of acid food help tremend\n",
      "\n",
      "==================================\n",
      "work great and doe not caus erectil dysfunct like other class of blood pressur drug\n",
      "\n",
      "==================================\n",
      "klonopin was great for help me manag anxieti and panic attack almost all medicin carri warn about alcohol consumpt so mani peopl like me and assum that moder alcohol consumpt is okay and that warn are just to limit liabil of the manufactur if someon drink and has an incid warn do not drink alcohol if you are take this medic i did and had what i now consid to be a near death experience&quot i found myself in a public restroom stall and liter unabl to move for what seem like hour i rememb feel my heart beat what seem like onc everi  second and i couldnt even call out for help becaus i liter could not speak i now feel veri lucki to have surviv\n",
      "\n",
      "==================================\n",
      "i find that if i take the ambien and go direct to bed it work veri well if i take it and then delay go to bed by do dish or clean befor bed i have unusu effect after sleep for a veri short period of time i will get up go to the kitchen and make waffl this has happen a hand of time im alway surpris to have my famili thank me for take the troubl for make waffl realli no troubl sinc i dont rememb ani of it\n",
      "\n",
      "==================================\n",
      "it has provid the most effect and rapid relief from asthma and bronchiti attack of all inhal that i have use over year\n",
      "\n",
      "==================================\n"
     ]
    }
   ],
   "source": [
    "for sen in pos_LSTM:\n",
    "    print(sen+\"\\n\")\n",
    "    print(\"==================================\")"
   ]
  },
  {
   "cell_type": "code",
   "execution_count": 182,
   "metadata": {},
   "outputs": [
    {
     "name": "stdout",
     "output_type": "stream",
     "text": [
      "my son has been take symbicort for year and it has work well he start feel fatigu about a year ago and has been diagnos in the last week with adren suppressionshutdown which is a note possibl reaction if ani user feel fatigu or have difficulti fight infect i would suggest get cortisol test prompt\n",
      "\n",
      "==================================\n",
      "been take nplate for year i take n plate week no side affect been keep my count abov most of the time higher count is over \n",
      "\n",
      "==================================\n",
      "this is a medicin my son is usingabus it is high addict i see no benefit for long term use even after day rehab he went straight back to his doctor and lie about the natur of his treatment and got a new suppli he basic sleep walk through the day befor this he never use anyth stronger than asprin\n",
      "\n",
      "==================================\n",
      "i am year old had no energi gain a lot of weight woke up sweat at night felt terribl it took me doctor but the last one said it was obvious estrogen defici i have been take the mylan mg transderm patch and i feel reborn i have energi im not hot i feel great onli problem is the patch dont stay on it may forc me to chang brand or someth they did stay on the first month when the temperatur were cooler but now that it is warmer and i am sweat they are fall off plus i exercis a lot which i am sure is contribut to this\n",
      "\n",
      "==================================\n",
      "my hemorroid are gone thank you\n",
      "\n",
      "==================================\n",
      "i just start the pill in the morn and one pill at night today i have had no effect whatsoev other than feel tire i have lost no weight and am hungri all the time i will continu it but not for much longer veri disappoint\n",
      "\n",
      "==================================\n",
      "wonder veri quick act like two hour so watch out for that solv the problem when all els fail expens\n",
      "\n",
      "==================================\n",
      "i have been suffer with cold sore my whole life noth i tri everyth work like this i was veri skeptic about purchas it becaus it is expens for the littl tube i am so glad i did if you put it on as soon as you notic or feel oneven come it will stop it from grow ani bigger or make it disappear complet \n",
      "\n",
      "==================================\n",
      "i have use imitrex by autoinject sinc it first came out after year of migrain take my day away this tini inject allow me to take it back unlik the other medicin i take this at first onset and  min later continu my day on schedul no nap no regret no nausea after initi prescript met with the manufactur rep who help with dose i was pioneer ani new product when this came out wegman pharmacist and my md and the drug rep were great help now shot in each leg right away im lbs\n",
      "\n",
      "==================================\n",
      "work great\n",
      "\n",
      "==================================\n"
     ]
    }
   ],
   "source": [
    "for sen in neg_LSTM:\n",
    "    print(sen+\"\\n\")\n",
    "    print(\"==================================\")"
   ]
  },
  {
   "cell_type": "code",
   "execution_count": null,
   "metadata": {},
   "outputs": [],
   "source": []
  },
  {
   "cell_type": "code",
   "execution_count": null,
   "metadata": {},
   "outputs": [],
   "source": []
  },
  {
   "cell_type": "code",
   "execution_count": null,
   "metadata": {},
   "outputs": [],
   "source": []
  }
 ],
 "metadata": {
  "kernelspec": {
   "display_name": "Environment (conda_amazonei_tensorflow_p36)",
   "language": "python",
   "name": "conda_amazonei_tensorflow_p36"
  },
  "language_info": {
   "codemirror_mode": {
    "name": "ipython",
    "version": 3
   },
   "file_extension": ".py",
   "mimetype": "text/x-python",
   "name": "python",
   "nbconvert_exporter": "python",
   "pygments_lexer": "ipython3",
   "version": "3.6.5"
  }
 },
 "nbformat": 4,
 "nbformat_minor": 2
}
