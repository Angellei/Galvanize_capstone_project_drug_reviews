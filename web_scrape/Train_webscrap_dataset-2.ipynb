{
 "cells": [
  {
   "cell_type": "code",
   "execution_count": 63,
   "metadata": {},
   "outputs": [],
   "source": [
    "import pandas as pd\n",
    "import numpy as np\n",
    "import matplotlib.pyplot as plt\n",
    "import pickle\n",
    "#from bs4 import BeautifulSoup\n",
    "from collections import defaultdict\n",
    "#import requests\n",
    "%matplotlib inline\n",
    "from sklearn.svm import SVC\n",
    "from nltk.stem.snowball import SnowballStemmer\n",
    "\n",
    "## remove special symbol\n",
    "\n",
    "def clean_text(df_tem3,col):\n",
    "    df_tem3[col] = df_tem3[col].str.replace(\"&#039;\",'\\'')\n",
    "    df_tem3[col] = df_tem3[col].str.replace(\"\\\"\",\"\").str.lower()\n",
    "    df_tem3[col] = df_tem3[col].str.replace( r\"(\\\\r)|(\\\\n)|(\\\\t)|(\\\\f)|(\\.)|(\\;)|(\\:)|(\\!)|(\\')|(\\?)|(\\,)|(\\\")|(\\()|(\\))|(\\[)|(\\])|(&#039;)|(\\d\\s)|(\\d)|(\\/)\",\"\")\n",
    "    df_tem3[col] = df_tem3[col].str.replace(\"\\\"\",\"\").str.lower()\n",
    "    df_tem3[col] = df_tem3[col].str.replace( r\"(\\$)|(\\-)|(\\\\)|(\\s{2,})\",\" \")\n",
    "    df_tem3[col].sample(1).iloc[0]\n",
    "\n",
    "    stemmer = SnowballStemmer('english')\n",
    "    df_tem3[col] = df_tem3[col].apply(lambda x: ' '.join([stemmer.stem(word) for word in x.split(\" \")]))\n",
    "    return df_tem3[col]\n",
    "\n",
    "\n",
    "np.random.seed(9)"
   ]
  },
  {
   "cell_type": "code",
   "execution_count": 64,
   "metadata": {},
   "outputs": [],
   "source": [
    "df = pd.read_csv(\"../web_scrap.csv\",index_col=0).drop_duplicates()"
   ]
  },
  {
   "cell_type": "code",
   "execution_count": 65,
   "metadata": {},
   "outputs": [],
   "source": [
    "nine = clean_text(df,'9')\n",
    "ten = clean_text(df,'10')"
   ]
  },
  {
   "cell_type": "code",
   "execution_count": 66,
   "metadata": {},
   "outputs": [],
   "source": [
    "df_tem3 = nine+' '+ten"
   ]
  },
  {
   "cell_type": "code",
   "execution_count": 67,
   "metadata": {},
   "outputs": [],
   "source": [
    "#y = ((df['3'] != ' No Side Effects') & (df['3'] != ' Mild Side Effects')).astype(int)\n",
    "y = (df['3'] != ' No Side Effects').astype(int)\n",
    "X = df_tem3"
   ]
  },
  {
   "cell_type": "code",
   "execution_count": 68,
   "metadata": {},
   "outputs": [
    {
     "data": {
      "text/plain": [
       "0.7084134615384615"
      ]
     },
     "execution_count": 68,
     "metadata": {},
     "output_type": "execute_result"
    }
   ],
   "source": [
    "y.mean()"
   ]
  },
  {
   "cell_type": "code",
   "execution_count": 69,
   "metadata": {
    "scrolled": false
   },
   "outputs": [
    {
     "name": "stdout",
     "output_type": "stream",
     "text": [
      " i experienc a loss of libido and inabl to climax loss of appetit a good side affect in my book i lost quit a few kgs and it did wonder for my self esteem i would not recommend take this with alcohol especi someth like tequila which is an upper combin with alcohol i experienc wild abandon loss of inhibit and total chang in person i am usual quit reserv but becam quit the opposit   which sort the libido out but still unabl to climax\n",
      "\n",
      "===========================\n",
      " diarrhea and some upset stomach\n",
      "\n",
      "===========================\n",
      " my whole bodi ach i had sever stomachach and headach i turn into a zombi all i did was stare at the wall it would make me dizzi and at time i wouldnt know where i was at i was scare to be on it but i wasnt in my right mind to be abl to take myself off of it i took a blade one night and slash both my arm up and hid the fact that i did it i start to take myself off the medic when i was abl to think straight i admit to peopl i know what i had done to my arm other then my ankl pain i felt % better off of tramadol i believ that if i were to stay on tramadol i would have done someth much wors sinc be off of this medic i realiz how that person then wasnt me that scare me more then anyth ever doctor need to monitor patient much more close on tramadol i cant imagin that there are a lot of peopl with my reaction to it but i cant imagin even one other person have an advers reaction like i did\n",
      "\n",
      "===========================\n",
      " my side effect were at time to mani to know which one were and are creat the most distress i dont sleep a regular sleep moodi depress at timesun to make clear decis dows memori terribl tremor suppress appetitedri mouth swollen leg and face i have fever so high i wake up satur then in an instant all my extrem can becom so cold i feel irregular heart beat mani time felt the rage and didnt even know where it came from let alon what my potenti were i felt as though i was go insan suicid thought at time for two reason i was out of control on the med and i felt as though my children would be better off without me i dont handl stress situat well\n",
      "\n",
      "===========================\n",
      " within hour of take the first dose i had vagin itch sinc i read that was a side effect in the paperwork i didnt think much of it after two dose the itch turn to a burn and sour in the pubic area i thought it might have been irrit from wear leg with no underwear from the seam the medic was taken at bedtim when i woke up after take the third dose i had blister on the outer labia late that night while on an hour+ drive home from a nearbi citi i was in sever pain the blister got wors sever headach sever backach chill and all over ach like the flu dure the drive i felt so bad i was pray for my life so i could continu to rais my children even though i do not believ in god it is now the next day after that horrend drive my blister continu to worsen my entir pubic area is sore itch and burn and i have develop a swollen lump on each side of my pubic area that is extrem tender and pain i have not taken my temperatur but im sure i have one i feel like i have the flu plus all the gynecolog problem im no doctor but i high urg ani woman on this med that they discontinu use immedi upon ani gynecolog disturb no matter how minor you think they might be the goos egg in my bikini area continu to grow and becom more tender \n",
      "\n",
      "===========================\n",
      " sun sensit sensit of the skin dehydr tight   they disappear after sever month of constant use\n",
      "\n",
      "===========================\n",
      " veri dri skin bloodi nose\n",
      "\n",
      "===========================\n",
      " first twitch of eye went into bodi tremor than to seizur\n",
      "\n",
      "===========================\n",
      " pass out fall asleep drowsi weight gain when i first start i had alot of nausea but after a few month it was better\n",
      "\n",
      "===========================\n",
      " the side effect made me yawn alot and veri sleep would take a to hour nap daili my joint in my jaw were veri stiff and made it almost pain for me to talk and especi where i yawn alot i expierenc this side effect one day after take the medic\n",
      "\n",
      "===========================\n",
      " extrem fatigu for the first week i becam so tire that immedi after come from work id go to bed i cut back to one pill a day and have great improv havent had the nerv to work back to pill a day due to the last reaction\n",
      "\n",
      "===========================\n",
      " after one day of take the cipro  so probabl had pill i began to get an itchi rash most on my arm leg and abdomen there were small red dot that itch i also notic that my throat swell up and it was get harder to breath i call my dr and was told to quit take the cipro and an altern would be given to me\n",
      "\n",
      "===========================\n",
      " i have to take the drup on an empti stomach veri bad side effect if taken with alcohol taken alon side effect were increas night eat and loss of memori after take the medic if you do not go to sleep immedi you may drive or do thing without use good sens\n",
      "\n",
      "===========================\n",
      " dri lip & mouth teeth grind tough time sleep high addict\n",
      "\n",
      "===========================\n",
      " excess prolong cough spell especi at night occasion diarrhea isol patchi skin rash on torso and extrem and itchi scalp all notic within a week of start this drug and has been persist sinc\n",
      "\n",
      "===========================\n",
      " i experienc sever flew like symptom and sever headach that worsen with each dose\n",
      "\n",
      "===========================\n",
      " i had sever side effect includ night sweat breakout on my back still linger month later and weight gain approxim  pound which took month to lose \n",
      "\n",
      "===========================\n",
      " the side effect includ nightmar muscl weak dizzi in addit there were emot disturb \n",
      "\n",
      "===========================\n",
      " i do not know that all side effect were attribut to the clonozapam alon or a combin of one or all drug i did take just the clonozapm and lovastatin the first year regardless everytim i look up a symptom on the web it alway point to ms my neurologist did say we should investig it but we never did anyway i could not sleep for day on end i had excess hand tremor voic tremor unsteadi gait tintinnitus eyesight problem urinari problem memori problem and a bunch more i cant even recal at the moment i wean myself off the medicin in month time and am veri much improv but onli after month and possibl year of be remov from all the problem id like to mention that at one point in time i took the cholesterol drug that dr jarvi promotesi cant rememb the name and had to quit within the first week as it gave me pain in the front of my thigh that could take your breath away i know for a fact that that symptom was in fact attribut to that drug a good effect that came from that drug though was the almost immedi shrinkag of my breast cystsi had mani on both side upon start on that drug i could actual feel them drain dissap or whatev you might call it they have not return so i am veri thank for that aspect of the drug becaus of the leg pain though i found it intoler\n",
      "\n",
      "===========================\n",
      " consist regular flow mens for the entir month hormon inconsist  felt sad mood swing the side effect were so extrm it frighten me and prevent me from ever take anoth oral controcept\n",
      "\n",
      "===========================\n"
     ]
    }
   ],
   "source": [
    "for se_com in df[((df['3'] != ' No Side Effects') & (df['3'] != ' Mild Side Effects'))]['9'].sample(20):\n",
    "    print(se_com+'\\n')\n",
    "    print(\"===========================\")"
   ]
  },
  {
   "cell_type": "code",
   "execution_count": 70,
   "metadata": {},
   "outputs": [
    {
     "name": "stdout",
     "output_type": "stream",
     "text": [
      " none  one of the first time a bipolar medic has not caus side effect for me\n",
      "\n",
      "===========================\n",
      " fatigu and possibl water retent i nor my doctor monitor water retent or weight gain but i am fair self awar the doctor did mention possibl fatigu andor nausea\n",
      "\n",
      "===========================\n",
      " none\n",
      "\n",
      "===========================\n",
      " insomnia the first week\n",
      "\n",
      "===========================\n",
      " when you spray it in your nostril your mouth will have a horrid tast but doe not last long\n",
      "\n",
      "===========================\n",
      " there were no side effect for me\n",
      "\n",
      "===========================\n",
      " increas urin output potassium deficit\n",
      "\n",
      "===========================\n",
      " none at all the person who previous review had an allerg reaction that doe not mean the drug doesnt work that mean she simpli cant toler the medic \n",
      "\n",
      "===========================\n",
      " peel which can chafe the skin and interf with put on face makeup howev i have built up such a toler i would have to appli retin a  time daili to achiev major peel it is hard to measur the anti age effect as i dont know what i would look like without have use retin a \n",
      "\n",
      "===========================\n",
      " dri skin and slight skin pigment\n",
      "\n",
      "===========================\n",
      " initi when the dosag given to me was too high i becam a littl jitteri if the doctor prescrib the right dosag for you there should be minim to no side effect at all\n",
      "\n",
      "===========================\n",
      " dri mouth sometim slight headach but not complet sure if it just from medicat or be tire as i do have a veri busi schedul\n",
      "\n",
      "===========================\n",
      " i appar didnt have ani side effect at least not ani list on the drug inform howev after a period of a coupl month i becam complet turn off by sex after a longer period i got freak out by the idea not good for a marri woman still i didnt associ it with zoloft i spoke with a friend who had taken zoloft as well and she state that she was run from her husband regard sex and chang med i also request a chang to anoth anti depress and no longer have a libido problem\n",
      "\n",
      "===========================\n",
      " general rare experi side effect taken on an empti stomach mild transient nausea but this is quick address with ani light snack discontinu syndrom when i have run out of the medic or onc when discontinu for day due to elect surgeri is quit unpleas\n",
      "\n",
      "===========================\n",
      " none\n",
      "\n",
      "===========================\n",
      " none\n",
      "\n",
      "===========================\n",
      " none\n",
      "\n",
      "===========================\n",
      " so far i have experienc no side effect i have had no bad or serious reaction i have not had ani intestin pain diarhhea or nausea that i have heard are common side effect that are associ with take this drug i have not even had an upset stomach\n",
      "\n",
      "===========================\n",
      " the onli side effect was mild nausea that could be prevent by eat befor take the medicin in the morn or take it at bedtim\n",
      "\n",
      "===========================\n",
      " one rather odd side effect which other on the drug have comment upon is that you forget word ive alway been veri articul and it can be frustrat to be in the middl of a convers or when i was do train session to sudden go blank and be complet unabl to rememb a word ive use all my life also at one point i decid to go off the medic in the vain hope i could manag the migrain without drug even come off the topamax over a period of month i gain pound\n",
      "\n",
      "===========================\n"
     ]
    }
   ],
   "source": [
    "for se_com in df[~((df['3'] != ' No Side Effects') & (df['3'] != ' Mild Side Effects'))]['9'].sample(20):\n",
    "    print(se_com+'\\n')\n",
    "    print(\"===========================\")"
   ]
  },
  {
   "cell_type": "code",
   "execution_count": 71,
   "metadata": {},
   "outputs": [],
   "source": [
    "# Split Training & Test Data\n",
    "from sklearn.model_selection import train_test_split\n",
    "\n",
    "X_train, X_test, y_train, y_test = train_test_split(X, y,test_size = 0.2)"
   ]
  },
  {
   "cell_type": "code",
   "execution_count": 72,
   "metadata": {},
   "outputs": [],
   "source": [
    "import tensorflow as tf\n",
    "import tensorflow \n",
    "\n",
    "#from tensorflow import tensorflow.keras\n",
    "\n",
    "#from keras.datasets import imdb\n",
    "from tensorflow.keras.models import Sequential\n",
    "from tensorflow.keras.layers import Dense\n",
    "from tensorflow.keras.layers import LSTM\n",
    "from tensorflow.keras.layers import Embedding\n",
    "from tensorflow.keras.preprocessing import sequence\n",
    "from tensorflow.keras.preprocessing.text import Tokenizer\n",
    "from tensorflow.keras.layers import Conv1D\n",
    "from tensorflow.keras.layers import MaxPool1D \n",
    "from tensorflow.keras.layers import Dropout\n",
    "from tensorflow.keras.layers import Bidirectional\n",
    "\n",
    "\n",
    "\n",
    "# fix random seed for reproducibility\n",
    "\n",
    "MAX_NB_WORDS = 500\n",
    "max_review_length = 500\n",
    "EMBEDDING_DIM = 160\n"
   ]
  },
  {
   "cell_type": "code",
   "execution_count": 73,
   "metadata": {},
   "outputs": [],
   "source": [
    "# Tokenize the data\n",
    "tokenizer = Tokenizer(num_words = MAX_NB_WORDS, \n",
    "                      filters='!\"#$%&()*+,-./:;<=>?@[\\]^_`{|}~',\n",
    "                      lower=True, split=' ', char_level=False, \n",
    "                      oov_token=None, document_count=0)\n",
    "\n",
    "tokenizer.fit_on_texts(X_train)\n",
    "train_sequences = tokenizer.texts_to_sequences(X_train)\n",
    "test_sequences = tokenizer.texts_to_sequences(X_test)\n",
    "\n",
    "# truncate and pad input sequences\n",
    "X_train = sequence.pad_sequences(train_sequences, maxlen=max_review_length)\n",
    "X_test = sequence.pad_sequences(test_sequences, maxlen = max_review_length)\n",
    "\n",
    "word_index = tokenizer.word_index"
   ]
  },
  {
   "cell_type": "code",
   "execution_count": 74,
   "metadata": {},
   "outputs": [],
   "source": [
    "nb_words  = min(MAX_NB_WORDS, len(word_index))\n",
    "lstm_out = max_review_length\n",
    "\n",
    "model = Sequential()\n",
    "model.add(Embedding(nb_words,EMBEDDING_DIM,input_length=max_review_length))\n",
    "#model.add(Dropout(0.2))\n",
    "\n",
    "## add conv using kernal No.32 and size 3x3, actiation='relu'(rm neg)\n",
    "# model.add(Conv1D(filters=32, kernel_size=3, padding='same', activation='relu'))\n",
    "# model.add(MaxPool1D(pool_size=2))\n",
    "model.add(Bidirectional(LSTM(20, return_sequences=True)))\n",
    "#model.add(Dropout(0.2))\n",
    "model.add(Bidirectional(LSTM(20)))\n",
    "#model.add(Attention(max_review_length))\n",
    "model.add(Dense(1, activation = 'sigmoid'))\n",
    "\n",
    "## one-code mutiple categories targets use 'categorical_crossentropy' not 'binary_crossentropy'\n",
    "model.compile(loss='binary_crossentropy',optimizer='adam',metrics =['accuracy'])"
   ]
  },
  {
   "cell_type": "code",
   "execution_count": 75,
   "metadata": {},
   "outputs": [
    {
     "name": "stdout",
     "output_type": "stream",
     "text": [
      "_________________________________________________________________\n",
      "Layer (type)                 Output Shape              Param #   \n",
      "=================================================================\n",
      "embedding_2 (Embedding)      (None, 500, 160)          80000     \n",
      "_________________________________________________________________\n",
      "bidirectional_4 (Bidirection (None, 500, 40)           28960     \n",
      "_________________________________________________________________\n",
      "bidirectional_5 (Bidirection (None, 40)                9760      \n",
      "_________________________________________________________________\n",
      "dense_2 (Dense)              (None, 1)                 41        \n",
      "=================================================================\n",
      "Total params: 118,761\n",
      "Trainable params: 118,761\n",
      "Non-trainable params: 0\n",
      "_________________________________________________________________\n"
     ]
    }
   ],
   "source": [
    "model.summary()"
   ]
  },
  {
   "cell_type": "code",
   "execution_count": 76,
   "metadata": {},
   "outputs": [
    {
     "name": "stderr",
     "output_type": "stream",
     "text": [
      "/home/ubuntu/anaconda3/envs/amazonei_tensorflow_p36/lib/python3.6/site-packages/tensorflow/python/ops/gradients_impl.py:112: UserWarning: Converting sparse IndexedSlices to a dense Tensor of unknown shape. This may consume a large amount of memory.\n",
      "  \"Converting sparse IndexedSlices to a dense Tensor of unknown shape. \"\n"
     ]
    },
    {
     "name": "stdout",
     "output_type": "stream",
     "text": [
      "Train on 2662 samples, validate on 666 samples\n",
      "Epoch 1/40\n",
      "2662/2662 [==============================] - 59s 22ms/step - loss: 0.5955 - acc: 0.7096 - val_loss: 0.5467 - val_acc: 0.7327\n",
      "Epoch 2/40\n",
      "2662/2662 [==============================] - 54s 20ms/step - loss: 0.4583 - acc: 0.8050 - val_loss: 0.5317 - val_acc: 0.7793\n",
      "Epoch 3/40\n",
      "2662/2662 [==============================] - 54s 20ms/step - loss: 0.3741 - acc: 0.8644 - val_loss: 0.4251 - val_acc: 0.8303\n",
      "Epoch 4/40\n",
      "2662/2662 [==============================] - 54s 20ms/step - loss: 0.3025 - acc: 0.8971 - val_loss: 0.3605 - val_acc: 0.8754\n",
      "Epoch 5/40\n",
      "2662/2662 [==============================] - 54s 20ms/step - loss: 0.3104 - acc: 0.8884 - val_loss: 0.4927 - val_acc: 0.7868\n",
      "Epoch 6/40\n",
      "2662/2662 [==============================] - 54s 20ms/step - loss: 0.3948 - acc: 0.8546 - val_loss: 0.4739 - val_acc: 0.8183\n",
      "Epoch 7/40\n",
      "2662/2662 [==============================] - 54s 20ms/step - loss: 0.3380 - acc: 0.8835 - val_loss: 0.3583 - val_acc: 0.8859\n",
      "Epoch 8/40\n",
      "2662/2662 [==============================] - 54s 20ms/step - loss: 0.3060 - acc: 0.9001 - val_loss: 0.4625 - val_acc: 0.8183\n",
      "Epoch 9/40\n",
      "2662/2662 [==============================] - 54s 20ms/step - loss: 0.3649 - acc: 0.8539 - val_loss: 0.3626 - val_acc: 0.8679\n",
      "Epoch 10/40\n",
      "2662/2662 [==============================] - 54s 20ms/step - loss: 0.3042 - acc: 0.8937 - val_loss: 0.3534 - val_acc: 0.8859\n",
      "Epoch 11/40\n",
      "2662/2662 [==============================] - 54s 20ms/step - loss: 0.2693 - acc: 0.9136 - val_loss: 0.3641 - val_acc: 0.8859\n",
      "Epoch 12/40\n",
      "2662/2662 [==============================] - 54s 20ms/step - loss: 0.2551 - acc: 0.9170 - val_loss: 0.3725 - val_acc: 0.8769\n",
      "Epoch 13/40\n",
      "2662/2662 [==============================] - 54s 20ms/step - loss: 0.2340 - acc: 0.9245 - val_loss: 0.3719 - val_acc: 0.8784\n"
     ]
    }
   ],
   "source": [
    "from tensorflow.keras.callbacks import EarlyStopping, ModelCheckpoint\n",
    "\n",
    "# Run LSTM Model\n",
    "batch = 32 \n",
    "epoch = 40\n",
    "\n",
    "early_stopping = EarlyStopping(patience = 3)\n",
    "\n",
    "LSTM_model = model.fit(X_train, y_train, batch_size=batch, epochs=epoch,\n",
    "                       validation_split=0.2,callbacks=[early_stopping], shuffle = True)\n",
    "\n",
    "best_score = min(LSTM_model.history['val_loss'])"
   ]
  },
  {
   "cell_type": "code",
   "execution_count": 77,
   "metadata": {},
   "outputs": [],
   "source": [
    "LSTM_model_history = pd.DataFrame(LSTM_model.history)\n",
    "file_name = \"web_20_bilstm_2layer_se_nor_comm.csv\"\n",
    "LSTM_model_history.to_csv( file_name)"
   ]
  },
  {
   "cell_type": "code",
   "execution_count": 78,
   "metadata": {},
   "outputs": [
    {
     "name": "stdout",
     "output_type": "stream",
     "text": [
      "         acc      loss   val_acc  val_loss\n",
      "0   0.709617  0.595483  0.732733  0.546747\n",
      "1   0.805034  0.458294  0.779279  0.531657\n",
      "2   0.864388  0.374122  0.830330  0.425054\n",
      "3   0.897070  0.302548  0.875375  0.360508\n",
      "4   0.888430  0.310358  0.786787  0.492679\n",
      "5   0.854621  0.394810  0.818318  0.473903\n",
      "6   0.883546  0.337950  0.885886  0.358254\n",
      "7   0.900075  0.305968  0.818318  0.462464\n",
      "8   0.853869  0.364907  0.867868  0.362638\n",
      "9   0.893689  0.304204  0.885886  0.353354\n",
      "10  0.913599  0.269339  0.885886  0.364106\n",
      "11  0.916980  0.255093  0.876877  0.372487\n",
      "12  0.924493  0.234042  0.878378  0.371929\n"
     ]
    }
   ],
   "source": [
    "print(LSTM_model_history)"
   ]
  },
  {
   "cell_type": "code",
   "execution_count": 79,
   "metadata": {},
   "outputs": [],
   "source": [
    "#model.save(\"web_20_bilstm_2layer.h5\")"
   ]
  },
  {
   "cell_type": "code",
   "execution_count": 80,
   "metadata": {},
   "outputs": [
    {
     "data": {
      "text/plain": [
       "Text(0.5,0,'epoch')"
      ]
     },
     "execution_count": 80,
     "metadata": {},
     "output_type": "execute_result"
    },
    {
     "data": {
      "image/png": "[encoded data removed]",
      "text/plain": [
       "<Figure size 432x288 with 1 Axes>"
      ]
     },
     "metadata": {},
     "output_type": "display_data"
    }
   ],
   "source": [
    "plt.plot(LSTM_model.history['loss'],label='train')\n",
    "plt.plot(LSTM_model.history['val_loss'],label='validation')\n",
    "plt.ylabel(\"loss\")\n",
    "plt.xlabel(\"epoch\")"
   ]
  },
  {
   "cell_type": "code",
   "execution_count": 81,
   "metadata": {},
   "outputs": [
    {
     "name": "stdout",
     "output_type": "stream",
     "text": [
      "832/832 [==============================] - 2s 2ms/step\n"
     ]
    },
    {
     "data": {
      "text/plain": [
       "[0.3584920780446667, 0.8834134486432259]"
      ]
     },
     "execution_count": 81,
     "metadata": {},
     "output_type": "execute_result"
    }
   ],
   "source": [
    "from sklearn.metrics import accuracy_score, confusion_matrix\n",
    "from tensorflow.keras.models import load_model\n",
    "#model = load_model(\"web_20_bilstm_2layer.h5\")\n",
    "#LSTM_model = model.fit(X_train, y_train, batch_size=batch, epochs=epoch)\n",
    "\n",
    "accr = model.evaluate(X_test,y_test, batch_size = 100)\n",
    "accr"
   ]
  },
  {
   "cell_type": "code",
   "execution_count": 82,
   "metadata": {},
   "outputs": [],
   "source": [
    "#             acc      loss   val_acc  val_loss\n",
    "#     0  0.670173  0.597171  0.770270  0.465685\n",
    "#     1  0.800902  0.425928  0.779279  0.446773\n",
    "#     2  0.849737  0.355651  0.794294  0.434360\n",
    "#     3  0.869647  0.318369  0.800300  0.442692\n",
    "#     4  0.886927  0.287467  0.801802  0.473488\n",
    "#     5  0.900826  0.256769  0.792793  0.538440\n",
    "\n",
    "#     [0.9755449504233323, 0.6394230763499553]\n",
    "\n",
    "#     array([[373, 133],\n",
    "#            [167, 159]])"
   ]
  },
  {
   "cell_type": "code",
   "execution_count": 83,
   "metadata": {},
   "outputs": [
    {
     "data": {
      "text/plain": [
       "array([[186,  59],\n",
       "       [ 38, 549]])"
      ]
     },
     "execution_count": 83,
     "metadata": {},
     "output_type": "execute_result"
    }
   ],
   "source": [
    "y_test_pred = model.predict_classes(X_test)\n",
    "confusion_matrix(y_test,y_test_pred)"
   ]
  },
  {
   "cell_type": "code",
   "execution_count": 84,
   "metadata": {},
   "outputs": [],
   "source": [
    "y_test_pro = model.predict_proba(X_test)"
   ]
  },
  {
   "cell_type": "code",
   "execution_count": 85,
   "metadata": {},
   "outputs": [
    {
     "name": "stdout",
     "output_type": "stream",
     "text": [
      "0.8889163161005458\n"
     ]
    },
    {
     "data": {
      "text/plain": [
       "[<matplotlib.lines.Line2D at 0x7fb5c06bf390>]"
      ]
     },
     "execution_count": 85,
     "metadata": {},
     "output_type": "execute_result"
    },
    {
     "data": {
      "image/png": "[encoded data removed]",
      "text/plain": [
       "<Figure size 432x288 with 1 Axes>"
      ]
     },
     "metadata": {},
     "output_type": "display_data"
    }
   ],
   "source": [
    "from sklearn.metrics import roc_auc_score, roc_curve\n",
    "print(roc_auc_score(y_test,y_test_pro))\n",
    "fpr, tpr, thre = roc_curve(y_test,y_test_pro)\n",
    "\n",
    "plt.plot(fpr,tpr)"
   ]
  },
  {
   "cell_type": "code",
   "execution_count": 86,
   "metadata": {},
   "outputs": [
    {
     "data": {
      "text/plain": [
       "(array([0.        , 0.        , 0.00408163, 0.00408163, 0.00816327,\n",
       "        0.00816327, 0.00816327, 0.0122449 , 0.0122449 , 0.01632653,\n",
       "        0.01632653, 0.02040816, 0.02040816, 0.0244898 , 0.0244898 ,\n",
       "        0.02857143, 0.02857143, 0.03265306, 0.03265306, 0.03673469,\n",
       "        0.03673469, 0.04081633, 0.04081633, 0.04489796, 0.04489796,\n",
       "        0.04897959, 0.04897959, 0.05306122, 0.05306122, 0.05714286,\n",
       "        0.05714286, 0.05714286, 0.05714286, 0.06122449, 0.06122449,\n",
       "        0.06530612, 0.06530612, 0.06938776, 0.06938776, 0.07346939,\n",
       "        0.07346939, 0.07755102, 0.07755102, 0.08163265, 0.08163265,\n",
       "        0.08571429, 0.08571429, 0.08979592, 0.08979592, 0.09387755,\n",
       "        0.09387755, 0.09795918, 0.09795918, 0.10204082, 0.10204082,\n",
       "        0.10612245, 0.10612245, 0.11020408, 0.11020408, 0.11428571,\n",
       "        0.11428571, 0.11836735, 0.11836735, 0.12244898, 0.12244898,\n",
       "        0.12653061, 0.12653061, 0.13061224, 0.13061224, 0.13469388,\n",
       "        0.13469388, 0.13877551, 0.13877551, 0.14285714, 0.14285714,\n",
       "        0.14693878, 0.14693878, 0.15102041, 0.15102041, 0.15510204,\n",
       "        0.15510204, 0.16326531, 0.16326531, 0.16734694, 0.16734694,\n",
       "        0.17142857, 0.17142857, 0.1755102 , 0.1755102 , 0.17959184,\n",
       "        0.17959184, 0.18367347, 0.18367347, 0.1877551 , 0.1877551 ,\n",
       "        0.19183673, 0.19183673, 0.19591837, 0.19591837, 0.2122449 ,\n",
       "        0.2122449 , 0.21632653, 0.21632653, 0.22040816, 0.22040816,\n",
       "        0.2244898 , 0.2244898 , 0.22857143, 0.22857143, 0.23265306,\n",
       "        0.23265306, 0.24081633, 0.24081633, 0.25714286, 0.25714286,\n",
       "        0.26122449, 0.26122449, 0.30204082, 0.30204082, 0.30612245,\n",
       "        0.30612245, 0.34693878, 0.34693878, 0.39183673, 0.39183673,\n",
       "        0.41632653, 0.41632653, 0.43265306, 0.43265306, 0.48979592,\n",
       "        0.48979592, 0.55918367, 0.55918367, 0.57142857, 0.57142857,\n",
       "        0.57959184, 0.57959184, 0.59591837, 0.59591837, 0.62040816,\n",
       "        0.62040816, 0.63265306, 0.63265306, 0.67755102, 0.67755102,\n",
       "        0.70204082, 0.70204082, 0.73469388, 0.73469388, 0.7877551 ,\n",
       "        0.7877551 , 0.82857143, 0.82857143, 0.84081633, 0.84081633,\n",
       "        0.85714286, 0.86122449, 0.89387755, 0.89387755, 0.91836735,\n",
       "        0.91836735, 0.94285714, 0.94285714, 0.97142857, 0.97142857,\n",
       "        0.9755102 , 0.9755102 , 1.        ]),\n",
       " array([0.00170358, 0.03236797, 0.03236797, 0.05621806, 0.05621806,\n",
       "        0.0988075 , 0.10221465, 0.10221465, 0.17546848, 0.17546848,\n",
       "        0.18398637, 0.18398637, 0.19420784, 0.19420784, 0.19931857,\n",
       "        0.19931857, 0.22146508, 0.22146508, 0.22316865, 0.22316865,\n",
       "        0.2879046 , 0.2879046 , 0.30494037, 0.30494037, 0.31516184,\n",
       "        0.31516184, 0.33901193, 0.33901193, 0.35434412, 0.35434412,\n",
       "        0.38500852, 0.38841567, 0.41908007, 0.41908007, 0.4241908 ,\n",
       "        0.4241908 , 0.42930153, 0.42930153, 0.45655877, 0.45655877,\n",
       "        0.47189097, 0.47189097, 0.53662692, 0.53662692, 0.53833049,\n",
       "        0.53833049, 0.56388416, 0.56388416, 0.58091993, 0.58091993,\n",
       "        0.59625213, 0.59625213, 0.60136286, 0.60136286, 0.63373083,\n",
       "        0.63373083, 0.65417376, 0.65417376, 0.66269165, 0.66269165,\n",
       "        0.69846678, 0.69846678, 0.71379898, 0.71379898, 0.71720613,\n",
       "        0.71720613, 0.71890971, 0.71890971, 0.72572402, 0.72572402,\n",
       "        0.74446337, 0.74446337, 0.75809199, 0.75809199, 0.78875639,\n",
       "        0.78875639, 0.79045997, 0.79045997, 0.7955707 , 0.7955707 ,\n",
       "        0.80408859, 0.80408859, 0.82964225, 0.82964225, 0.83134583,\n",
       "        0.83134583, 0.84667802, 0.84667802, 0.86201022, 0.86201022,\n",
       "        0.87223169, 0.87223169, 0.87734242, 0.87734242, 0.88074957,\n",
       "        0.88074957, 0.88756388, 0.88756388, 0.89097104, 0.89097104,\n",
       "        0.89267462, 0.89267462, 0.89437819, 0.89437819, 0.90971039,\n",
       "        0.90971039, 0.91311755, 0.91311755, 0.91482112, 0.91482112,\n",
       "        0.92504259, 0.92504259, 0.94378194, 0.94378194, 0.94889267,\n",
       "        0.94889267, 0.95229983, 0.95229983, 0.95400341, 0.95400341,\n",
       "        0.95741056, 0.95741056, 0.95911414, 0.95911414, 0.96081772,\n",
       "        0.96081772, 0.96252129, 0.96252129, 0.96592845, 0.96592845,\n",
       "        0.96763203, 0.96763203, 0.9693356 , 0.9693356 , 0.97103918,\n",
       "        0.97103918, 0.97274276, 0.97274276, 0.97444634, 0.97444634,\n",
       "        0.97614991, 0.97614991, 0.97785349, 0.97785349, 0.97955707,\n",
       "        0.97955707, 0.98296422, 0.98296422, 0.9846678 , 0.9846678 ,\n",
       "        0.98637138, 0.98637138, 0.98807496, 0.98807496, 0.98977853,\n",
       "        0.98977853, 0.99148211, 0.99148211, 0.99318569, 0.99318569,\n",
       "        0.99488927, 0.99488927, 0.99659284, 0.99659284, 0.99829642,\n",
       "        0.99829642, 1.        , 1.        ]),\n",
       " array([0.9865428 , 0.984446  , 0.9844432 , 0.9840152 , 0.9839049 ,\n",
       "        0.9828578 , 0.98285437, 0.98285323, 0.9818855 , 0.9818449 ,\n",
       "        0.98177665, 0.9817493 , 0.981564  , 0.98149914, 0.98137546,\n",
       "        0.98132944, 0.98087746, 0.98079014, 0.980785  , 0.9807792 ,\n",
       "        0.9798014 , 0.97978276, 0.9796484 , 0.97963345, 0.9795411 ,\n",
       "        0.9794239 , 0.97891575, 0.9788891 , 0.9786251 , 0.9785608 ,\n",
       "        0.9778146 , 0.97779834, 0.9770347 , 0.9769826 , 0.9768689 ,\n",
       "        0.9768563 , 0.9766997 , 0.9766986 , 0.9759173 , 0.97589344,\n",
       "        0.9753617 , 0.9753175 , 0.97311044, 0.9731103 , 0.973106  ,\n",
       "        0.97299486, 0.97138804, 0.9713467 , 0.9704142 , 0.97041065,\n",
       "        0.9695516 , 0.9694082 , 0.96920544, 0.9691423 , 0.96693367,\n",
       "        0.9665945 , 0.9649837 , 0.96489346, 0.96341306, 0.9629205 ,\n",
       "        0.9582819 , 0.95827115, 0.95491123, 0.9546876 , 0.9543411 ,\n",
       "        0.9542639 , 0.9539449 , 0.9531349 , 0.95187134, 0.9516476 ,\n",
       "        0.9453054 , 0.94527805, 0.9426239 , 0.94196784, 0.9335487 ,\n",
       "        0.9332117 , 0.9308148 , 0.9306674 , 0.9264195 , 0.92609835,\n",
       "        0.91929406, 0.91832703, 0.90489143, 0.90395117, 0.9031535 ,\n",
       "        0.9027048 , 0.89239097, 0.8894543 , 0.87768996, 0.8773889 ,\n",
       "        0.87083626, 0.8702955 , 0.86607736, 0.8582394 , 0.8511334 ,\n",
       "        0.8500559 , 0.83994734, 0.83792883, 0.83313084, 0.81881124,\n",
       "        0.8159489 , 0.8130794 , 0.81207925, 0.80724704, 0.7539918 ,\n",
       "        0.7482653 , 0.7423397 , 0.7418033 , 0.73214364, 0.7314331 ,\n",
       "        0.70606256, 0.67529476, 0.40364188, 0.24993421, 0.19081493,\n",
       "        0.17267136, 0.16373613, 0.13490485, 0.13488154, 0.13443244,\n",
       "        0.13393557, 0.12778184, 0.12770152, 0.12221473, 0.12164867,\n",
       "        0.12052121, 0.12010647, 0.11971612, 0.11941672, 0.11443603,\n",
       "        0.11407522, 0.11061356, 0.11060286, 0.10971292, 0.10932476,\n",
       "        0.10870584, 0.1086949 , 0.10753573, 0.10746691, 0.10610636,\n",
       "        0.10604706, 0.10584384, 0.10575788, 0.10426795, 0.10409112,\n",
       "        0.10247898, 0.10226329, 0.10113371, 0.10102332, 0.09949116,\n",
       "        0.09927291, 0.09781603, 0.09778759, 0.09715251, 0.0969185 ,\n",
       "        0.09629624, 0.09610261, 0.09525299, 0.09518533, 0.09447262,\n",
       "        0.09443408, 0.09421197, 0.09414561, 0.09266314, 0.09219582,\n",
       "        0.09188636, 0.09149378, 0.08831964], dtype=float32))"
      ]
     },
     "execution_count": 86,
     "metadata": {},
     "output_type": "execute_result"
    }
   ],
   "source": [
    "roc_curve(y_test,y_test_pro)"
   ]
  },
  {
   "cell_type": "markdown",
   "metadata": {},
   "source": [
    "## predict sentence"
   ]
  },
  {
   "cell_type": "code",
   "execution_count": 39,
   "metadata": {},
   "outputs": [],
   "source": [
    "first_quest2 = pd.read_csv(\"../wit_ai_sentment/SE_tem_l400_first_request.ccv\",index_col=0)"
   ]
  },
  {
   "cell_type": "code",
   "execution_count": 40,
   "metadata": {},
   "outputs": [],
   "source": [
    "y_wit = ((first_quest2['value'] == \"negative\")).astype(int)\n",
    "X_wit = clean_text(first_quest2,'text')"
   ]
  },
  {
   "cell_type": "code",
   "execution_count": 41,
   "metadata": {},
   "outputs": [],
   "source": [
    "X_wit_sequences = tokenizer.texts_to_sequences(X_wit)\n",
    "X_wit_trans = sequence.pad_sequences(X_wit_sequences, maxlen = max_review_length)\n"
   ]
  },
  {
   "cell_type": "code",
   "execution_count": 42,
   "metadata": {},
   "outputs": [
    {
     "name": "stdout",
     "output_type": "stream",
     "text": [
      "30689/30689 [==============================] - 71s 2ms/step\n"
     ]
    },
    {
     "data": {
      "text/plain": [
       "[0.8701280017469188, 0.585421484560595]"
      ]
     },
     "execution_count": 42,
     "metadata": {},
     "output_type": "execute_result"
    }
   ],
   "source": [
    "accr = model.evaluate(X_wit_trans,y_wit, batch_size = 100)\n",
    "accr"
   ]
  },
  {
   "cell_type": "code",
   "execution_count": 43,
   "metadata": {},
   "outputs": [
    {
     "data": {
      "text/plain": [
       "array([[8878, 5046],\n",
       "       [7677, 9088]])"
      ]
     },
     "execution_count": 43,
     "metadata": {},
     "output_type": "execute_result"
    }
   ],
   "source": [
    "y_test_pred = model.predict_classes(X_wit_trans)\n",
    "confusion_matrix(y_wit,y_test_pred)"
   ]
  },
  {
   "cell_type": "code",
   "execution_count": 44,
   "metadata": {},
   "outputs": [],
   "source": [
    "## [1.620907984605271, 0.5002443838369665]\n",
    "## array([[11736,  2188],\n",
    "##       [13149,  3616]])"
   ]
  },
  {
   "cell_type": "code",
   "execution_count": 45,
   "metadata": {},
   "outputs": [
    {
     "name": "stdout",
     "output_type": "stream",
     "text": [
      "at first it was great i didnt have ani side effect except for mood swing now and then\n",
      "\n",
      "==================================\n",
      "first month is fine i dont get my period or ani bleed or ani other side effect\n",
      "\n",
      "==================================\n",
      "i had a regular period prior to get it but due to my daili medic the side effect was no period\n",
      "\n",
      "==================================\n",
      "the onli side effect ive had is slight nausea the first week i start take them\n",
      "\n",
      "==================================\n",
      "i was curious about the side effect and want to see if it could help out with my focus\n",
      "\n",
      "==================================\n",
      "i had a lot of start up side effect most notabl increas anxieti lack of appetit wake up with panic attack and just feel like crap\n",
      "\n",
      "==================================\n",
      "after read onlin about all the side effect recal and bad experi   i decid to put it asid\n",
      "\n",
      "==================================\n",
      "same drug but a slow releas total clear up the side effect\n",
      "\n",
      "==================================\n",
      "i am almost two week into take them and to my relief i have not suffer ani bad side effect but it still earli\n",
      "\n",
      "==================================\n",
      "yes there are some side effect for me insomnia but i dont know if that is flagyl or bactrim but it is so much better than lose my finger\n",
      "\n",
      "==================================\n"
     ]
    }
   ],
   "source": [
    "for sen in X_wit[y_test_pred.flatten() == 1].sample(10):\n",
    "    print(sen+\"\\n\")\n",
    "    print(\"==================================\")"
   ]
  },
  {
   "cell_type": "code",
   "execution_count": 46,
   "metadata": {},
   "outputs": [],
   "source": [
    "## 8/10(7.5/10)"
   ]
  },
  {
   "cell_type": "code",
   "execution_count": null,
   "metadata": {},
   "outputs": [],
   "source": []
  },
  {
   "cell_type": "code",
   "execution_count": 47,
   "metadata": {},
   "outputs": [
    {
     "name": "stdout",
     "output_type": "stream",
     "text": [
      "the onli side effect i am find is hair loss i check side effect for eliqui but hair loss was not on the list\n",
      "\n",
      "==================================\n",
      "though i had no side effect my daughter tri it and told me that she had contempl suicid so she stop use it immedi and all was well we did discov later that she had add which may have contribut to the side effect\n",
      "\n",
      "==================================\n",
      "this was a life changer with benefit and no side effect\n",
      "\n",
      "==================================\n",
      "i havent had ani notic negat side effect but i dont like that i washav been on such a power antibiot for so long\n",
      "\n",
      "==================================\n",
      "i like it but wont be recommend it due to sexual and other side effect\n",
      "\n",
      "==================================\n",
      "i did not experi ani serious side effect except some tired space out feel and on the nd day i did feel veri down not sure if that was becaus of the medic\n",
      "\n",
      "==================================\n",
      "i had no pain urgenc or side effect just a natur urg to go the onli negat side effect i had was painless gas\n",
      "\n",
      "==================================\n",
      "fewer side effect  unfortun the one side effect it did caus is pretti debilit in my case\n",
      "\n",
      "==================================\n",
      "my negat side effect were complet my own fault as i did not watch what i ate one time and regret experienc the effect\n",
      "\n",
      "==================================\n",
      "no side effect other wise but that was enough to scare me away\n",
      "\n",
      "==================================\n"
     ]
    }
   ],
   "source": [
    "for sen in X_wit[y_test_pred.flatten() == 0].sample(10):\n",
    "    print(sen+\"\\n\")\n",
    "    print(\"==================================\")"
   ]
  },
  {
   "cell_type": "code",
   "execution_count": 48,
   "metadata": {},
   "outputs": [],
   "source": [
    "## 5/10 (5.5/10)"
   ]
  },
  {
   "cell_type": "markdown",
   "metadata": {},
   "source": [
    "## predict comments with wit lableled"
   ]
  },
  {
   "cell_type": "code",
   "execution_count": 49,
   "metadata": {},
   "outputs": [],
   "source": [
    "drugsComTrain = pd.read_csv('../drugsCom_raw/drugsComTrain_raw.tsv',sep='\\t',index_col=0)#.sample(40000)\n"
   ]
  },
  {
   "cell_type": "code",
   "execution_count": 50,
   "metadata": {
    "scrolled": false
   },
   "outputs": [],
   "source": [
    "first_quest3 = pd.merge(first_quest2,drugsComTrain,left_index=True,right_index=True,how='left')\n",
    "y_wit = ((first_quest3['value'] == \"negative\")).astype(int)\n",
    "X_wit = clean_text(first_quest3,'review')"
   ]
  },
  {
   "cell_type": "code",
   "execution_count": 51,
   "metadata": {},
   "outputs": [
    {
     "name": "stdout",
     "output_type": "stream",
     "text": [
      "30689/30689 [==============================] - 70s 2ms/step\n"
     ]
    },
    {
     "data": {
      "text/plain": [
       "[1.01989377620357, 0.5524780831323302]"
      ]
     },
     "execution_count": 51,
     "metadata": {},
     "output_type": "execute_result"
    }
   ],
   "source": [
    "X_wit_sequences = tokenizer.texts_to_sequences(X_wit)\n",
    "X_wit_trans = sequence.pad_sequences(X_wit_sequences, maxlen = max_review_length)\n",
    "\n",
    "accr = model.evaluate(X_wit_trans,y_wit, batch_size = 100)\n",
    "accr"
   ]
  },
  {
   "cell_type": "code",
   "execution_count": 52,
   "metadata": {},
   "outputs": [
    {
     "data": {
      "text/plain": [
       "array([[ 3084, 10840],\n",
       "       [ 2894, 13871]])"
      ]
     },
     "execution_count": 52,
     "metadata": {},
     "output_type": "execute_result"
    }
   ],
   "source": [
    "y_test_pred = model.predict_classes(X_wit_trans)\n",
    "confusion_matrix(y_wit,y_test_pred)"
   ]
  },
  {
   "cell_type": "code",
   "execution_count": 53,
   "metadata": {},
   "outputs": [
    {
     "name": "stdout",
     "output_type": "stream",
     "text": [
      "one shot month later side effectsoverlook some as fibromyalgia illsbut when jaw ach and teeth loosenedno more the withdraw or is still side effect make me want to go to er\n",
      "\n",
      "==================================\n",
      "wow read all the comment make me realis i am not alon had mine sinc may the th small side effect sore breast a bit tire week with no bleed then sinc the of may no stop my period use to be veri heav to day straight but with the implant i wear onli small pad i cant complain that much about the bleed no major side effect we are all differ and i am go to give it more chanc i use to wear big pad dure my period you could see the shape on my trouser but now it light and no babi i think i could give it month trial\n",
      "\n",
      "==================================\n",
      "on for month work well so i did not take as much insulin   had one yeast infect that stop after fluconazol i did not lose weight despit eat better with this major side effect of hair loss so i am stop   my number were fine befor this and the hair loss and crappi textur is so not worth itdoctor never mention hair loss as a side effect\n",
      "\n",
      "==================================\n",
      "i never write review on anyth but due to the fact that i was freak out i know most girl are on the same boat i was i look everywher just to read that it actual work and let me you it work as long as it is taken as the direct say i has unprotect sex on dec and and within an hour or hour and a half i was take plan b i did not have side effect after take the pill i was actual worri that it was have no effect on me becaus i felt absolut noth im usual never the kind to get bad cramp when menstruat either way my period was due on jan but instead i got it a day earlier pleas have patienc let the pill do what it doe and youll be fine\n",
      "\n",
      "==================================\n",
      "i have been on remeron now mirtazapin generic for about year now it work great and i have no sexual side effect in that i can easili have an orgasm which other ssris that i tri would not allow\n",
      "\n",
      "==================================\n",
      "i told myself i would review this pill if it work i was freak out becaus it was my first time take the pill and first time a condom ever broke on me the time it broke was near my ovul date too i was tri not to freak out but my symptom didn&rsquot match too mani peopl on here a week and a half befor my expect period my breast becam swollen and tender much more than usual and my nippl were extrem sensit i was break out like crazi too i&rsquom not sure whi i had such intens side effect mayb becaus i&rsquom just over lbs my period end come a coupl day earlier than expect thank \n",
      "\n",
      "==================================\n",
      "it happen dure my fertil time with zero contracept took plan b hour later got my period day later for day then again day later but hey im not pregnant it work no side effect for me other than a light headach hour after take the pill that last a few hour\n",
      "\n",
      "==================================\n",
      "my doc prescrib mg at bedtim to shift my sleep cycl histori of acut anxieti attack w tachycardia and essenti tremor first dose i felt agit anxious and my heart rate went up to it did not help me fall asleep ani earlier next day blur vision and migrain aura thing went downhil from there my doctor said to continu it for at least week and the side effect would go away they did not   thing continu to worsen the tremor increas to where i could not use the comput headach got wors anxieti increas i becam irrit and angri and my blood sugar went through the roof after week i threw it away   blood sugar still high and tremor still wors after quit a month ago\n",
      "\n",
      "==================================\n",
      "i took dose of this today all at onc for chlamydia as i am infect i took mg dose i look on this websit befor take to find out side effect and other peopl experi and i was absolut terrifi of take them but i took them anyway obvious as i want rid of the infect i took them at about oclock this morn and i have had absolut no side effect what so ever no dizzi no stomach pain no diarrhea i have had a bit of nausea but i put that down to be becaus i was hungri so i ate and felt fine i hope that it is as effect as i have been told i will post an updat in a week or two when i receiv result hope they will be negat\n",
      "\n",
      "==================================\n",
      "i was not this drug for a littl over month and boy did it work wonder i had alway had bad acn and noth had seem to work befor topic cream birth control other prescript pill i had sever dri lip and skin it suck but it was toler the wors side effect i had from this drug were mood chang my doctor decid to tri to increas my dose and boy that was a mistak i becam depress suffer mood swing and had some horribl almost suicid thought if you have ani mental ill i would not recommend this drug i had to undergo month blood and pregnanc test as well i am veri happi with the result but those were the worst month of my life\n",
      "\n",
      "==================================\n"
     ]
    }
   ],
   "source": [
    "for sen in X_wit[y_test_pred.flatten() == 1].sample(10):\n",
    "    print(sen+\"\\n\")\n",
    "    print(\"==================================\")"
   ]
  },
  {
   "cell_type": "code",
   "execution_count": 54,
   "metadata": {},
   "outputs": [],
   "source": [
    "## 8/10(7.5/10)"
   ]
  },
  {
   "cell_type": "code",
   "execution_count": 55,
   "metadata": {},
   "outputs": [
    {
     "name": "stdout",
     "output_type": "stream",
     "text": [
      "my experi was horribl side effect it didnt help my pain much and certain didnt shrink my endometriosi got my last month in now sinc i have suffer sever pain in my joint and bone i wouldnt recommend this drug to ani endo girl\n",
      "\n",
      "==================================\n",
      "i will be get th shot next wk thus far i have had no side effect my dexa can show some improv i hope continu as i have had numer broken bone an would be grate for it to work\n",
      "\n",
      "==================================\n",
      "best otc medicin avail with the least side effect mayb a littl sleepi great to take travel\n",
      "\n",
      "==================================\n",
      "it is earli day yet under one month sinc i commenc treatment with questran but there has been mark decreas in daili bowel activ i have had crohn for the past year and all other medic have prove to be larg ineffect i have been concern about the potenti danger side effect that some medicin that are prescrib for this condit may have sinc start this cours of treatment my intak of codein and lomotilimodium has been minim while constip has occur it has been manag without go down this track with four identifi strictur i was look down the barrel of surgeri i am moder confid that at least so far this has been a posit move\n",
      "\n",
      "==================================\n",
      "two week and no side effect will post my number when i get them from today blood draw\n",
      "\n",
      "==================================\n",
      "this medic has lower my blood pressur quit well if fact i have been abl to use the half dose under my doctor recommend quit effect with no side effect\n",
      "\n",
      "==================================\n",
      "use corlanor has brought my rest heart rate from over down to an averag of no side effect veri pleas\n",
      "\n",
      "==================================\n",
      "i am year old and i have alway have had acn i am one of the peopl that have tri everyth under the sun proactiv herbal expens top of the line product and acupunctur until i decid to speak to my wonder dermatologist he has prescrib me monodox twice a day along with epiduo and it has work wonder no side effect ive been on this routin for about two and a half month my skin has never been clear until now it has been sinc late that the monodox has caus my to be nauseous when i take it in the morn sinc i am not a big breakfast person i found that i must take it with a good meal and the nausea has not come back \n",
      "\n",
      "==================================\n",
      "i was prescrib mg to be taken as need for anxieti the first time i took it i onli took half a pill as suggest by my doctor this knock me out i switch to tablet and take it as need befor bed i have taken the medic like this for + year now and have had no problem i have seen a signific decreas in my anxieti and have elev mood or affect the day after take it with the onli side effect be groggi i was take klonopin befor this but hate how addict it was i have intermitt sever anxieti with paranoia and occasion auditori hallucin mania and depress all of which is help by even the super low dose of seroquel\n",
      "\n",
      "==================================\n",
      "i am year old and i have been on the patch for and a half year now no babi and no scare either i live by this patch i have had no side effect apart from my breast grow larger which you cant complain about \n",
      "\n",
      "==================================\n"
     ]
    }
   ],
   "source": [
    "for sen in X_wit[y_test_pred.flatten() == 0].sample(10):\n",
    "    print(sen+\"\\n\")\n",
    "    print(\"==================================\")"
   ]
  },
  {
   "cell_type": "code",
   "execution_count": 56,
   "metadata": {},
   "outputs": [],
   "source": [
    "# 7/10"
   ]
  },
  {
   "cell_type": "markdown",
   "metadata": {},
   "source": [
    "## predict comments without wit lableled"
   ]
  },
  {
   "cell_type": "code",
   "execution_count": 57,
   "metadata": {},
   "outputs": [],
   "source": [
    "test = pd.read_csv(\"../drugsCom_raw/drugsComTest_raw.tsv\",sep='\\t', index_col=0)\n",
    "X_wit = clean_text(test,'review')"
   ]
  },
  {
   "cell_type": "code",
   "execution_count": 58,
   "metadata": {},
   "outputs": [],
   "source": [
    "X_wit_sequences = tokenizer.texts_to_sequences(X_wit)\n",
    "X_wit_trans = sequence.pad_sequences(X_wit_sequences, maxlen = max_review_length)"
   ]
  },
  {
   "cell_type": "code",
   "execution_count": 59,
   "metadata": {},
   "outputs": [],
   "source": [
    "y_test_pred = model.predict_classes(X_wit_trans)"
   ]
  },
  {
   "cell_type": "code",
   "execution_count": 60,
   "metadata": {},
   "outputs": [
    {
     "name": "stdout",
     "output_type": "stream",
     "text": [
      "i was first prescrib this for asperg syndrom at the age of ive been on numer type of medic sinc i was a teenag but this is the first one that ive been on that has signific help my qualiti of life is much better i dont have as mani rumin obsess thought that make me miser\n",
      "\n",
      "==================================\n",
      "hot flash throughout the day moodi and moder depress and moder fatigu\n",
      "\n",
      "==================================\n",
      "i start use this product about a month ago and i start see result immedi i suffer from coars chin hair and would often get ingrown hair that led to scar from constant tweez and irrit i barley have to tweez anymor and when i do the hair are thin and come out veri easi i do not know if this product has skin lighten agent in it but i have also notic that my scar has fade as well after suffer for year and not be abl to leav the hous without make up i am happi to say that becaus of this product i am start g to feel confid in my own skin again i absolut would recommend this product to anyon who could use it i am consist with appli twice a day and am veri happi with it\n",
      "\n",
      "==================================\n",
      "i immedi notic day small problem but by day i was feel veri depress my hip joint was hurt had abdomin pain and i was cri so much my blood pressur also elev so i had to stop take it\n",
      "\n",
      "==================================\n",
      "nitrolingu pumpspray is the best thing to come along in awil it is so more conveni than the nitr pill tast alot better too\n",
      "\n",
      "==================================\n",
      "they say in the packet that there may be some spot but ive had my period for over month on implanon\n",
      "\n",
      "==================================\n",
      "the first time i was prescrib restasi   i was also prescrib a cortison drop and i didnt have ani issu with burn and got complet relief within a few short month i stop take it after month and the eye becam dri again about month later i am back on it again but this time without the cortison drop i am find the burn pretti much continu howev i am again produc tear easili i will ask my doctor to again prescrib cortison drop in addit to the restasi my doctor okd me use each vile for  daysfortun i have insur that cover most of the cost i would high recommend this drug to anyon suffer from chronic dri eye none of the over the counter medic help\n",
      "\n",
      "==================================\n",
      "i have been on viberzi for full day now so far the drug has been just ok for me the first day i had zero bms but i was gassi and the rd day i went x in an hour my normal bad morn the th day i felt great all day no bm though this morn day i have had multipl bowel movement befor take my morn dose it seem for me that my even dose doe not last me well into the morn and i may just have to move the time i take it from or pm to later in the day right now my result are realli mix im not fix at all but over the cours of day ive had more bearabl day than i use to hope continu use is better\n",
      "\n",
      "==================================\n",
      "i just start take this pill to stop menstrual migrain well all i can say i want to get off im a day bleeder and it been day and im still bleed heavi ive had more headach and migrain than usual i want to stop but im go to give it more month hope that this will all subsid finger cross\n",
      "\n",
      "==================================\n",
      "my doctor start me on belviq after a recent visit i was excit to tri this new diet pill hope it would give me the edg to begin lose weight unfortun after a month and a half i have fail to lose ani weight i hope other have better luck\n",
      "\n",
      "==================================\n"
     ]
    }
   ],
   "source": [
    "for sen in X_wit[y_test_pred.flatten() == 1].sample(10):\n",
    "    print(sen+\"\\n\")\n",
    "    print(\"==================================\")"
   ]
  },
  {
   "cell_type": "code",
   "execution_count": 61,
   "metadata": {},
   "outputs": [
    {
     "name": "stdout",
     "output_type": "stream",
     "text": [
      "been take zomig for about a year for common migrain without aura i think i never know if a serious migrain is come on but zomig seem to work for it all i break the mg pill in half at first if it not bad then take a whole mg pill if i wake up to a headach the next day my headach use to last  day switch side imetrex seem to work but it made my arm and chest feel heavi zomig has less side effect and seem to work just as well i do have a few side effect but i associ them with relief so they dont realli bother me a pill will put me out and ill sleep realli well my skin get sensit to temperatur shower will sting a littl and as soon as the headach subsid ill feel a littl euphor\n",
      "\n",
      "==================================\n",
      "hi there can somebodi pleas help me as ive been on citalopram mg for day now do feel a littl bit better but not there yet i want to be my self again as ive got no control over my mind feel like im go crazi can some bodi pleas let me know\n",
      "\n",
      "==================================\n",
      "it work and no side effect that i notic\n",
      "\n",
      "==================================\n",
      "honest everi woman is differ i am current year old and i insert implanon when i was and so far all i have to say is just tri it it easi to forget you have it and it protect you % i did have much side effect such as heavi bleed horribl menstrual cramp and low sex drive but in all honest everi woman is differ tri it it work and it an amaz option of birth control\n",
      "\n",
      "==================================\n",
      "i have been on darvocet n for about year for rheumatoid arthriti it has control most of the pain except when im in a full fledg flare up i take it with methotrex which control my arthriti and now my insur compani has deni to pay for it i did send a letter from my doctor and they still deni it i know this drug work for me and they suggest i chang to percocet which they pay for and it doesnt work so guess i just endur the pain thank darvocet for the pain free year\n",
      "\n",
      "==================================\n",
      "i took ortho tri cyclen lo for a year dure which i was have intercours veri regular it was the onli form of birth control i use and although i did miss a few pill my menstrual cycl was alway on time although i often light bled dure the third week as well it had the ad benefit of clear up all of my acn when previous i would get zit on my chin forehead and back the side effect were mild a nauseous feel when i first woke up and constant vagin dryness\n",
      "\n",
      "==================================\n",
      "i took ortho tri cyclen from when i was  year old the first time and i recent start take it again month ago both time i experienc an increas in cup size ~cup which was nice but i think part of that is connect to weight gain after i switch to a differ birth control the first time i drop about lbs over the cours of a few month i then stop the other birth control becaus i was have some bad side effect and drop anoth addit lbs but on the downsid my breast size decreas to an a the size it was when i was prior to take ortho tri cyclen now that i have been take it for two month i have definit not felt like myself and have been depress &amp unabl to concentr and have gain lbs\n",
      "\n",
      "==================================\n",
      "tri all the benzodiazepin with no luck then they tri buspar and it chang my life\n",
      "\n",
      "==================================\n",
      "year oid femal   within three day of take this medic day at lowest dosag i was suicid depress but no previous histori of suicid tendenc there were no other chang in my life other than this medic i recov quick after stop take focalin i also had strong negat reaction to vyvans doc said there was someth unusu about how my bodi metabol this particular medic concerta has done well for me consid ritalin sr due to cost\n",
      "\n",
      "==================================\n",
      "for the past year i have been suffer from premenstru dysphor disord pmdd it affect my life in all aspect i final found a solut to my disord i take zoloft x mg pill everyday and week befor my period i take pill mg i never felt better\n",
      "\n",
      "==================================\n"
     ]
    }
   ],
   "source": [
    "for sen in X_wit[y_test_pred.flatten() == 0].sample(10):\n",
    "    print(sen+\"\\n\")\n",
    "    print(\"==================================\")"
   ]
  },
  {
   "cell_type": "code",
   "execution_count": 62,
   "metadata": {},
   "outputs": [],
   "source": [
    "## 7/10 (6.5/10)"
   ]
  },
  {
   "cell_type": "code",
   "execution_count": null,
   "metadata": {},
   "outputs": [],
   "source": []
  },
  {
   "cell_type": "code",
   "execution_count": null,
   "metadata": {},
   "outputs": [],
   "source": []
  },
  {
   "cell_type": "code",
   "execution_count": null,
   "metadata": {},
   "outputs": [],
   "source": []
  },
  {
   "cell_type": "code",
   "execution_count": null,
   "metadata": {},
   "outputs": [],
   "source": []
  },
  {
   "cell_type": "code",
   "execution_count": null,
   "metadata": {},
   "outputs": [],
   "source": []
  },
  {
   "cell_type": "code",
   "execution_count": null,
   "metadata": {},
   "outputs": [],
   "source": []
  }
 ],
 "metadata": {
  "kernelspec": {
   "display_name": "Environment (conda_amazonei_tensorflow_p36)",
   "language": "python",
   "name": "conda_amazonei_tensorflow_p36"
  },
  "language_info": {
   "codemirror_mode": {
    "name": "ipython",
    "version": 3
   },
   "file_extension": ".py",
   "mimetype": "text/x-python",
   "name": "python",
   "nbconvert_exporter": "python",
   "pygments_lexer": "ipython3",
   "version": "3.6.5"
  }
 },
 "nbformat": 4,
 "nbformat_minor": 2
}
